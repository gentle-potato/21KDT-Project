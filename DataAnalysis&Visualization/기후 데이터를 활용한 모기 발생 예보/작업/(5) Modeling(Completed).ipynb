{
 "cells": [
  {
   "cell_type": "markdown",
   "id": "be5e5cd9-6cd5-41fd-9845-9eafbb92348e",
   "metadata": {},
   "source": [
    "## Reading Data"
   ]
  },
  {
   "cell_type": "code",
   "execution_count": 1,
   "id": "63a1a8f1-8ebb-412a-b937-500cb513563d",
   "metadata": {},
   "outputs": [],
   "source": [
    "import pandas as pd\n",
    "import numpy as np\n",
    "import datetime"
   ]
  },
  {
   "cell_type": "code",
   "execution_count": 2,
   "id": "4de38345-9ae5-4be5-a727-71ea56a52a65",
   "metadata": {},
   "outputs": [
    {
     "data": {
      "text/html": [
       "<div>\n",
       "<style scoped>\n",
       "    .dataframe tbody tr th:only-of-type {\n",
       "        vertical-align: middle;\n",
       "    }\n",
       "\n",
       "    .dataframe tbody tr th {\n",
       "        vertical-align: top;\n",
       "    }\n",
       "\n",
       "    .dataframe thead th {\n",
       "        text-align: right;\n",
       "    }\n",
       "</style>\n",
       "<table border=\"1\" class=\"dataframe\">\n",
       "  <thead>\n",
       "    <tr style=\"text-align: right;\">\n",
       "      <th></th>\n",
       "      <th>date</th>\n",
       "      <th>mosquito</th>\n",
       "      <th>temp</th>\n",
       "      <th>rain_per_day</th>\n",
       "      <th>accum_rain</th>\n",
       "      <th>wind</th>\n",
       "      <th>humidity</th>\n",
       "      <th>sunshine</th>\n",
       "    </tr>\n",
       "  </thead>\n",
       "  <tbody>\n",
       "    <tr>\n",
       "      <th>0</th>\n",
       "      <td>2015-04-06</td>\n",
       "      <td>199</td>\n",
       "      <td>12.214286</td>\n",
       "      <td>5.285714</td>\n",
       "      <td>0</td>\n",
       "      <td>3.371429</td>\n",
       "      <td>68.757143</td>\n",
       "      <td>8.880000</td>\n",
       "    </tr>\n",
       "    <tr>\n",
       "      <th>1</th>\n",
       "      <td>2015-04-07</td>\n",
       "      <td>146</td>\n",
       "      <td>11.571429</td>\n",
       "      <td>4.928571</td>\n",
       "      <td>0</td>\n",
       "      <td>3.428571</td>\n",
       "      <td>65.742857</td>\n",
       "      <td>9.891429</td>\n",
       "    </tr>\n",
       "    <tr>\n",
       "      <th>2</th>\n",
       "      <td>2015-04-08</td>\n",
       "      <td>90</td>\n",
       "      <td>10.914286</td>\n",
       "      <td>4.571429</td>\n",
       "      <td>0</td>\n",
       "      <td>3.257143</td>\n",
       "      <td>63.542857</td>\n",
       "      <td>9.927143</td>\n",
       "    </tr>\n",
       "    <tr>\n",
       "      <th>3</th>\n",
       "      <td>2015-04-09</td>\n",
       "      <td>172</td>\n",
       "      <td>10.171429</td>\n",
       "      <td>0.571429</td>\n",
       "      <td>0</td>\n",
       "      <td>2.871429</td>\n",
       "      <td>59.614286</td>\n",
       "      <td>10.884286</td>\n",
       "    </tr>\n",
       "    <tr>\n",
       "      <th>4</th>\n",
       "      <td>2015-04-10</td>\n",
       "      <td>249</td>\n",
       "      <td>10.314286</td>\n",
       "      <td>0.071429</td>\n",
       "      <td>0</td>\n",
       "      <td>2.871429</td>\n",
       "      <td>53.485714</td>\n",
       "      <td>12.777143</td>\n",
       "    </tr>\n",
       "    <tr>\n",
       "      <th>...</th>\n",
       "      <td>...</td>\n",
       "      <td>...</td>\n",
       "      <td>...</td>\n",
       "      <td>...</td>\n",
       "      <td>...</td>\n",
       "      <td>...</td>\n",
       "      <td>...</td>\n",
       "      <td>...</td>\n",
       "    </tr>\n",
       "    <tr>\n",
       "      <th>1168</th>\n",
       "      <td>2020-10-27</td>\n",
       "      <td>535</td>\n",
       "      <td>11.942857</td>\n",
       "      <td>0.000000</td>\n",
       "      <td>0</td>\n",
       "      <td>2.185714</td>\n",
       "      <td>63.242857</td>\n",
       "      <td>12.734286</td>\n",
       "    </tr>\n",
       "    <tr>\n",
       "      <th>1169</th>\n",
       "      <td>2020-10-28</td>\n",
       "      <td>884</td>\n",
       "      <td>11.900000</td>\n",
       "      <td>0.000000</td>\n",
       "      <td>0</td>\n",
       "      <td>2.271429</td>\n",
       "      <td>60.771429</td>\n",
       "      <td>14.241429</td>\n",
       "    </tr>\n",
       "    <tr>\n",
       "      <th>1170</th>\n",
       "      <td>2020-10-29</td>\n",
       "      <td>695</td>\n",
       "      <td>11.514286</td>\n",
       "      <td>0.000000</td>\n",
       "      <td>0</td>\n",
       "      <td>2.157143</td>\n",
       "      <td>57.100000</td>\n",
       "      <td>14.635714</td>\n",
       "    </tr>\n",
       "    <tr>\n",
       "      <th>1171</th>\n",
       "      <td>2020-10-30</td>\n",
       "      <td>543</td>\n",
       "      <td>11.985714</td>\n",
       "      <td>0.000000</td>\n",
       "      <td>0</td>\n",
       "      <td>1.942857</td>\n",
       "      <td>55.871429</td>\n",
       "      <td>14.294286</td>\n",
       "    </tr>\n",
       "    <tr>\n",
       "      <th>1172</th>\n",
       "      <td>2020-10-31</td>\n",
       "      <td>454</td>\n",
       "      <td>12.685714</td>\n",
       "      <td>0.000000</td>\n",
       "      <td>0</td>\n",
       "      <td>1.957143</td>\n",
       "      <td>57.685714</td>\n",
       "      <td>13.491429</td>\n",
       "    </tr>\n",
       "  </tbody>\n",
       "</table>\n",
       "<p>1173 rows × 8 columns</p>\n",
       "</div>"
      ],
      "text/plain": [
       "            date  mosquito       temp  rain_per_day  accum_rain      wind  \\\n",
       "0     2015-04-06       199  12.214286      5.285714           0  3.371429   \n",
       "1     2015-04-07       146  11.571429      4.928571           0  3.428571   \n",
       "2     2015-04-08        90  10.914286      4.571429           0  3.257143   \n",
       "3     2015-04-09       172  10.171429      0.571429           0  2.871429   \n",
       "4     2015-04-10       249  10.314286      0.071429           0  2.871429   \n",
       "...          ...       ...        ...           ...         ...       ...   \n",
       "1168  2020-10-27       535  11.942857      0.000000           0  2.185714   \n",
       "1169  2020-10-28       884  11.900000      0.000000           0  2.271429   \n",
       "1170  2020-10-29       695  11.514286      0.000000           0  2.157143   \n",
       "1171  2020-10-30       543  11.985714      0.000000           0  1.942857   \n",
       "1172  2020-10-31       454  12.685714      0.000000           0  1.957143   \n",
       "\n",
       "       humidity   sunshine  \n",
       "0     68.757143   8.880000  \n",
       "1     65.742857   9.891429  \n",
       "2     63.542857   9.927143  \n",
       "3     59.614286  10.884286  \n",
       "4     53.485714  12.777143  \n",
       "...         ...        ...  \n",
       "1168  63.242857  12.734286  \n",
       "1169  60.771429  14.241429  \n",
       "1170  57.100000  14.635714  \n",
       "1171  55.871429  14.294286  \n",
       "1172  57.685714  13.491429  \n",
       "\n",
       "[1173 rows x 8 columns]"
      ]
     },
     "execution_count": 2,
     "metadata": {},
     "output_type": "execute_result"
    }
   ],
   "source": [
    "# 데이터 세트 로드\n",
    "mosquitoDF = pd.read_csv('4. dms_seoul_avg.csv')\n",
    "\n",
    "mosquitoDF"
   ]
  },
  {
   "cell_type": "code",
   "execution_count": 3,
   "id": "ef03e285-ca3f-4180-81ac-d5c41951d749",
   "metadata": {},
   "outputs": [],
   "source": [
    "# pd.to_datetime(mosquitoDF['date'])"
   ]
  },
  {
   "cell_type": "code",
   "execution_count": null,
   "id": "cca24226-b281-4fe6-8352-b2d207bd3d94",
   "metadata": {},
   "outputs": [],
   "source": []
  },
  {
   "cell_type": "markdown",
   "id": "ac843f54-2186-4bbc-afa6-5eaf289c45c9",
   "metadata": {},
   "source": [
    "## Setting Target Variable & Seperating Train-Test Set"
   ]
  },
  {
   "cell_type": "code",
   "execution_count": 4,
   "id": "6cfad46e-cf1f-48d2-9dd8-f88b00b5bed3",
   "metadata": {},
   "outputs": [],
   "source": [
    "# 목표변수 설정\n",
    "y_target = mosquitoDF['mosquito']\n",
    "X_data = mosquitoDF.drop(['mosquito'], axis=1)"
   ]
  },
  {
   "cell_type": "code",
   "execution_count": 5,
   "id": "a26297e6-2836-400a-a4d8-db028f29b7bd",
   "metadata": {},
   "outputs": [],
   "source": [
    "# Train-Test Set 분리\n",
    "from sklearn.model_selection import train_test_split\n",
    "\n",
    "X_train, X_test, y_train, y_test = train_test_split(X_data, y_target, test_size=0.2, random_state=0)"
   ]
  },
  {
   "cell_type": "code",
   "execution_count": 6,
   "id": "98101f45-3bc9-45a8-baae-664225142397",
   "metadata": {},
   "outputs": [
    {
     "data": {
      "text/html": [
       "<div>\n",
       "<style scoped>\n",
       "    .dataframe tbody tr th:only-of-type {\n",
       "        vertical-align: middle;\n",
       "    }\n",
       "\n",
       "    .dataframe tbody tr th {\n",
       "        vertical-align: top;\n",
       "    }\n",
       "\n",
       "    .dataframe thead th {\n",
       "        text-align: right;\n",
       "    }\n",
       "</style>\n",
       "<table border=\"1\" class=\"dataframe\">\n",
       "  <thead>\n",
       "    <tr style=\"text-align: right;\">\n",
       "      <th></th>\n",
       "      <th>date</th>\n",
       "      <th>temp</th>\n",
       "      <th>rain_per_day</th>\n",
       "      <th>accum_rain</th>\n",
       "      <th>wind</th>\n",
       "      <th>humidity</th>\n",
       "      <th>sunshine</th>\n",
       "    </tr>\n",
       "  </thead>\n",
       "  <tbody>\n",
       "    <tr>\n",
       "      <th>1042</th>\n",
       "      <td>2020-06-23</td>\n",
       "      <td>25.614286</td>\n",
       "      <td>0.014286</td>\n",
       "      <td>0</td>\n",
       "      <td>1.957143</td>\n",
       "      <td>58.214286</td>\n",
       "      <td>21.477143</td>\n",
       "    </tr>\n",
       "    <tr>\n",
       "      <th>1097</th>\n",
       "      <td>2020-08-17</td>\n",
       "      <td>26.942857</td>\n",
       "      <td>23.771429</td>\n",
       "      <td>0</td>\n",
       "      <td>2.471429</td>\n",
       "      <td>85.914286</td>\n",
       "      <td>9.878571</td>\n",
       "    </tr>\n",
       "    <tr>\n",
       "      <th>858</th>\n",
       "      <td>2019-06-23</td>\n",
       "      <td>22.557143</td>\n",
       "      <td>2.028571</td>\n",
       "      <td>0</td>\n",
       "      <td>1.800000</td>\n",
       "      <td>63.100000</td>\n",
       "      <td>19.191429</td>\n",
       "    </tr>\n",
       "    <tr>\n",
       "      <th>772</th>\n",
       "      <td>2018-10-15</td>\n",
       "      <td>12.685714</td>\n",
       "      <td>1.000000</td>\n",
       "      <td>0</td>\n",
       "      <td>1.557143</td>\n",
       "      <td>57.485714</td>\n",
       "      <td>13.771429</td>\n",
       "    </tr>\n",
       "    <tr>\n",
       "      <th>97</th>\n",
       "      <td>2015-07-12</td>\n",
       "      <td>26.457143</td>\n",
       "      <td>4.214286</td>\n",
       "      <td>29</td>\n",
       "      <td>2.728571</td>\n",
       "      <td>64.685714</td>\n",
       "      <td>14.647143</td>\n",
       "    </tr>\n",
       "    <tr>\n",
       "      <th>...</th>\n",
       "      <td>...</td>\n",
       "      <td>...</td>\n",
       "      <td>...</td>\n",
       "      <td>...</td>\n",
       "      <td>...</td>\n",
       "      <td>...</td>\n",
       "      <td>...</td>\n",
       "    </tr>\n",
       "    <tr>\n",
       "      <th>1033</th>\n",
       "      <td>2020-06-14</td>\n",
       "      <td>25.600000</td>\n",
       "      <td>1.042857</td>\n",
       "      <td>1</td>\n",
       "      <td>2.157143</td>\n",
       "      <td>62.757143</td>\n",
       "      <td>23.072857</td>\n",
       "    </tr>\n",
       "    <tr>\n",
       "      <th>763</th>\n",
       "      <td>2018-10-06</td>\n",
       "      <td>17.200000</td>\n",
       "      <td>13.142857</td>\n",
       "      <td>92</td>\n",
       "      <td>1.900000</td>\n",
       "      <td>64.514286</td>\n",
       "      <td>13.551429</td>\n",
       "    </tr>\n",
       "    <tr>\n",
       "      <th>835</th>\n",
       "      <td>2019-05-31</td>\n",
       "      <td>20.400000</td>\n",
       "      <td>1.014286</td>\n",
       "      <td>0</td>\n",
       "      <td>2.228571</td>\n",
       "      <td>51.057143</td>\n",
       "      <td>21.314286</td>\n",
       "    </tr>\n",
       "    <tr>\n",
       "      <th>559</th>\n",
       "      <td>2017-09-17</td>\n",
       "      <td>22.114286</td>\n",
       "      <td>3.428571</td>\n",
       "      <td>0</td>\n",
       "      <td>2.442857</td>\n",
       "      <td>55.300000</td>\n",
       "      <td>18.250000</td>\n",
       "    </tr>\n",
       "    <tr>\n",
       "      <th>684</th>\n",
       "      <td>2018-07-19</td>\n",
       "      <td>28.171429</td>\n",
       "      <td>0.000000</td>\n",
       "      <td>0</td>\n",
       "      <td>1.700000</td>\n",
       "      <td>67.671429</td>\n",
       "      <td>23.600000</td>\n",
       "    </tr>\n",
       "  </tbody>\n",
       "</table>\n",
       "<p>938 rows × 7 columns</p>\n",
       "</div>"
      ],
      "text/plain": [
       "            date       temp  rain_per_day  accum_rain      wind   humidity  \\\n",
       "1042  2020-06-23  25.614286      0.014286           0  1.957143  58.214286   \n",
       "1097  2020-08-17  26.942857     23.771429           0  2.471429  85.914286   \n",
       "858   2019-06-23  22.557143      2.028571           0  1.800000  63.100000   \n",
       "772   2018-10-15  12.685714      1.000000           0  1.557143  57.485714   \n",
       "97    2015-07-12  26.457143      4.214286          29  2.728571  64.685714   \n",
       "...          ...        ...           ...         ...       ...        ...   \n",
       "1033  2020-06-14  25.600000      1.042857           1  2.157143  62.757143   \n",
       "763   2018-10-06  17.200000     13.142857          92  1.900000  64.514286   \n",
       "835   2019-05-31  20.400000      1.014286           0  2.228571  51.057143   \n",
       "559   2017-09-17  22.114286      3.428571           0  2.442857  55.300000   \n",
       "684   2018-07-19  28.171429      0.000000           0  1.700000  67.671429   \n",
       "\n",
       "       sunshine  \n",
       "1042  21.477143  \n",
       "1097   9.878571  \n",
       "858   19.191429  \n",
       "772   13.771429  \n",
       "97    14.647143  \n",
       "...         ...  \n",
       "1033  23.072857  \n",
       "763   13.551429  \n",
       "835   21.314286  \n",
       "559   18.250000  \n",
       "684   23.600000  \n",
       "\n",
       "[938 rows x 7 columns]"
      ]
     },
     "execution_count": 6,
     "metadata": {},
     "output_type": "execute_result"
    }
   ],
   "source": [
    "X_train"
   ]
  },
  {
   "cell_type": "code",
   "execution_count": 7,
   "id": "7fd05adb-bd2b-48ed-8b59-5928a29a2a18",
   "metadata": {},
   "outputs": [],
   "source": [
    "train = pd.concat([X_train, y_train], axis=1)\n",
    "\n",
    "train.to_csv('(((1))) train.csv', index=False)"
   ]
  },
  {
   "cell_type": "code",
   "execution_count": null,
   "id": "bd2be371-29a7-4670-994c-7df3d4c699a9",
   "metadata": {},
   "outputs": [],
   "source": []
  },
  {
   "cell_type": "markdown",
   "id": "3574f84d-ebe5-4639-a68e-1f0094800cf8",
   "metadata": {},
   "source": [
    "## Standardization"
   ]
  },
  {
   "cell_type": "code",
   "execution_count": 8,
   "id": "33f05966-6a5b-4133-89f2-a7ae73e70181",
   "metadata": {},
   "outputs": [
    {
     "data": {
      "text/plain": [
       "0    2015-04-06\n",
       "1    2015-04-07\n",
       "2    2015-04-08\n",
       "3    2015-04-09\n",
       "4    2015-04-10\n",
       "Name: date, dtype: object"
      ]
     },
     "execution_count": 8,
     "metadata": {},
     "output_type": "execute_result"
    }
   ],
   "source": [
    "date = mosquitoDF['date']\n",
    "mosquitoDF.drop(['date'], axis=1, inplace=True)\n",
    "\n",
    "date.head()"
   ]
  },
  {
   "cell_type": "code",
   "execution_count": 9,
   "id": "64d02184-4e47-41da-bd18-d3e75cd1c4d8",
   "metadata": {},
   "outputs": [
    {
     "name": "stderr",
     "output_type": "stream",
     "text": [
      "C:\\Users\\khl06\\anaconda3\\envs\\multi\\lib\\site-packages\\pandas\\core\\frame.py:4308: SettingWithCopyWarning: \n",
      "A value is trying to be set on a copy of a slice from a DataFrame\n",
      "\n",
      "See the caveats in the documentation: https://pandas.pydata.org/pandas-docs/stable/user_guide/indexing.html#returning-a-view-versus-a-copy\n",
      "  return super().drop(\n"
     ]
    }
   ],
   "source": [
    "train_date = train['date']\n",
    "train.drop(['date'], axis=1, inplace=True)\n",
    "X_train.drop(['date'], axis=1, inplace=True)\n",
    "test_date = X_test['date']\n",
    "X_test.drop(['date'], axis=1, inplace=True)"
   ]
  },
  {
   "cell_type": "code",
   "execution_count": 10,
   "id": "7bad7c6c-51b0-4c23-8c41-dd56be5d1142",
   "metadata": {},
   "outputs": [],
   "source": [
    "test = pd.concat([X_test, y_test], axis=1)\n",
    "\n",
    "test.to_csv('(((2))) test.csv', index=False)\n",
    "X_test.to_csv('(((2))) X_test.csv', index=False)\n",
    "y_test.to_csv('(((2))) y_test.csv', index=False)"
   ]
  },
  {
   "cell_type": "code",
   "execution_count": 11,
   "id": "14da59b5-5f3a-4127-94a3-5bd97e8317ad",
   "metadata": {},
   "outputs": [],
   "source": [
    "from sklearn.preprocessing import StandardScaler\n",
    "\n",
    "sc = StandardScaler()\n",
    "train_sc = sc.fit_transform(train)\n",
    "columns = ['temp', 'rain_per_day', 'accum_rain', 'wind', 'humidity', 'sunshine', 'mosquito']\n",
    "train_sc = pd.DataFrame(train_sc, columns=columns)\n",
    "\n",
    "X_train_sc = train_sc.drop(['mosquito'], axis=1)\n",
    "y_train_sc = train_sc['mosquito']"
   ]
  },
  {
   "cell_type": "code",
   "execution_count": 12,
   "id": "58563bc0-0cae-4e32-b634-0d39e32c9d7b",
   "metadata": {},
   "outputs": [
    {
     "data": {
      "text/html": [
       "<div>\n",
       "<style scoped>\n",
       "    .dataframe tbody tr th:only-of-type {\n",
       "        vertical-align: middle;\n",
       "    }\n",
       "\n",
       "    .dataframe tbody tr th {\n",
       "        vertical-align: top;\n",
       "    }\n",
       "\n",
       "    .dataframe thead th {\n",
       "        text-align: right;\n",
       "    }\n",
       "</style>\n",
       "<table border=\"1\" class=\"dataframe\">\n",
       "  <thead>\n",
       "    <tr style=\"text-align: right;\">\n",
       "      <th></th>\n",
       "      <th>temp</th>\n",
       "      <th>rain_per_day</th>\n",
       "      <th>accum_rain</th>\n",
       "      <th>wind</th>\n",
       "      <th>humidity</th>\n",
       "      <th>sunshine</th>\n",
       "    </tr>\n",
       "  </thead>\n",
       "  <tbody>\n",
       "    <tr>\n",
       "      <th>0</th>\n",
       "      <td>0.825365</td>\n",
       "      <td>-0.641642</td>\n",
       "      <td>-0.350165</td>\n",
       "      <td>-0.405523</td>\n",
       "      <td>-0.496914</td>\n",
       "      <td>1.321576</td>\n",
       "    </tr>\n",
       "    <tr>\n",
       "      <th>1</th>\n",
       "      <td>1.105510</td>\n",
       "      <td>2.639964</td>\n",
       "      <td>-0.350165</td>\n",
       "      <td>0.690076</td>\n",
       "      <td>2.227155</td>\n",
       "      <td>-1.352627</td>\n",
       "    </tr>\n",
       "    <tr>\n",
       "      <th>2</th>\n",
       "      <td>0.180732</td>\n",
       "      <td>-0.363406</td>\n",
       "      <td>-0.350165</td>\n",
       "      <td>-0.740290</td>\n",
       "      <td>-0.016444</td>\n",
       "      <td>0.794575</td>\n",
       "    </tr>\n",
       "    <tr>\n",
       "      <th>3</th>\n",
       "      <td>-1.900771</td>\n",
       "      <td>-0.505484</td>\n",
       "      <td>-0.350165</td>\n",
       "      <td>-1.257656</td>\n",
       "      <td>-0.568563</td>\n",
       "      <td>-0.455078</td>\n",
       "    </tr>\n",
       "    <tr>\n",
       "      <th>4</th>\n",
       "      <td>1.003091</td>\n",
       "      <td>-0.061490</td>\n",
       "      <td>0.965651</td>\n",
       "      <td>1.237876</td>\n",
       "      <td>0.139498</td>\n",
       "      <td>-0.253170</td>\n",
       "    </tr>\n",
       "  </tbody>\n",
       "</table>\n",
       "</div>"
      ],
      "text/plain": [
       "       temp  rain_per_day  accum_rain      wind  humidity  sunshine\n",
       "0  0.825365     -0.641642   -0.350165 -0.405523 -0.496914  1.321576\n",
       "1  1.105510      2.639964   -0.350165  0.690076  2.227155 -1.352627\n",
       "2  0.180732     -0.363406   -0.350165 -0.740290 -0.016444  0.794575\n",
       "3 -1.900771     -0.505484   -0.350165 -1.257656 -0.568563 -0.455078\n",
       "4  1.003091     -0.061490    0.965651  1.237876  0.139498 -0.253170"
      ]
     },
     "execution_count": 12,
     "metadata": {},
     "output_type": "execute_result"
    }
   ],
   "source": [
    "X_train_sc.head()"
   ]
  },
  {
   "cell_type": "code",
   "execution_count": 13,
   "id": "6bfad25f-56ee-4a93-8654-9a9561d4fc41",
   "metadata": {},
   "outputs": [
    {
     "data": {
      "text/plain": [
       "0   -0.376857\n",
       "1    0.054052\n",
       "2    0.058380\n",
       "3   -1.033648\n",
       "4    0.970962\n",
       "Name: mosquito, dtype: float64"
      ]
     },
     "execution_count": 13,
     "metadata": {},
     "output_type": "execute_result"
    }
   ],
   "source": [
    "y_train_sc.head()"
   ]
  },
  {
   "cell_type": "code",
   "execution_count": null,
   "id": "6c13c556-90f2-42d6-a97b-4893cbd131d6",
   "metadata": {},
   "outputs": [],
   "source": []
  },
  {
   "cell_type": "markdown",
   "id": "2f5997d6-755a-478e-a361-b14aaabae315",
   "metadata": {},
   "source": [
    "## Training LGBM & GBR & RFR"
   ]
  },
  {
   "cell_type": "code",
   "execution_count": 14,
   "id": "3fc2692a-ca00-4dd7-9735-35fc7dba02bd",
   "metadata": {},
   "outputs": [],
   "source": [
    "from sklearn.metrics import mean_absolute_error, mean_squared_error, r2_score\n",
    "\n",
    "from lightgbm import LGBMRegressor\n",
    "from sklearn.ensemble import GradientBoostingRegressor\n",
    "from sklearn.ensemble import RandomForestRegressor"
   ]
  },
  {
   "cell_type": "code",
   "execution_count": 15,
   "id": "aefeb495-dc32-4fa7-8a38-a1d63980992b",
   "metadata": {},
   "outputs": [],
   "source": [
    "X_test_sc = pd.read_csv('(((2))) X_test-1.csv')\n",
    "y_test_sc = pd.read_csv('(((2))) y_test-1.csv')"
   ]
  },
  {
   "cell_type": "markdown",
   "id": "4f6f643e-5d7d-4462-9427-93b2d2bf5b6a",
   "metadata": {},
   "source": [
    "### 1. LGBM(Light Gradient Boosting Machine)"
   ]
  },
  {
   "cell_type": "code",
   "execution_count": 16,
   "id": "db700844-eaae-4d1e-9a0d-01483810343d",
   "metadata": {},
   "outputs": [
    {
     "name": "stdout",
     "output_type": "stream",
     "text": [
      "MAE : 0.427\n",
      "MSE : 0.402\n",
      "RMSE : 0.634\n",
      "R2 : 0.383\n"
     ]
    }
   ],
   "source": [
    "lgb_reg = LGBMRegressor(boosting_type='gbdt', class_weight=None, colsample_bytree=1.0,\n",
    "               importance_type='split', learning_rate=0.1, max_depth=7,\n",
    "               min_child_samples=20, min_child_weight=0.001, min_split_gain=0.0,\n",
    "               n_estimators=10, n_jobs=-1, num_leaves=31, objective=None,\n",
    "               random_state=0, reg_alpha=0.0, reg_lambda=0.0, silent=True,\n",
    "               subsample=1.0, subsample_for_bin=200000, subsample_freq=0)\n",
    "\n",
    "lgb_reg.fit(X_train_sc, y_train_sc)\n",
    "\n",
    "y_preds_lgb = lgb_reg.predict(X_test_sc)\n",
    "print('MAE : {:.3f}'.format(mean_absolute_error(y_test_sc, y_preds_lgb)))\n",
    "print('MSE : {:.3f}'.format(mean_squared_error(y_test_sc, y_preds_lgb)))\n",
    "print('RMSE : {:.3f}'.format(np.sqrt(mean_squared_error(y_test_sc, y_preds_lgb))))\n",
    "print('R2 : {:.3f}'.format(r2_score(y_test_sc, y_preds_lgb)))"
   ]
  },
  {
   "cell_type": "code",
   "execution_count": 17,
   "id": "58ee2338-894b-464d-847b-cda64f19dcac",
   "metadata": {},
   "outputs": [
    {
     "data": {
      "text/html": [
       "<div>\n",
       "<style scoped>\n",
       "    .dataframe tbody tr th:only-of-type {\n",
       "        vertical-align: middle;\n",
       "    }\n",
       "\n",
       "    .dataframe tbody tr th {\n",
       "        vertical-align: top;\n",
       "    }\n",
       "\n",
       "    .dataframe thead th {\n",
       "        text-align: right;\n",
       "    }\n",
       "</style>\n",
       "<table border=\"1\" class=\"dataframe\">\n",
       "  <thead>\n",
       "    <tr style=\"text-align: right;\">\n",
       "      <th></th>\n",
       "      <th>LGBM</th>\n",
       "    </tr>\n",
       "  </thead>\n",
       "  <tbody>\n",
       "    <tr>\n",
       "      <th>0</th>\n",
       "      <td>0.164910</td>\n",
       "    </tr>\n",
       "    <tr>\n",
       "      <th>1</th>\n",
       "      <td>-0.491594</td>\n",
       "    </tr>\n",
       "    <tr>\n",
       "      <th>2</th>\n",
       "      <td>-0.503925</td>\n",
       "    </tr>\n",
       "    <tr>\n",
       "      <th>3</th>\n",
       "      <td>1.083738</td>\n",
       "    </tr>\n",
       "    <tr>\n",
       "      <th>4</th>\n",
       "      <td>-0.488933</td>\n",
       "    </tr>\n",
       "    <tr>\n",
       "      <th>...</th>\n",
       "      <td>...</td>\n",
       "    </tr>\n",
       "    <tr>\n",
       "      <th>230</th>\n",
       "      <td>0.220057</td>\n",
       "    </tr>\n",
       "    <tr>\n",
       "      <th>231</th>\n",
       "      <td>0.236710</td>\n",
       "    </tr>\n",
       "    <tr>\n",
       "      <th>232</th>\n",
       "      <td>-0.548536</td>\n",
       "    </tr>\n",
       "    <tr>\n",
       "      <th>233</th>\n",
       "      <td>0.714130</td>\n",
       "    </tr>\n",
       "    <tr>\n",
       "      <th>234</th>\n",
       "      <td>-0.482578</td>\n",
       "    </tr>\n",
       "  </tbody>\n",
       "</table>\n",
       "<p>235 rows × 1 columns</p>\n",
       "</div>"
      ],
      "text/plain": [
       "         LGBM\n",
       "0    0.164910\n",
       "1   -0.491594\n",
       "2   -0.503925\n",
       "3    1.083738\n",
       "4   -0.488933\n",
       "..        ...\n",
       "230  0.220057\n",
       "231  0.236710\n",
       "232 -0.548536\n",
       "233  0.714130\n",
       "234 -0.482578\n",
       "\n",
       "[235 rows x 1 columns]"
      ]
     },
     "execution_count": 17,
     "metadata": {},
     "output_type": "execute_result"
    }
   ],
   "source": [
    "y_preds_lgb = pd.DataFrame(y_preds_lgb, columns=['LGBM'])\n",
    "\n",
    "y_preds_lgb"
   ]
  },
  {
   "cell_type": "code",
   "execution_count": 18,
   "id": "a6fde915-e4ba-4363-a595-639dbf18fe9f",
   "metadata": {},
   "outputs": [],
   "source": [
    "y_preds_lgb.to_csv('[[[1]]] y_preds_lgb.csv', index=False)"
   ]
  },
  {
   "cell_type": "code",
   "execution_count": null,
   "id": "611f91cb-3024-4f9d-8c02-d4e824ec5f96",
   "metadata": {},
   "outputs": [],
   "source": []
  },
  {
   "cell_type": "markdown",
   "id": "45937cf9-deda-413c-a1a9-fe9fa0de24ec",
   "metadata": {},
   "source": [
    "### 2. GBR(Gradient Boosting Regressor)"
   ]
  },
  {
   "cell_type": "code",
   "execution_count": 19,
   "id": "dc3a7d9a-0f57-4fcb-9192-843e01edb583",
   "metadata": {},
   "outputs": [
    {
     "name": "stdout",
     "output_type": "stream",
     "text": [
      "MAE : 0.460\n",
      "MSE : 0.479\n",
      "RMSE : 0.692\n",
      "R2 : 0.265\n"
     ]
    }
   ],
   "source": [
    "gb_reg = GradientBoostingRegressor(alpha=0.9, ccp_alpha=0.0, criterion='friedman_mse',\n",
    "                           init=None, learning_rate=0.1, loss='ls', max_depth=2,\n",
    "                           max_features=None, max_leaf_nodes=None,\n",
    "                           min_impurity_decrease=0.0, min_impurity_split=None,\n",
    "                           min_samples_leaf=1, min_samples_split=2,\n",
    "                           min_weight_fraction_leaf=0.0, n_estimators=10,\n",
    "                           n_iter_no_change=None,random_state=0, subsample=1.0, tol=0.0001,\n",
    "                           validation_fraction=0.1, verbose=0, warm_start=False)\n",
    "\n",
    "gb_reg.fit(X_train_sc, y_train_sc)\n",
    "\n",
    "y_preds_gb = gb_reg.predict(X_test_sc)\n",
    "print('MAE : {:.3f}'.format(mean_absolute_error(y_test_sc, y_preds_gb)))\n",
    "print('MSE : {:.3f}'.format(mean_squared_error(y_test_sc, y_preds_gb)))\n",
    "print('RMSE : {:.3f}'.format(np.sqrt(mean_squared_error(y_test_sc, y_preds_gb))))\n",
    "print('R2 : {:.3f}'.format(r2_score(y_test_sc, y_preds_gb)))"
   ]
  },
  {
   "cell_type": "code",
   "execution_count": 20,
   "id": "f58af874-eb18-4ed8-bdf5-b9442128c9bf",
   "metadata": {},
   "outputs": [
    {
     "data": {
      "text/html": [
       "<div>\n",
       "<style scoped>\n",
       "    .dataframe tbody tr th:only-of-type {\n",
       "        vertical-align: middle;\n",
       "    }\n",
       "\n",
       "    .dataframe tbody tr th {\n",
       "        vertical-align: top;\n",
       "    }\n",
       "\n",
       "    .dataframe thead th {\n",
       "        text-align: right;\n",
       "    }\n",
       "</style>\n",
       "<table border=\"1\" class=\"dataframe\">\n",
       "  <thead>\n",
       "    <tr style=\"text-align: right;\">\n",
       "      <th></th>\n",
       "      <th>GBR</th>\n",
       "    </tr>\n",
       "  </thead>\n",
       "  <tbody>\n",
       "    <tr>\n",
       "      <th>0</th>\n",
       "      <td>0.140400</td>\n",
       "    </tr>\n",
       "    <tr>\n",
       "      <th>1</th>\n",
       "      <td>-0.553560</td>\n",
       "    </tr>\n",
       "    <tr>\n",
       "      <th>2</th>\n",
       "      <td>-0.553560</td>\n",
       "    </tr>\n",
       "    <tr>\n",
       "      <th>3</th>\n",
       "      <td>0.401046</td>\n",
       "    </tr>\n",
       "    <tr>\n",
       "      <th>4</th>\n",
       "      <td>-0.152178</td>\n",
       "    </tr>\n",
       "    <tr>\n",
       "      <th>...</th>\n",
       "      <td>...</td>\n",
       "    </tr>\n",
       "    <tr>\n",
       "      <th>230</th>\n",
       "      <td>-0.349501</td>\n",
       "    </tr>\n",
       "    <tr>\n",
       "      <th>231</th>\n",
       "      <td>0.177136</td>\n",
       "    </tr>\n",
       "    <tr>\n",
       "      <th>232</th>\n",
       "      <td>-0.508104</td>\n",
       "    </tr>\n",
       "    <tr>\n",
       "      <th>233</th>\n",
       "      <td>0.401046</td>\n",
       "    </tr>\n",
       "    <tr>\n",
       "      <th>234</th>\n",
       "      <td>-0.508104</td>\n",
       "    </tr>\n",
       "  </tbody>\n",
       "</table>\n",
       "<p>235 rows × 1 columns</p>\n",
       "</div>"
      ],
      "text/plain": [
       "          GBR\n",
       "0    0.140400\n",
       "1   -0.553560\n",
       "2   -0.553560\n",
       "3    0.401046\n",
       "4   -0.152178\n",
       "..        ...\n",
       "230 -0.349501\n",
       "231  0.177136\n",
       "232 -0.508104\n",
       "233  0.401046\n",
       "234 -0.508104\n",
       "\n",
       "[235 rows x 1 columns]"
      ]
     },
     "execution_count": 20,
     "metadata": {},
     "output_type": "execute_result"
    }
   ],
   "source": [
    "y_preds_gb = pd.DataFrame(y_preds_gb, columns=['GBR'])\n",
    "\n",
    "y_preds_gb"
   ]
  },
  {
   "cell_type": "code",
   "execution_count": 21,
   "id": "47bbf1a6-3a3b-43de-8089-1492159ab21c",
   "metadata": {},
   "outputs": [],
   "source": [
    "y_preds_gb.to_csv('[[[2]]] y_preds_gb.csv', index=False)"
   ]
  },
  {
   "cell_type": "code",
   "execution_count": null,
   "id": "2f1c4a14-9ea8-4f71-9596-aabf93f4acd4",
   "metadata": {},
   "outputs": [],
   "source": []
  },
  {
   "cell_type": "markdown",
   "id": "87262e9f-85f0-473b-aaa6-907b704c95ec",
   "metadata": {},
   "source": [
    "### 3. RFR(Random Forest Regressor)"
   ]
  },
  {
   "cell_type": "code",
   "execution_count": 22,
   "id": "a60c39d0-7118-4329-b262-3d905419f9ea",
   "metadata": {},
   "outputs": [
    {
     "name": "stdout",
     "output_type": "stream",
     "text": [
      "MAE : 0.449\n",
      "MSE : 0.476\n",
      "RMSE : 0.690\n",
      "R2 : 0.270\n"
     ]
    }
   ],
   "source": [
    "rf_reg = RandomForestRegressor(bootstrap=True, ccp_alpha=0.0, criterion='mse',\n",
    "                       max_depth=2, max_features='auto', max_leaf_nodes=None,\n",
    "                       max_samples=None, min_impurity_decrease=0.0,\n",
    "                       min_impurity_split=None, min_samples_leaf=1,\n",
    "                       min_samples_split=2, min_weight_fraction_leaf=0.0,\n",
    "                       n_estimators=50, n_jobs=-1, oob_score=False,\n",
    "                       random_state=0, verbose=0, warm_start=False)\n",
    "\n",
    "rf_reg.fit(X_train_sc, y_train_sc)\n",
    "\n",
    "y_preds_rf = rf_reg.predict(X_test_sc)\n",
    "print('MAE : {:.3f}'.format(mean_absolute_error(y_test_sc, y_preds_rf)))\n",
    "print('MSE : {:.3f}'.format(mean_squared_error(y_test_sc, y_preds_rf)))\n",
    "print('RMSE : {:.3f}'.format(np.sqrt(mean_squared_error(y_test_sc, y_preds_rf))))\n",
    "print('R2 : {:.3f}'.format(r2_score(y_test_sc, y_preds_rf)))"
   ]
  },
  {
   "cell_type": "code",
   "execution_count": 23,
   "id": "a39a76be-ecfb-4a14-9cac-15008ac5de9a",
   "metadata": {},
   "outputs": [
    {
     "data": {
      "text/html": [
       "<div>\n",
       "<style scoped>\n",
       "    .dataframe tbody tr th:only-of-type {\n",
       "        vertical-align: middle;\n",
       "    }\n",
       "\n",
       "    .dataframe tbody tr th {\n",
       "        vertical-align: top;\n",
       "    }\n",
       "\n",
       "    .dataframe thead th {\n",
       "        text-align: right;\n",
       "    }\n",
       "</style>\n",
       "<table border=\"1\" class=\"dataframe\">\n",
       "  <thead>\n",
       "    <tr style=\"text-align: right;\">\n",
       "      <th></th>\n",
       "      <th>RFR</th>\n",
       "    </tr>\n",
       "  </thead>\n",
       "  <tbody>\n",
       "    <tr>\n",
       "      <th>0</th>\n",
       "      <td>0.243242</td>\n",
       "    </tr>\n",
       "    <tr>\n",
       "      <th>1</th>\n",
       "      <td>-0.822553</td>\n",
       "    </tr>\n",
       "    <tr>\n",
       "      <th>2</th>\n",
       "      <td>-0.822553</td>\n",
       "    </tr>\n",
       "    <tr>\n",
       "      <th>3</th>\n",
       "      <td>0.452054</td>\n",
       "    </tr>\n",
       "    <tr>\n",
       "      <th>4</th>\n",
       "      <td>-0.193786</td>\n",
       "    </tr>\n",
       "    <tr>\n",
       "      <th>...</th>\n",
       "      <td>...</td>\n",
       "    </tr>\n",
       "    <tr>\n",
       "      <th>230</th>\n",
       "      <td>-0.519842</td>\n",
       "    </tr>\n",
       "    <tr>\n",
       "      <th>231</th>\n",
       "      <td>0.336082</td>\n",
       "    </tr>\n",
       "    <tr>\n",
       "      <th>232</th>\n",
       "      <td>-0.822553</td>\n",
       "    </tr>\n",
       "    <tr>\n",
       "      <th>233</th>\n",
       "      <td>0.452054</td>\n",
       "    </tr>\n",
       "    <tr>\n",
       "      <th>234</th>\n",
       "      <td>-0.806941</td>\n",
       "    </tr>\n",
       "  </tbody>\n",
       "</table>\n",
       "<p>235 rows × 1 columns</p>\n",
       "</div>"
      ],
      "text/plain": [
       "          RFR\n",
       "0    0.243242\n",
       "1   -0.822553\n",
       "2   -0.822553\n",
       "3    0.452054\n",
       "4   -0.193786\n",
       "..        ...\n",
       "230 -0.519842\n",
       "231  0.336082\n",
       "232 -0.822553\n",
       "233  0.452054\n",
       "234 -0.806941\n",
       "\n",
       "[235 rows x 1 columns]"
      ]
     },
     "execution_count": 23,
     "metadata": {},
     "output_type": "execute_result"
    }
   ],
   "source": [
    "y_preds_rf = pd.DataFrame(y_preds_rf, columns=['RFR'])\n",
    "\n",
    "y_preds_rf"
   ]
  },
  {
   "cell_type": "code",
   "execution_count": 24,
   "id": "1917a398-865a-4920-9fa4-9737cfc4f234",
   "metadata": {},
   "outputs": [],
   "source": [
    "y_preds_gb.to_csv('[[[3]]] y_preds_rf.csv', index=False)"
   ]
  },
  {
   "cell_type": "code",
   "execution_count": null,
   "id": "f888bbc5-2406-4fb1-b557-a06a39c28052",
   "metadata": {},
   "outputs": [],
   "source": []
  },
  {
   "cell_type": "markdown",
   "id": "e7adab07-a4dc-4d14-948d-114b64bc3162",
   "metadata": {},
   "source": [
    "## MAE, MSE, RMSE, $R^2$"
   ]
  },
  {
   "cell_type": "code",
   "execution_count": 25,
   "id": "75031f3a-5aa3-4732-800b-de4d12736b66",
   "metadata": {},
   "outputs": [
    {
     "name": "stdout",
     "output_type": "stream",
     "text": [
      "##### y_test_sc와 y_preds_lgb #####\n",
      "\n",
      "MAE : 0.42704935333858474\n",
      "MSE : 0.40177995583898884\n",
      "RMSE : 0.6338611487060781\n",
      "R^2 : 0.38288188352273345\n"
     ]
    }
   ],
   "source": [
    "print('##### y_test_sc와 y_preds_lgb #####\\n\\nMAE : {}\\nMSE : {}\\nRMSE : {}\\nR^2 : {}'.format(mean_absolute_error(y_test_sc, y_preds_lgb), mean_squared_error(y_test_sc, y_preds_lgb), np.sqrt(mean_squared_error(y_test_sc, y_preds_lgb)), r2_score(y_test_sc, y_preds_lgb)))"
   ]
  },
  {
   "cell_type": "code",
   "execution_count": 26,
   "id": "2746487d-0a41-48f3-900c-f521d4204b2d",
   "metadata": {},
   "outputs": [
    {
     "name": "stdout",
     "output_type": "stream",
     "text": [
      "##### y_test_sc와 y_preds_gb #####\n",
      "\n",
      "MAE : 0.4602009953350944\n",
      "MSE : 0.4786519998718247\n",
      "RMSE : 0.6918468037592027\n",
      "R^2 : 0.26480946519056514\n"
     ]
    }
   ],
   "source": [
    "print('##### y_test_sc와 y_preds_gb #####\\n\\nMAE : {}\\nMSE : {}\\nRMSE : {}\\nR^2 : {}'.format(mean_absolute_error(y_test_sc, y_preds_gb), mean_squared_error(y_test_sc, y_preds_gb), np.sqrt(mean_squared_error(y_test_sc, y_preds_gb)), r2_score(y_test_sc, y_preds_gb)))"
   ]
  },
  {
   "cell_type": "code",
   "execution_count": 27,
   "id": "b764dba5-b289-4234-a77b-2d73da3aaac5",
   "metadata": {},
   "outputs": [
    {
     "name": "stdout",
     "output_type": "stream",
     "text": [
      "##### y_test_sc와 y_preds_rf #####\n",
      "\n",
      "MAE : 0.44916586495317573\n",
      "MSE : 0.4755710350903039\n",
      "RMSE : 0.689616585567882\n",
      "R^2 : 0.26954170520222687\n"
     ]
    }
   ],
   "source": [
    "print('##### y_test_sc와 y_preds_rf #####\\n\\nMAE : {}\\nMSE : {}\\nRMSE : {}\\nR^2 : {}'.format(mean_absolute_error(y_test_sc, y_preds_rf), mean_squared_error(y_test_sc, y_preds_rf), np.sqrt(mean_squared_error(y_test_sc, y_preds_rf)), r2_score(y_test_sc, y_preds_rf)))"
   ]
  },
  {
   "cell_type": "code",
   "execution_count": null,
   "id": "90eddff8-00c4-4161-b0f3-7e2a859e5894",
   "metadata": {},
   "outputs": [],
   "source": []
  },
  {
   "cell_type": "markdown",
   "id": "4d240378-0629-4809-9053-26f26dfee32a",
   "metadata": {},
   "source": [
    "## Combining Data"
   ]
  },
  {
   "cell_type": "code",
   "execution_count": 28,
   "id": "df74a046-6924-4832-a255-ed97a7ee904e",
   "metadata": {},
   "outputs": [],
   "source": [
    "y_test = pd.concat([test_date, y_test], axis=1)"
   ]
  },
  {
   "cell_type": "code",
   "execution_count": 29,
   "id": "3c6639fb-be1e-4034-b094-30fe1a1417f3",
   "metadata": {},
   "outputs": [],
   "source": [
    "y_test.to_csv('[[[4]]] y_test.csv', index=False)"
   ]
  },
  {
   "cell_type": "code",
   "execution_count": 30,
   "id": "8089e52a-8431-4d1b-8513-454fbaada5d9",
   "metadata": {},
   "outputs": [
    {
     "data": {
      "text/html": [
       "<div>\n",
       "<style scoped>\n",
       "    .dataframe tbody tr th:only-of-type {\n",
       "        vertical-align: middle;\n",
       "    }\n",
       "\n",
       "    .dataframe tbody tr th {\n",
       "        vertical-align: top;\n",
       "    }\n",
       "\n",
       "    .dataframe thead th {\n",
       "        text-align: right;\n",
       "    }\n",
       "</style>\n",
       "<table border=\"1\" class=\"dataframe\">\n",
       "  <thead>\n",
       "    <tr style=\"text-align: right;\">\n",
       "      <th></th>\n",
       "      <th>LGBM</th>\n",
       "      <th>GBR</th>\n",
       "      <th>RFR</th>\n",
       "    </tr>\n",
       "  </thead>\n",
       "  <tbody>\n",
       "    <tr>\n",
       "      <th>0</th>\n",
       "      <td>0.164910</td>\n",
       "      <td>0.140400</td>\n",
       "      <td>0.243242</td>\n",
       "    </tr>\n",
       "    <tr>\n",
       "      <th>1</th>\n",
       "      <td>-0.491594</td>\n",
       "      <td>-0.553560</td>\n",
       "      <td>-0.822553</td>\n",
       "    </tr>\n",
       "    <tr>\n",
       "      <th>2</th>\n",
       "      <td>-0.503925</td>\n",
       "      <td>-0.553560</td>\n",
       "      <td>-0.822553</td>\n",
       "    </tr>\n",
       "    <tr>\n",
       "      <th>3</th>\n",
       "      <td>1.083738</td>\n",
       "      <td>0.401046</td>\n",
       "      <td>0.452054</td>\n",
       "    </tr>\n",
       "    <tr>\n",
       "      <th>4</th>\n",
       "      <td>-0.488933</td>\n",
       "      <td>-0.152178</td>\n",
       "      <td>-0.193786</td>\n",
       "    </tr>\n",
       "  </tbody>\n",
       "</table>\n",
       "</div>"
      ],
      "text/plain": [
       "       LGBM       GBR       RFR\n",
       "0  0.164910  0.140400  0.243242\n",
       "1 -0.491594 -0.553560 -0.822553\n",
       "2 -0.503925 -0.553560 -0.822553\n",
       "3  1.083738  0.401046  0.452054\n",
       "4 -0.488933 -0.152178 -0.193786"
      ]
     },
     "execution_count": 30,
     "metadata": {},
     "output_type": "execute_result"
    }
   ],
   "source": [
    "combined_data = pd.concat([y_preds_lgb, y_preds_gb, y_preds_rf], axis=1)\n",
    "\n",
    "combined_data.head()"
   ]
  },
  {
   "cell_type": "code",
   "execution_count": 31,
   "id": "396209f0-2fcc-4977-99b5-47eb5acc3462",
   "metadata": {},
   "outputs": [],
   "source": [
    "combined_data.to_csv('[[[5]]] combined_data.csv', index=False)"
   ]
  },
  {
   "cell_type": "markdown",
   "id": "0507a3d6-d511-4f0a-a259-4bb554aa1ea1",
   "metadata": {},
   "source": [
    "<span style=\"color:red\">***y_test와 combined_data를 합칠 때 날짜 매칭이 잘 되지 않아서 수동으로 합쳐줘야 합니다...!***</span><br>\n",
    "<br>\n",
    "<span style=\"color:blue\">***→ GitHub에 '(6) completed_data.csv'로 올렸어요!***</span>"
   ]
  },
  {
   "cell_type": "code",
   "execution_count": null,
   "id": "984e86a1-5343-4189-9655-befd671e49c1",
   "metadata": {},
   "outputs": [],
   "source": []
  }
 ],
 "metadata": {
  "kernelspec": {
   "display_name": "Python Multi",
   "language": "python",
   "name": "multi"
  },
  "language_info": {
   "codemirror_mode": {
    "name": "ipython",
    "version": 3
   },
   "file_extension": ".py",
   "mimetype": "text/x-python",
   "name": "python",
   "nbconvert_exporter": "python",
   "pygments_lexer": "ipython3",
   "version": "3.9.5"
  }
 },
 "nbformat": 4,
 "nbformat_minor": 5
}
