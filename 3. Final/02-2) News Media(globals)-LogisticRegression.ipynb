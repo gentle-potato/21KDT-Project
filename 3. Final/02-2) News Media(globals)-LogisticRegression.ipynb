{
 "cells": [
  {
   "cell_type": "markdown",
   "id": "6f6c9b64-23a8-42b9-9dd5-463f855a4fbb",
   "metadata": {
    "tags": []
   },
   "source": [
    "# **News Media**"
   ]
  },
  {
   "cell_type": "code",
   "execution_count": null,
   "id": "8652bd12-14c7-4921-a8e6-bef587518d9f",
   "metadata": {},
   "outputs": [],
   "source": [
    "import numpy as np\n",
    "import pandas as pd\n",
    "\n",
    "# Visualization\n",
    "import matplotlib.pyplot as plt\n",
    "import seaborn as sns\n",
    "%matplotlib inline\n",
    "\n",
    "# DB 연결\n",
    "# !pip install pymysql\n",
    "import pymysql\n",
    "\n",
    "# 실시간 주식가격 데이터\n",
    "# !pip install finance-datareader\n",
    "import FinanceDataReader as fdr\n",
    "\n",
    "# 텍스트 분석\n",
    "# 1) JAVA 설치, 2) Python 버전과 맞는 JPype1-py3 설치, 3) !pip install konlpy, 4) 설치 경로에서 jvm.py 파일 코드 67번 줄 주석 처리\n",
    "from konlpy.tag import Okt\n",
    "import nltk\n",
    "from nltk.sentiment.vader import SentimentIntensityAnalyzer\n",
    "from sklearn.feature_extraction.text import CountVectorizer, TfidfVectorizer\n",
    "\n",
    "# 모델 학습 및 평가\n",
    "from sklearn.model_selection import train_test_split\n",
    "from sklearn.pipeline import Pipeline\n",
    "from sklearn.model_selection import GridSearchCV\n",
    "from sklearn.linear_model import LogisticRegression\n",
    "from sklearn.metrics import accuracy_score, roc_auc_score\n",
    "from sklearn.metrics import precision_score, recall_score\n",
    "\n",
    "# 기타\n",
    "import datetime\n",
    "from collections import Counter\n",
    "import sys\n",
    "import warnings\n",
    "warnings.filterwarnings('ignore')"
   ]
  },
  {
   "cell_type": "markdown",
   "id": "e7763e6c-5304-4021-adc4-ab0eb19079ff",
   "metadata": {},
   "source": [
    "## **Read Data**"
   ]
  },
  {
   "cell_type": "markdown",
   "id": "923fecf4-3b48-4715-87d0-32d6409476d7",
   "metadata": {},
   "source": [
    "### **① KOSELF 감성 어휘 사전**"
   ]
  },
  {
   "cell_type": "code",
   "execution_count": null,
   "id": "0fbe34e0-d583-44c0-98fd-af1aab2dd87c",
   "metadata": {},
   "outputs": [],
   "source": [
    "# 블로그에서 가져온 기본적인 한국어 긍부정 텍스트 목록\n",
    "with open('positive_words_self.txt', encoding='utf-8') as pos_blog:\n",
    "    positive_blog = pos_blog.readlines()\n",
    "positive_blog = [pos_blog.replace('\\n', '') for pos_blog in positive_blog]\n",
    "with open('negative_words_self.txt', encoding='utf-8') as neg_blog:\n",
    "    negative_blog = neg_blog.readlines()\n",
    "negative_blog = [neg_blog.replace('\\n', '') for neg_blog in negative_blog]\n",
    "\n",
    "# KOSELF 감성 어휘 사전\n",
    "with open('KOSELF_pos.txt', encoding='utf-8') as pos:\n",
    "    positive = pos.readlines()\n",
    "positive = [pos.replace('\\n', '') for pos in positive]\n",
    "with open('KOSELF_neg.txt', encoding='utf-8') as neg:\n",
    "    negative = neg.readlines()\n",
    "negative = [neg.replace('\\n', '') for neg in negative]"
   ]
  },
  {
   "cell_type": "markdown",
   "id": "67d03d15-367e-4380-9ba5-34cbd9f0190d",
   "metadata": {},
   "source": [
    "### **② News Data from DB**"
   ]
  },
  {
   "cell_type": "code",
   "execution_count": null,
   "id": "dd68e584-1837-4144-9d1a-0d16530c2e97",
   "metadata": {},
   "outputs": [],
   "source": [
    "# db = pymysql.connect(user='root',\n",
    "#                      passwd='1234',\n",
    "#                      host='3.35.70.166',\n",
    "#                      db='proj',\n",
    "#                      charset='utf8')\n",
    "\n",
    "# cursor = db.cursor(pymysql.cursors.DictCursor)\n",
    "\n",
    "# # 전체 종목 뉴스 데이터\n",
    "# corp_list = ['samsung', 'hyundai', 'lg', 'sk']\n",
    "# stock_num_list = ['005930', '005380', '051910', '000660']\n",
    "# for i in range(len(corp_list)):\n",
    "#     sql = \"select * from maeil_news_craw_{} where length(date)=10\".format(stock_num_list[i])\n",
    "#     cursor.execute(sql)\n",
    "#     result = cursor.fetchall()\n",
    "    \n",
    "#     # DataFrame으로 변경\n",
    "#     globals()[corp_list[i]] = pd.DataFrame(result)"
   ]
  },
  {
   "cell_type": "code",
   "execution_count": null,
   "id": "885cc9a4-d366-4a1c-a1a1-58ce42710d74",
   "metadata": {},
   "outputs": [],
   "source": [
    "# AWS 서버 사용할 수 없을 때\n",
    "corp_list = ['samsung', 'hyundai', 'lg', 'sk']\n",
    "stock_num_list = ['005930', '005380', '051910', '000660']\n",
    "\n",
    "for i in range(len(corp_list)):\n",
    "    globals()[corp_list[i]] = pd.read_csv('../../../../Code/Data/news_craw_{}.csv'.format(stock_num_list[i]))\n",
    "    globals()[corp_list[i]]['date'] = globals()[corp_list[i]]['date'].apply(lambda _: str(_))"
   ]
  },
  {
   "cell_type": "code",
   "execution_count": null,
   "id": "75e5c997-2d6c-45ca-b722-3ea42ccc1b28",
   "metadata": {},
   "outputs": [],
   "source": [
    "for i in range(len(corp_list)):\n",
    "    globals()[corp_list[i]].rename(columns={'date': 'datetime'}, inplace=True)\n",
    "    \n",
    "    # DataFrame 형태를 통일하기 위해 date 컬럼 추가\n",
    "    globals()[corp_list[i]]['date'] = globals()[corp_list[i]]['datetime'].str[0:4] + '-' + globals()[corp_list[i]]['datetime'].str[4:6] + '-' + globals()[corp_list[i]]['datetime'].str[6:8]\n",
    "    globals()[corp_list[i]]['date'] = pd.to_datetime(globals()[corp_list[i]]['date'])\n",
    "    \n",
    "    # 결측치 제거 → 데이터 로드 시 완료했기 때문에 그다지 필요하지 않은 과정\n",
    "    globals()[corp_list[i]] = globals()[corp_list[i]].dropna()\n",
    "    \n",
    "    # 시간순으로 정렬\n",
    "    globals()[corp_list[i]].sort_values('datetime', inplace=True)\n",
    "    globals()[corp_list[i]].reset_index(inplace=True, drop=True)"
   ]
  },
  {
   "cell_type": "code",
   "execution_count": null,
   "id": "819a389c-7d23-458d-881e-d9a7f067dabb",
   "metadata": {},
   "outputs": [],
   "source": [
    "# samsung, hyndai, lg, sk 데이터 불러오기 완료"
   ]
  },
  {
   "cell_type": "markdown",
   "id": "5e3355a0-ae38-4b38-804c-9f0ab7616902",
   "metadata": {},
   "source": [
    "### **③ FinanceDataReader**"
   ]
  },
  {
   "cell_type": "code",
   "execution_count": null,
   "id": "92c66872-5e61-4e4f-8b99-a0058335711e",
   "metadata": {},
   "outputs": [],
   "source": [
    "start_date = '20180101'\n",
    "end_date = datetime.datetime.now().strftime(\"%Y%m%d\")\n",
    "\n",
    "for i in range(len(corp_list)):\n",
    "    globals()['stock_' + corp_list[i]] = fdr.DataReader(stock_num_list[i], start=start_date, end=end_date).reset_index()"
   ]
  },
  {
   "cell_type": "code",
   "execution_count": null,
   "id": "aeb76c38-c505-4f81-b790-1f2ad8d0ca67",
   "metadata": {},
   "outputs": [],
   "source": [
    "print('####### Maximun #######')\n",
    "print('SAMSUNG :', stock_samsung['Change'].max())\n",
    "print('HYUNDAI :', stock_hyundai['Change'].max())\n",
    "print('LG      :', stock_lg['Change'].max())\n",
    "print('SK      :', stock_sk['Change'].max())\n",
    "print('\\n')\n",
    "print('####### Minimun #######')\n",
    "print('SAMSUNG :', stock_samsung['Change'].min())\n",
    "print('HYUNDAI :', stock_hyundai['Change'].min())\n",
    "print('LG      :', stock_lg['Change'].min())\n",
    "print('SK      :', stock_sk['Change'].min())"
   ]
  },
  {
   "cell_type": "code",
   "execution_count": null,
   "id": "13ff2c2b-aa74-46e7-969e-4e8ca1f452dd",
   "metadata": {},
   "outputs": [],
   "source": [
    "# 종목별 주식가격 변동\n",
    "for i in range(len(corp_list)):\n",
    "    plt.figure(figsize=(60, 3))\n",
    "    plt.subplot(1, 4, i+1)\n",
    "    sns.lineplot(data=globals()['stock_' + corp_list[i]], x='Date', y='Close')\n",
    "    plt.title(corp_list[i] + ' stock price')\n",
    "    plt.xticks(rotation=45)\n",
    "\n",
    "plt.show()"
   ]
  },
  {
   "cell_type": "markdown",
   "id": "e2faafc8-c09a-43fb-a508-740eda73a881",
   "metadata": {},
   "source": [
    "### **④ Holidays**"
   ]
  },
  {
   "cell_type": "code",
   "execution_count": null,
   "id": "eaff5f02-ec15-43a9-84ed-320a7466dcd8",
   "metadata": {},
   "outputs": [],
   "source": [
    "holidays = pd.read_csv('holidays.csv')\n",
    "\n",
    "holidays"
   ]
  },
  {
   "cell_type": "code",
   "execution_count": null,
   "id": "384c3eae-449b-4a8a-a605-fdfbe0d16b84",
   "metadata": {},
   "outputs": [],
   "source": [
    "holidays['date'] = pd.to_datetime(holidays['date'])"
   ]
  },
  {
   "cell_type": "markdown",
   "id": "e91d1d8f-7103-4f44-a48f-29becc898e44",
   "metadata": {},
   "source": [
    "### **⑤ Stop Words**"
   ]
  },
  {
   "cell_type": "code",
   "execution_count": null,
   "id": "e66c43d4-6cb5-475a-923e-c1d5a628b562",
   "metadata": {},
   "outputs": [],
   "source": [
    "# https://gist.github.com/spikeekips/40eea22ef4a89f629abd87eed535ac6a#file-stopwords-ko-txt\n",
    "with open('stopwords-ko.txt', encoding='utf-8') as sw:\n",
    "    stop_words = sw.readlines()\n",
    "stop_words = [sw.replace('\\n', '') for sw in stop_words]"
   ]
  },
  {
   "cell_type": "markdown",
   "id": "0be9660b-13ea-4323-a3be-0d89cc6efbb6",
   "metadata": {},
   "source": [
    "## **Preprocessing**"
   ]
  },
  {
   "cell_type": "code",
   "execution_count": null,
   "id": "f3624dc1-07b6-45cd-a94d-be6fd39bf33b",
   "metadata": {},
   "outputs": [],
   "source": [
    "# 감성 어휘 사전 : negative / positive\n",
    "# 뉴스 데이터 : samsung / hyundai / lg / sk\n",
    "# 주식 데이터 : stock_samsung / stock_hyundai / stock_lg / stock_sk\n",
    "# 공휴일 데이터 : holidays"
   ]
  },
  {
   "cell_type": "markdown",
   "id": "f714c8dd-d3ab-44fd-9e7d-70feba2f8ad5",
   "metadata": {},
   "source": [
    "### **① 뉴스 데이터 날짜 조정**\n",
    "- <span style=\"color:blue\">***전일 15시 ~ 금일 15시***</span>"
   ]
  },
  {
   "cell_type": "code",
   "execution_count": null,
   "id": "43f9f9a4-6daa-42ba-95d2-fa952548f3b0",
   "metadata": {},
   "outputs": [],
   "source": [
    "# 업로드 시각 컬럼 추가\n",
    "for i in range(len(corp_list)):\n",
    "    globals()[corp_list[i]]['time'] = globals()[corp_list[i]]['datetime'].str[-2:]"
   ]
  },
  {
   "cell_type": "code",
   "execution_count": null,
   "id": "8db50ef3-1ad9-4417-b038-8a15ebc98dca",
   "metadata": {},
   "outputs": [],
   "source": [
    "after_market = ['15', '16', '17', '18', '19', '20', '21', '22', '23']\n",
    "\n",
    "for i in range(len(corp_list)):\n",
    "    for j in range(len(globals()[corp_list[i]]['time'])):\n",
    "        if globals()[corp_list[i]]['time'][j] in after_market:\n",
    "            globals()[corp_list[i]]['date'][j] += datetime.timedelta(1)\n",
    "        else:\n",
    "            pass"
   ]
  },
  {
   "cell_type": "code",
   "execution_count": null,
   "id": "c0a4c358-7fdf-42e4-84d8-8900790571fe",
   "metadata": {},
   "outputs": [],
   "source": [
    "# 텍스트 전처리\n",
    "for i in range(len(corp_list)):\n",
    "    globals()[corp_list[i]]['text'] = globals()[corp_list[i]]['text'].str.replace('[\\n|\\t|\\r]', '')"
   ]
  },
  {
   "cell_type": "markdown",
   "id": "1e612f39-fada-439c-bb88-c0e783a31d0f",
   "metadata": {},
   "source": [
    "### **② 주말 및 공휴일 제외**"
   ]
  },
  {
   "cell_type": "code",
   "execution_count": null,
   "id": "22f28bb4-b7f3-4dd9-b255-913ebdcf04fe",
   "metadata": {},
   "outputs": [],
   "source": [
    "market_closed = holidays[holidays['holiday']==\"O\"].reset_index(drop=True)\n",
    "\n",
    "market_closed"
   ]
  },
  {
   "cell_type": "code",
   "execution_count": null,
   "id": "8808988d-293a-47b1-9002-48c2e7174067",
   "metadata": {},
   "outputs": [],
   "source": [
    "# 휴장일 List 생성\n",
    "market_closed_list = list(market_closed['date'])"
   ]
  },
  {
   "cell_type": "code",
   "execution_count": null,
   "id": "595517a3-4d3c-4f2e-81cc-6261c68a0eee",
   "metadata": {},
   "outputs": [],
   "source": [
    "# 주말 및 공휴일 제외 함수\n",
    "def stock_market_closed(df):\n",
    "    for i in range(len(df['date'])):\n",
    "        if df['date'][i] in market_closed_list:\n",
    "            df['date'][i] += datetime.timedelta(1)\n",
    "            stock_market_closed(df)\n",
    "        else:\n",
    "            pass\n",
    "    return df"
   ]
  },
  {
   "cell_type": "code",
   "execution_count": null,
   "id": "08bca5af-aaed-45dc-a130-79e1ff3cd998",
   "metadata": {},
   "outputs": [],
   "source": [
    "limit_number = 15000\n",
    "sys.setrecursionlimit(limit_number)"
   ]
  },
  {
   "cell_type": "code",
   "execution_count": null,
   "id": "6e261798-a6ec-4aea-a30c-ae43705bb8fb",
   "metadata": {},
   "outputs": [],
   "source": [
    "for i in range(len(corp_list)):\n",
    "    stock_market_closed(globals()[corp_list[i]])"
   ]
  },
  {
   "cell_type": "code",
   "execution_count": null,
   "id": "f4c58dc0-38c8-43c5-948d-c4f4e6b41a32",
   "metadata": {},
   "outputs": [],
   "source": [
    "samsung[samsung['date']=='2021-08-29']"
   ]
  },
  {
   "cell_type": "code",
   "execution_count": null,
   "id": "a27545bc-865b-4e74-9c23-38f05fbad428",
   "metadata": {},
   "outputs": [],
   "source": [
    "hyundai[hyundai['date']=='2021-08-29']"
   ]
  },
  {
   "cell_type": "code",
   "execution_count": null,
   "id": "98dee4e9-441d-4d4c-b211-3b33b860cbe1",
   "metadata": {},
   "outputs": [],
   "source": [
    "lg[lg['date']=='2021-08-29']"
   ]
  },
  {
   "cell_type": "code",
   "execution_count": null,
   "id": "929460ad-f9d9-40d8-ab75-1e75c38facb8",
   "metadata": {},
   "outputs": [],
   "source": [
    "sk[sk['date']=='2021-08-29']"
   ]
  },
  {
   "cell_type": "code",
   "execution_count": null,
   "id": "e56863d0-edce-432f-826a-7fd9ec798a22",
   "metadata": {},
   "outputs": [],
   "source": [
    "samsung"
   ]
  },
  {
   "cell_type": "code",
   "execution_count": null,
   "id": "291da5d0-1016-45e8-8991-faa1491560ce",
   "metadata": {},
   "outputs": [],
   "source": [
    "# # 연습용 데이터 저장\n",
    "# samsung.to_csv('../../../../Code/Data/test_samsung.csv', index=False)\n",
    "# hyundai.to_csv('../../../../Code/Data/test_hyundai.csv', index=False)\n",
    "# lg.to_csv('../../../../Code/Data/test_lg.csv', index=False)\n",
    "# sk.to_csv('../../../../Code/Data/test_sk.csv', index=False)"
   ]
  },
  {
   "cell_type": "markdown",
   "id": "13a57053-6f22-47ee-890c-a39484b77ec7",
   "metadata": {},
   "source": [
    "## **Sentiment Analaysis**"
   ]
  },
  {
   "cell_type": "markdown",
   "id": "67662e0a-f4f3-4072-9bd0-181dfdb69e2f",
   "metadata": {},
   "source": [
    "### **① 종목별 긍부정 Score 계산**"
   ]
  },
  {
   "cell_type": "code",
   "execution_count": null,
   "id": "e39066fd-8d86-4ac3-be51-f8b3762ea127",
   "metadata": {},
   "outputs": [],
   "source": [
    "for i in range(len(corp_list)):\n",
    "    globals()[corp_list[i] + '_test'] = globals()[corp_list[i]].copy()"
   ]
  },
  {
   "cell_type": "code",
   "execution_count": null,
   "id": "c3b3b1c8-d62d-4c30-a51d-5b8d248591b6",
   "metadata": {},
   "outputs": [],
   "source": [
    "for i in range(len(corp_list)):\n",
    "    globals()[corp_list[i]]['score'] = 0\n",
    "    tokenizer = Okt()\n",
    "    \n",
    "    for x in range(len(globals()[corp_list[i]]['date'])):\n",
    "        score = 0\n",
    "        num = tokenizer.nouns(globals()[corp_list[i]]['text'][x])\n",
    "        for y in num:\n",
    "            # KOSELF 감성 어휘 사전\n",
    "            if y in positive:\n",
    "                score += 1\n",
    "            elif y in negative:\n",
    "                score -= 1\n",
    "            else:\n",
    "                score = score\n",
    "        \n",
    "        globals()[corp_list[i]]['score'][x] = score"
   ]
  },
  {
   "cell_type": "code",
   "execution_count": null,
   "id": "582e427c-d236-47a2-97f6-ade3c9fc547c",
   "metadata": {},
   "outputs": [],
   "source": [
    "for i in range(len(corp_list)):\n",
    "    globals()[corp_list[i] + '_test']['score'] = 0\n",
    "    tokenizer = Okt()\n",
    "    \n",
    "    for x in range(len(globals()[corp_list[i] + '_test']['date'])):\n",
    "        score = 0\n",
    "        num = tokenizer.nouns(globals()[corp_list[i] + '_test']['text'][x])\n",
    "        for y in num:\n",
    "            # 블로그 긍부정 텍스트\n",
    "            if y in positive_blog:\n",
    "                score += 1\n",
    "            elif y in negative_blog:\n",
    "                score -= 1\n",
    "            else:\n",
    "                score = score\n",
    "        \n",
    "        globals()[corp_list[i] + '_test']['score'][x] = score"
   ]
  },
  {
   "cell_type": "markdown",
   "id": "2b206fda-6a7c-4e17-ad83-ab942b4c5031",
   "metadata": {},
   "source": [
    "### **② 주식가격 데이터와 결합**"
   ]
  },
  {
   "cell_type": "code",
   "execution_count": null,
   "id": "ce350a8e-cf55-4f0a-b070-2860d83184e9",
   "metadata": {},
   "outputs": [],
   "source": [
    "for i in range(len(corp_list)):\n",
    "    globals()[corp_list[i] + '_label'] = pd.merge(globals()[corp_list[i]], globals()['stock_' + corp_list[i]], how='left', left_on='date', right_on='Date')\n",
    "    globals()[corp_list[i] + '_label'].drop('Date', axis=1, inplace=True)\n",
    "    globals()[corp_list[i] + '_label']['UpDown'] = np.where(globals()[corp_list[i] + '_label']['Change']>0, 1,\n",
    "                                                            np.where(globals()[corp_list[i] + '_label']['Change']<0, -1, 0))\n",
    "    globals()[corp_list[i] + '_label']['Extremely_Changed'] = np.where((globals()[corp_list[i] + '_label']['Change']>globals()[corp_list[i] + '_label']['Change'].quantile(.95)) & (globals()[corp_list[i] + '_label']['Change']>0), 1,\n",
    "                                                                  np.where((globals()[corp_list[i] + '_label']['Change']<globals()[corp_list[i] + '_label']['Change'].quantile(.05)) & (globals()[corp_list[i] + '_label']['Change']<0), -1, 0))"
   ]
  },
  {
   "cell_type": "code",
   "execution_count": null,
   "id": "a8b3e18b-ef78-4fc6-a2c9-8e9b882afd0e",
   "metadata": {},
   "outputs": [],
   "source": [
    "# samsung_label, hyundai_label, lg_label, sk_label 생성"
   ]
  },
  {
   "cell_type": "code",
   "execution_count": null,
   "id": "9523ffd0-569a-44bd-b65c-75c9da8bc3ec",
   "metadata": {},
   "outputs": [],
   "source": [
    "samsung_label.tail(3)"
   ]
  },
  {
   "cell_type": "code",
   "execution_count": null,
   "id": "1b30718a-9eeb-493d-8fa0-7810743fe7a2",
   "metadata": {},
   "outputs": [],
   "source": [
    "samsung_label['Change'].quantile(.05)"
   ]
  },
  {
   "cell_type": "code",
   "execution_count": null,
   "id": "3f8bee20-7cf1-4faf-8ab6-43fb479c2054",
   "metadata": {},
   "outputs": [],
   "source": [
    "print('### Change 상위 5% ###')\n",
    "print('SAMSUNG :', samsung_label[samsung_label['Change']>samsung_label['Change'].quantile(.95)].shape)\n",
    "print('HYUNDAI :', hyundai_label[hyundai_label['Change']>hyundai_label['Change'].quantile(.95)].shape)\n",
    "print('LG      :', lg_label[lg_label['Change']>lg_label['Change'].quantile(.95)].shape)\n",
    "print('SK      :', sk_label[sk_label['Change']>sk_label['Change'].quantile(.95)].shape)\n",
    "print('\\n')\n",
    "print('### Change 하위 5% ###')\n",
    "print('SAMSUNG :', samsung_label[samsung_label['Change']<samsung_label['Change'].quantile(.05)].shape)\n",
    "print('HYUNDAI :', hyundai_label[hyundai_label['Change']<hyundai_label['Change'].quantile(.05)].shape)\n",
    "print('LG      :', lg_label[lg_label['Change']<lg_label['Change'].quantile(.05)].shape)\n",
    "print('SK      :', sk_label[sk_label['Change']<sk_label['Change'].quantile(.05)].shape)"
   ]
  },
  {
   "cell_type": "code",
   "execution_count": null,
   "id": "ffe0ff86-f810-4fdf-86ec-740584ac0450",
   "metadata": {},
   "outputs": [],
   "source": [
    "print('##### SAMSUNG #####\\n', samsung_label['UpDown'].value_counts())\n",
    "print('##### HYUNDAI #####\\n', hyundai_label['UpDown'].value_counts())\n",
    "print('#####   LG    #####\\n', lg_label['UpDown'].value_counts())\n",
    "print('#####   SK    #####\\n', sk_label['UpDown'].value_counts())"
   ]
  },
  {
   "cell_type": "markdown",
   "id": "f546366b-d097-47d0-8804-7756156c3d66",
   "metadata": {},
   "source": [
    "### **③ 전체 종목 DataFrame 통합**"
   ]
  },
  {
   "cell_type": "code",
   "execution_count": null,
   "id": "9b88efd1-0913-4b8a-8347-6548b8f13281",
   "metadata": {},
   "outputs": [],
   "source": [
    "total_label = pd.concat([samsung_label, hyundai_label, lg_label, sk_label], axis=0)\n",
    "\n",
    "total_label.columns"
   ]
  },
  {
   "cell_type": "code",
   "execution_count": null,
   "id": "af016421-a6af-417c-9f1e-741cd88956cb",
   "metadata": {},
   "outputs": [],
   "source": [
    "# Train-Test Set 분리\n",
    "X_train, X_test, y_train, y_test = train_test_split(total_label['text'], total_label['UpDown'], test_size=0.3, random_state=0)\n",
    "\n",
    "X_train.shape, y_train.shape, X_test.shape, y_test.shape"
   ]
  },
  {
   "cell_type": "markdown",
   "id": "6c462107-ab81-44ac-b4cf-369acde023eb",
   "metadata": {},
   "source": [
    "### **④ TF-IDF 기반 벡터화 및 모델 학습**"
   ]
  },
  {
   "cell_type": "code",
   "execution_count": null,
   "id": "64f90a77-326d-4573-a28c-d5d7b9016501",
   "metadata": {},
   "outputs": [],
   "source": [
    "pipeline = Pipeline([\n",
    "    ('tfidf_vect', TfidfVectorizer(stop_words=stop_words)),\n",
    "    ('lr_clf', LogisticRegression())\n",
    "])\n",
    "\n",
    "# Pipeline에 기술된 각각의 객체 변수에 언더바(_) 2개를 연달아 붙여 GridSearchCV에 사용될 파라미터/하이퍼파라미터 이름과 값을 설정\n",
    "params = {\n",
    "    'tfidf_vect__ngram_range': [(1, 1), (1, 2), (1, 3)],\n",
    "    'tfidf_vect__max_df': [100, 300, 700],\n",
    "    'lr_clf__C': [1, 5, 10]\n",
    "}\n",
    "\n",
    "# GridSearchCV의 생성자에 Estimator가 아닌 Pipeline 객체 입력\n",
    "grid_cv_pipe = GridSearchCV(pipeline, param_grid=params, cv=3, scoring='accuracy', verbose=1)\n",
    "grid_cv_pipe.fit(X_train, y_train)\n",
    "print(' <1> parameters :', grid_cv_pipe.best_params_, '\\n', '<2> best score :', grid_cv_pipe.best_score_)\n",
    "\n",
    "pred = grid_cv_pipe.predict(X_test)\n",
    "print('Pipeline을 통한 Logistic Regression의 예측 정확도 : {0:.3f}'.format(accuracy_score(y_test, pred)))"
   ]
  },
  {
   "cell_type": "code",
   "execution_count": null,
   "id": "ee85d4f2-0149-46c1-ae97-29cd83aa5576",
   "metadata": {},
   "outputs": [],
   "source": []
  }
 ],
 "metadata": {
  "kernelspec": {
   "display_name": "Python Multi",
   "language": "python",
   "name": "multi"
  },
  "language_info": {
   "codemirror_mode": {
    "name": "ipython",
    "version": 3
   },
   "file_extension": ".py",
   "mimetype": "text/x-python",
   "name": "python",
   "nbconvert_exporter": "python",
   "pygments_lexer": "ipython3",
   "version": "3.9.5"
  }
 },
 "nbformat": 4,
 "nbformat_minor": 5
}
