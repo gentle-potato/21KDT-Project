{
 "cells": [
  {
   "cell_type": "markdown",
   "id": "57ac1827-4ba4-44f1-a6a7-56e71f69502f",
   "metadata": {},
   "source": [
    "# **Stop Words & Tokenizing(2021)**"
   ]
  },
  {
   "cell_type": "code",
   "execution_count": 1,
   "id": "1b017417-8ff2-4c14-a288-3c3e1dbd2cbe",
   "metadata": {},
   "outputs": [],
   "source": [
    "import numpy as np\n",
    "import pandas as pd\n",
    "\n",
    "# Visualization\n",
    "import matplotlib.pyplot as plt\n",
    "import seaborn as sns\n",
    "%matplotlib inline\n",
    "\n",
    "# DB 연결\n",
    "# !pip install pymysql\n",
    "import pymysql\n",
    "\n",
    "# DB에 저장\n",
    "import sqlalchemy\n",
    "from sqlalchemy import create_engine\n",
    "\n",
    "# 실시간 주식가격 데이터\n",
    "# !pip install finance-datareader\n",
    "import FinanceDataReader as fdr\n",
    "\n",
    "# 텍스트 분석\n",
    "# 1) JAVA 설치, 2) Python 버전과 맞는 JPype1-py3 설치, 3) !pip install konlpy, 4) 설치 경로에서 jvm.py 파일 코드 67번 줄 주석 처리 \n",
    "from konlpy.tag import Okt\n",
    "import nltk\n",
    "from nltk.sentiment.vader import SentimentIntensityAnalyzer\n",
    "from sklearn.feature_extraction.text import CountVectorizer, TfidfVectorizer\n",
    "import re\n",
    "\n",
    "# 모델 학습 및 평가\n",
    "from sklearn.model_selection import train_test_split\n",
    "from sklearn.pipeline import Pipeline\n",
    "from sklearn.model_selection import GridSearchCV\n",
    "from sklearn.linear_model import LogisticRegression\n",
    "from sklearn.metrics import accuracy_score, roc_auc_score\n",
    "from sklearn.metrics import precision_score, recall_score, f1_score\n",
    "\n",
    "# 모델 저장 및 로드\n",
    "import joblib\n",
    "\n",
    "# 기타\n",
    "import datetime\n",
    "from collections import Counter\n",
    "import sys\n",
    "import warnings\n",
    "warnings.filterwarnings('ignore')"
   ]
  },
  {
   "cell_type": "code",
   "execution_count": 2,
   "id": "8c09414c-aaef-404c-8a45-9eb391a0aa3f",
   "metadata": {},
   "outputs": [],
   "source": [
    "maeil = pd.read_csv('../../../../Code/Data/2021_maeil.csv')\n",
    "asia = pd.read_csv('../../../../Code/Data/2021_asia.csv')"
   ]
  },
  {
   "cell_type": "code",
   "execution_count": 3,
   "id": "fd0f4f4b-77ac-4743-9522-2ee0ee02512c",
   "metadata": {},
   "outputs": [
    {
     "data": {
      "text/html": [
       "<div>\n",
       "<style scoped>\n",
       "    .dataframe tbody tr th:only-of-type {\n",
       "        vertical-align: middle;\n",
       "    }\n",
       "\n",
       "    .dataframe tbody tr th {\n",
       "        vertical-align: top;\n",
       "    }\n",
       "\n",
       "    .dataframe thead th {\n",
       "        text-align: right;\n",
       "    }\n",
       "</style>\n",
       "<table border=\"1\" class=\"dataframe\">\n",
       "  <thead>\n",
       "    <tr style=\"text-align: right;\">\n",
       "      <th></th>\n",
       "      <th>st_n</th>\n",
       "      <th>st_cd</th>\n",
       "      <th>news</th>\n",
       "      <th>datetime</th>\n",
       "      <th>title</th>\n",
       "      <th>url</th>\n",
       "      <th>text</th>\n",
       "      <th>date</th>\n",
       "      <th>time</th>\n",
       "      <th>score</th>\n",
       "      <th>Open</th>\n",
       "      <th>High</th>\n",
       "      <th>Low</th>\n",
       "      <th>Close</th>\n",
       "      <th>Volume</th>\n",
       "      <th>Change</th>\n",
       "      <th>UpDown</th>\n",
       "      <th>Extremely_Changed</th>\n",
       "    </tr>\n",
       "  </thead>\n",
       "  <tbody>\n",
       "  </tbody>\n",
       "</table>\n",
       "</div>"
      ],
      "text/plain": [
       "Empty DataFrame\n",
       "Columns: [st_n, st_cd, news, datetime, title, url, text, date, time, score, Open, High, Low, Close, Volume, Change, UpDown, Extremely_Changed]\n",
       "Index: []"
      ]
     },
     "execution_count": 3,
     "metadata": {},
     "output_type": "execute_result"
    }
   ],
   "source": [
    "maeil[maeil['text'].isna()]"
   ]
  },
  {
   "cell_type": "code",
   "execution_count": 4,
   "id": "6486b9b7-f056-4175-be57-4458a92efeb5",
   "metadata": {},
   "outputs": [
    {
     "data": {
      "text/html": [
       "<div>\n",
       "<style scoped>\n",
       "    .dataframe tbody tr th:only-of-type {\n",
       "        vertical-align: middle;\n",
       "    }\n",
       "\n",
       "    .dataframe tbody tr th {\n",
       "        vertical-align: top;\n",
       "    }\n",
       "\n",
       "    .dataframe thead th {\n",
       "        text-align: right;\n",
       "    }\n",
       "</style>\n",
       "<table border=\"1\" class=\"dataframe\">\n",
       "  <thead>\n",
       "    <tr style=\"text-align: right;\">\n",
       "      <th></th>\n",
       "      <th>st_n</th>\n",
       "      <th>st_cd</th>\n",
       "      <th>news</th>\n",
       "      <th>datetime</th>\n",
       "      <th>title</th>\n",
       "      <th>url</th>\n",
       "      <th>text</th>\n",
       "      <th>date</th>\n",
       "      <th>time</th>\n",
       "      <th>score</th>\n",
       "      <th>Open</th>\n",
       "      <th>High</th>\n",
       "      <th>Low</th>\n",
       "      <th>Close</th>\n",
       "      <th>Volume</th>\n",
       "      <th>Change</th>\n",
       "      <th>UpDown</th>\n",
       "      <th>Extremely_Changed</th>\n",
       "    </tr>\n",
       "  </thead>\n",
       "  <tbody>\n",
       "    <tr>\n",
       "      <th>6323</th>\n",
       "      <td>sk하이닉스</td>\n",
       "      <td>660</td>\n",
       "      <td>아시아경제</td>\n",
       "      <td>2021012907</td>\n",
       "      <td>[속보]SK하이닉스, 작년 매출 31.9조원…영업이익 5조원</td>\n",
       "      <td>https://view.asiae.co.kr/article/2021012907373...</td>\n",
       "      <td>NaN</td>\n",
       "      <td>2021-01-29</td>\n",
       "      <td>7</td>\n",
       "      <td>0</td>\n",
       "      <td>128500</td>\n",
       "      <td>128500</td>\n",
       "      <td>121500</td>\n",
       "      <td>122500</td>\n",
       "      <td>7391307</td>\n",
       "      <td>-0.004065</td>\n",
       "      <td>-1</td>\n",
       "      <td>0</td>\n",
       "    </tr>\n",
       "    <tr>\n",
       "      <th>6324</th>\n",
       "      <td>sk하이닉스</td>\n",
       "      <td>660</td>\n",
       "      <td>아시아경제</td>\n",
       "      <td>2021012907</td>\n",
       "      <td>[속보]SK하이닉스, 작년 4분기 매출 7.9조원…영업이익 9659억원</td>\n",
       "      <td>https://view.asiae.co.kr/article/2021012907434...</td>\n",
       "      <td>NaN</td>\n",
       "      <td>2021-01-29</td>\n",
       "      <td>7</td>\n",
       "      <td>0</td>\n",
       "      <td>128500</td>\n",
       "      <td>128500</td>\n",
       "      <td>121500</td>\n",
       "      <td>122500</td>\n",
       "      <td>7391307</td>\n",
       "      <td>-0.004065</td>\n",
       "      <td>-1</td>\n",
       "      <td>0</td>\n",
       "    </tr>\n",
       "  </tbody>\n",
       "</table>\n",
       "</div>"
      ],
      "text/plain": [
       "        st_n  st_cd   news    datetime  \\\n",
       "6323  sk하이닉스    660  아시아경제  2021012907   \n",
       "6324  sk하이닉스    660  아시아경제  2021012907   \n",
       "\n",
       "                                        title  \\\n",
       "6323        [속보]SK하이닉스, 작년 매출 31.9조원…영업이익 5조원   \n",
       "6324  [속보]SK하이닉스, 작년 4분기 매출 7.9조원…영업이익 9659억원   \n",
       "\n",
       "                                                    url text        date  \\\n",
       "6323  https://view.asiae.co.kr/article/2021012907373...  NaN  2021-01-29   \n",
       "6324  https://view.asiae.co.kr/article/2021012907434...  NaN  2021-01-29   \n",
       "\n",
       "      time  score    Open    High     Low   Close   Volume    Change  UpDown  \\\n",
       "6323     7      0  128500  128500  121500  122500  7391307 -0.004065      -1   \n",
       "6324     7      0  128500  128500  121500  122500  7391307 -0.004065      -1   \n",
       "\n",
       "      Extremely_Changed  \n",
       "6323                  0  \n",
       "6324                  0  "
      ]
     },
     "execution_count": 4,
     "metadata": {},
     "output_type": "execute_result"
    }
   ],
   "source": [
    "asia[asia['text'].isna()]"
   ]
  },
  {
   "cell_type": "code",
   "execution_count": 5,
   "id": "50565fc9-994b-4e8a-8fc5-44f18a24a2c0",
   "metadata": {},
   "outputs": [],
   "source": [
    "maeil.dropna(axis=0, inplace=True)   \n",
    "maeil = maeil.reset_index(drop=True)   # reset_index() 꼭 해줘야 함...!!\n",
    "asia.dropna(axis=0, inplace=True)\n",
    "asia = asia.reset_index(drop=True)     # reset_index() 꼭 해줘야 함...!!"
   ]
  },
  {
   "cell_type": "code",
   "execution_count": 6,
   "id": "28ba9f2b-faab-4c33-8444-4ed46f936b5c",
   "metadata": {},
   "outputs": [],
   "source": [
    "media_DF_list = [maeil, asia]"
   ]
  },
  {
   "cell_type": "code",
   "execution_count": 7,
   "id": "7afa6bed-214c-46ee-9a05-c2e298199a4e",
   "metadata": {},
   "outputs": [],
   "source": [
    "# Stop Words List에 각 매체명 추가\n",
    "stopwords = pd.read_csv(\"https://raw.githubusercontent.com/yoonkt200/FastCampusDataset/master/korean_stopwords.txt\")\n",
    "media_list = ['매일경제', '아시아경제', '삼프로TV', '슈카월드', '한국경제TV']\n",
    "for word in [media_list]:\n",
    "    stopwords.append(word)"
   ]
  },
  {
   "cell_type": "code",
   "execution_count": 8,
   "id": "ddbb03ee-e908-41b4-9e2c-9490bd1ffda2",
   "metadata": {},
   "outputs": [],
   "source": [
    "limit_number = 15000\n",
    "sys.setrecursionlimit(limit_number)"
   ]
  },
  {
   "cell_type": "code",
   "execution_count": 9,
   "id": "30ab1c91-a66a-4ead-9989-cfe8439b994e",
   "metadata": {},
   "outputs": [],
   "source": [
    "for i in range(len(media_DF_list)):\n",
    "    media_DF_list[i]['except_stopwords'] = 0\n",
    "    for j in range(len(media_DF_list[i]['text'])):\n",
    "#         hangeul = re.compile('[^ ㄱ-ㅣ 가-힣]')                  # 정규 표현식  → 한글 추출 규칙 : 띄어쓰기(1개)를 포함한 한글\n",
    "#         result = hangeul.sub('', media_DF_list[i]['text'][j])   # 위에 설정한 hangeul 규칙을 text에 적용\n",
    "        okt = Okt()                                             # 형태소 추출\n",
    "        nouns = okt.nouns(media_DF_list[i]['text'][j])\n",
    "        nouns = [x for x in nouns if len(x) > 1]                # 한 글자 키워드 제거\n",
    "        nouns = [x for x in nouns if x not in stopwords]        # 불용어 제거\n",
    "        \n",
    "        corpus = \" \".join(nouns)                                # List를 String으로 변환\n",
    "        media_DF_list[i]['except_stopwords'][j] = corpus"
   ]
  },
  {
   "cell_type": "code",
   "execution_count": 10,
   "id": "44edd08a-777e-4b62-b223-91acbec8461c",
   "metadata": {},
   "outputs": [],
   "source": [
    "maeil.to_csv('../../../../Code/Data/Test/2021_maeil.csv', index=False)\n",
    "asia.to_csv('../../../../Code/Data/Test/2021_asia.csv', index=False)"
   ]
  },
  {
   "cell_type": "code",
   "execution_count": null,
   "id": "e3fdc7f4-7915-49a5-b2b2-944a1871f02b",
   "metadata": {},
   "outputs": [],
   "source": []
  }
 ],
 "metadata": {
  "kernelspec": {
   "display_name": "Python Multi",
   "language": "python",
   "name": "multi"
  },
  "language_info": {
   "codemirror_mode": {
    "name": "ipython",
    "version": 3
   },
   "file_extension": ".py",
   "mimetype": "text/x-python",
   "name": "python",
   "nbconvert_exporter": "python",
   "pygments_lexer": "ipython3",
   "version": "3.9.5"
  }
 },
 "nbformat": 4,
 "nbformat_minor": 5
}
