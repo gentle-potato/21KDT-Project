{
 "cells": [
  {
   "cell_type": "markdown",
   "id": "7042b04a-76e6-4007-b71b-55ce88359731",
   "metadata": {},
   "source": [
    "# **Lexicon**"
   ]
  },
  {
   "cell_type": "code",
   "execution_count": 1,
   "id": "2f505ac3-b109-46f0-b59b-9eeb657aa2f3",
   "metadata": {},
   "outputs": [],
   "source": [
    "import numpy as np\n",
    "import pandas as pd\n",
    "\n",
    "# Visualization\n",
    "import matplotlib.pyplot as plt\n",
    "import seaborn as sns\n",
    "%matplotlib inline\n",
    "\n",
    "# DB 연결\n",
    "# !pip install pymysql\n",
    "import pymysql\n",
    "\n",
    "# 실시간 주식가격 데이터\n",
    "# !pip install finance-datareader\n",
    "import FinanceDataReader as fdr\n",
    "\n",
    "# 텍스트 분석\n",
    "# 1) JAVA 설치, 2) Python 버전과 맞는 JPype1-py3 설치, 3) !pip install konlpy, 4) 설치 경로에서 jvm.py 파일 코드 67번 줄 주석 처리 \n",
    "from konlpy.tag import Okt\n",
    "import nltk\n",
    "from nltk.sentiment.vader import SentimentIntensityAnalyzer\n",
    "from sklearn.feature_extraction.text import CountVectorizer, TfidfVectorizer\n",
    "\n",
    "# 모델 학습 및 평가\n",
    "from sklearn.model_selection import train_test_split\n",
    "from sklearn.pipeline import Pipeline\n",
    "from sklearn.model_selection import GridSearchCV\n",
    "from sklearn.linear_model import LogisticRegression\n",
    "from sklearn.metrics import accuracy_score, roc_auc_score\n",
    "from sklearn.metrics import precision_score, recall_score\n",
    "\n",
    "# 모델 저장 및 로드\n",
    "import joblib\n",
    "\n",
    "# 기타\n",
    "import datetime\n",
    "from collections import Counter\n",
    "import sys\n",
    "import warnings\n",
    "warnings.filterwarnings('ignore')"
   ]
  },
  {
   "cell_type": "code",
   "execution_count": 2,
   "id": "651ff13e-c08e-4eb0-a4dd-2633d8dfbb73",
   "metadata": {},
   "outputs": [
    {
     "name": "stdout",
     "output_type": "stream",
     "text": [
      "GPU 사용 불가능\n"
     ]
    }
   ],
   "source": [
    "import tensorflow as tf\n",
    "\n",
    "print('GPU', '사용 가능' if tf.config.experimental.list_physical_devices('GPU') else '사용 불가능')"
   ]
  },
  {
   "cell_type": "code",
   "execution_count": 3,
   "id": "a34d4e8d-d6fe-442b-937c-7bd6513629d5",
   "metadata": {},
   "outputs": [
    {
     "name": "stdout",
     "output_type": "stream",
     "text": [
      "Sat Sep 11 09:12:51 2021       \n",
      "+-----------------------------------------------------------------------------+\n",
      "| NVIDIA-SMI 452.56       Driver Version: 452.56       CUDA Version: 11.0     |\n",
      "|-------------------------------+----------------------+----------------------+\n",
      "| GPU  Name            TCC/WDDM | Bus-Id        Disp.A | Volatile Uncorr. ECC |\n",
      "| Fan  Temp  Perf  Pwr:Usage/Cap|         Memory-Usage | GPU-Util  Compute M. |\n",
      "|                               |                      |               MIG M. |\n",
      "|===============================+======================+======================|\n",
      "|   0  GeForce MX450      WDDM  | 00000000:2D:00.0 Off |                  N/A |\n",
      "| N/A   61C    P8    N/A /  N/A |    119MiB /  2048MiB |      0%      Default |\n",
      "|                               |                      |                  N/A |\n",
      "+-------------------------------+----------------------+----------------------+\n",
      "                                                                               \n",
      "+-----------------------------------------------------------------------------+\n",
      "| Processes:                                                                  |\n",
      "|  GPU   GI   CI        PID   Type   Process name                  GPU Memory |\n",
      "|        ID   ID                                                   Usage      |\n",
      "|=============================================================================|\n",
      "|  No running processes found                                                 |\n",
      "+-----------------------------------------------------------------------------+\n"
     ]
    }
   ],
   "source": [
    "!nvidia-smi"
   ]
  },
  {
   "cell_type": "markdown",
   "id": "2533a6b3-29d7-4cb9-9565-66539136b6ec",
   "metadata": {},
   "source": [
    "## **Read Data**"
   ]
  },
  {
   "cell_type": "markdown",
   "id": "8d50b2d2-228b-469a-a7a9-d3e8197d600d",
   "metadata": {},
   "source": [
    "### **① KOSELF 감성 어휘 사전**"
   ]
  },
  {
   "cell_type": "code",
   "execution_count": 4,
   "id": "4ea5a697-d751-4a6e-9936-9f0aa3bf0162",
   "metadata": {},
   "outputs": [],
   "source": [
    "# 블로그에서 가져온 기본적인 한국어 긍부정 텍스트 목록\n",
    "with open('positive_words_self.txt', encoding='utf-8') as pos_blog:\n",
    "    positive_blog = pos_blog.readlines()\n",
    "positive_blog = [pos_blog.replace('\\n', '') for pos_blog in positive_blog]\n",
    "with open('negative_words_self.txt', encoding='utf-8') as neg_blog:\n",
    "    negative_blog = neg_blog.readlines()\n",
    "negative_blog = [neg_blog.replace('\\n', '') for neg_blog in negative_blog]\n",
    "\n",
    "# KOSELF 감성 어휘 사전\n",
    "with open('KOSELF_pos.txt', encoding='utf-8') as pos:\n",
    "    positive = pos.readlines()\n",
    "positive = [pos.replace('\\n', '') for pos in positive]\n",
    "with open('KOSELF_neg.txt', encoding='utf-8') as neg:\n",
    "    negative = neg.readlines()\n",
    "negative = [neg.replace('\\n', '') for neg in negative]"
   ]
  },
  {
   "cell_type": "markdown",
   "id": "d6c16822-eb52-404c-89f3-af2e019654f5",
   "metadata": {},
   "source": [
    "### **② 연도별 News Data**"
   ]
  },
  {
   "cell_type": "code",
   "execution_count": 5,
   "id": "4c19c5fe-6717-4433-8390-5161f9a18095",
   "metadata": {},
   "outputs": [],
   "source": [
    "years = ['2018', '2019', '2020', '2021']\n",
    "for i in range(len(years)):\n",
    "    globals()['news_' + years[i]] = pd.read_csv('../../../../Code/Data/news_{}.csv'.format(years[i]))\n",
    "    globals()['news_' + years[i]].dropna(axis=0, inplace=True)"
   ]
  },
  {
   "cell_type": "code",
   "execution_count": 6,
   "id": "7d532e65-5d9b-4d4f-8d3f-06f5bfd0787e",
   "metadata": {},
   "outputs": [
    {
     "data": {
      "text/plain": [
       "(52484, 18)"
      ]
     },
     "execution_count": 6,
     "metadata": {},
     "output_type": "execute_result"
    }
   ],
   "source": [
    "test = pd.concat([news_2018, news_2019, news_2020])\n",
    "\n",
    "test.shape"
   ]
  },
  {
   "cell_type": "code",
   "execution_count": 7,
   "id": "bf231fa2-ca38-4787-99c8-7465730e2067",
   "metadata": {},
   "outputs": [
    {
     "data": {
      "text/html": [
       "<div>\n",
       "<style scoped>\n",
       "    .dataframe tbody tr th:only-of-type {\n",
       "        vertical-align: middle;\n",
       "    }\n",
       "\n",
       "    .dataframe tbody tr th {\n",
       "        vertical-align: top;\n",
       "    }\n",
       "\n",
       "    .dataframe thead th {\n",
       "        text-align: right;\n",
       "    }\n",
       "</style>\n",
       "<table border=\"1\" class=\"dataframe\">\n",
       "  <thead>\n",
       "    <tr style=\"text-align: right;\">\n",
       "      <th></th>\n",
       "      <th>st_n</th>\n",
       "      <th>st_cd</th>\n",
       "      <th>news</th>\n",
       "      <th>datetime</th>\n",
       "      <th>title</th>\n",
       "      <th>url</th>\n",
       "      <th>text</th>\n",
       "      <th>date</th>\n",
       "      <th>time</th>\n",
       "      <th>score</th>\n",
       "      <th>Open</th>\n",
       "      <th>High</th>\n",
       "      <th>Low</th>\n",
       "      <th>Close</th>\n",
       "      <th>Volume</th>\n",
       "      <th>Change</th>\n",
       "      <th>UpDown</th>\n",
       "      <th>Extremely_Changed</th>\n",
       "    </tr>\n",
       "  </thead>\n",
       "  <tbody>\n",
       "  </tbody>\n",
       "</table>\n",
       "</div>"
      ],
      "text/plain": [
       "Empty DataFrame\n",
       "Columns: [st_n, st_cd, news, datetime, title, url, text, date, time, score, Open, High, Low, Close, Volume, Change, UpDown, Extremely_Changed]\n",
       "Index: []"
      ]
     },
     "execution_count": 7,
     "metadata": {},
     "output_type": "execute_result"
    }
   ],
   "source": [
    "test[test['text'].isna()]"
   ]
  },
  {
   "cell_type": "markdown",
   "id": "11f47190-d976-4dae-9799-7dca3b98fda5",
   "metadata": {},
   "source": [
    "## **③ Stop Words**"
   ]
  },
  {
   "cell_type": "code",
   "execution_count": 8,
   "id": "5bb906cf-8a63-4883-9a29-01c179c4ee8a",
   "metadata": {},
   "outputs": [],
   "source": [
    "# https://gist.github.com/spikeekips/40eea22ef4a89f629abd87eed535ac6a#file-stopwords-ko-txt\n",
    "with open('stopwords-ko.txt', encoding='utf-8') as sw:\n",
    "    stop_words = sw.readlines()\n",
    "stop_words = [sw.replace('\\n', '') for sw in stop_words]"
   ]
  },
  {
   "cell_type": "markdown",
   "id": "5248afc2-50a9-479e-b3fe-de0891a1d80a",
   "metadata": {},
   "source": [
    "## **Sentiment Analysis**"
   ]
  },
  {
   "cell_type": "markdown",
   "id": "1beeccb6-2895-4a4b-a235-4c90b73feec2",
   "metadata": {},
   "source": [
    "### **① 연도별 Lexicon**"
   ]
  },
  {
   "cell_type": "markdown",
   "id": "a2112c31-5779-402f-bad4-12272f3baee3",
   "metadata": {},
   "source": [
    "#### **(1) Pos Dict**"
   ]
  },
  {
   "cell_type": "code",
   "execution_count": 9,
   "id": "4e694f6e-bd21-4374-9dfd-4f2b17f0e92c",
   "metadata": {},
   "outputs": [],
   "source": [
    "tokenizer = Okt()\n",
    "\n",
    "for i in range(len(years)):\n",
    "    globals()['pos_' + years[i]] = []\n",
    "    positive_text = globals()['news_' + years[i]][globals()['news_' + years[i]]['Extremely_Changed']==1]['text']\n",
    "    \n",
    "    for x in positive_text:\n",
    "        words = tokenizer.nouns(x)\n",
    "        # 불용어 제거하고 긍정어 리스트에 추가\n",
    "        for y in words:\n",
    "            if y not in stop_words:\n",
    "                globals()['pos_' + years[i]].append(y)\n",
    "            else:\n",
    "                pass"
   ]
  },
  {
   "cell_type": "markdown",
   "id": "6204f65a-0a88-43b6-b6b2-22c44babe16c",
   "metadata": {},
   "source": [
    "#### **(2) Neg Dict**"
   ]
  },
  {
   "cell_type": "code",
   "execution_count": 10,
   "id": "98328d38-b8c8-4636-83f0-da4e13982a79",
   "metadata": {},
   "outputs": [],
   "source": [
    "tokenizer = Okt()\n",
    "\n",
    "for i in range(len(years)):\n",
    "    globals()['neg_' + years[i]] = []\n",
    "    negative_text = globals()['news_' + years[i]][globals()['news_' + years[i]]['Extremely_Changed']==1]['text']\n",
    "    \n",
    "    for x in negative_text:\n",
    "        words = tokenizer.nouns(x)\n",
    "        # 불용어 제거하고 부정어 리스트에 추가\n",
    "        for y in words:\n",
    "            if y not in stop_words:\n",
    "                globals()['neg_' + years[i]].append(y)\n",
    "            else:\n",
    "                pass"
   ]
  },
  {
   "cell_type": "markdown",
   "id": "6bcce7f9-6f77-4462-b4bb-9a62224348eb",
   "metadata": {},
   "source": [
    "#### **(3) Giro Dick**"
   ]
  },
  {
   "cell_type": "code",
   "execution_count": 11,
   "id": "0d564bd9-b598-4277-b183-1bda0ee8d672",
   "metadata": {},
   "outputs": [
    {
     "data": {
      "text/plain": [
       "2671"
      ]
     },
     "execution_count": 11,
     "metadata": {},
     "output_type": "execute_result"
    }
   ],
   "source": [
    "Counter(pos_2018).most_common(20)[0][1]"
   ]
  },
  {
   "cell_type": "code",
   "execution_count": 12,
   "id": "cdffe84f-37d1-4e21-b5a2-24d17ca89f75",
   "metadata": {},
   "outputs": [
    {
     "data": {
      "text/plain": [
       "(11682, 238464)"
      ]
     },
     "execution_count": 12,
     "metadata": {},
     "output_type": "execute_result"
    }
   ],
   "source": [
    "len(Counter(pos_2018)), len(pos_2018)"
   ]
  },
  {
   "cell_type": "code",
   "execution_count": 13,
   "id": "ece6bd85-0d56-4921-8a12-6bea5e73bd09",
   "metadata": {},
   "outputs": [],
   "source": [
    "# 긍정어\n",
    "for i in range(len(years)):\n",
    "    globals()['lexicon_pos_' + years[i]] = pd.DataFrame(Counter(globals()['pos_' + years[i]]).most_common(), columns=['word', 'frequency'])\n",
    "\n",
    "# 부정어\n",
    "for i in range(len(years)):\n",
    "    globals()['lexicon_neg_' + years[i]] = pd.DataFrame(Counter(globals()['neg_' + years[i]]).most_common(), columns=['word', 'frequency'])"
   ]
  },
  {
   "cell_type": "code",
   "execution_count": 14,
   "id": "6e1c726c-098b-408e-a483-d5106ea27558",
   "metadata": {},
   "outputs": [
    {
     "data": {
      "text/html": [
       "<div>\n",
       "<style scoped>\n",
       "    .dataframe tbody tr th:only-of-type {\n",
       "        vertical-align: middle;\n",
       "    }\n",
       "\n",
       "    .dataframe tbody tr th {\n",
       "        vertical-align: top;\n",
       "    }\n",
       "\n",
       "    .dataframe thead th {\n",
       "        text-align: right;\n",
       "    }\n",
       "</style>\n",
       "<table border=\"1\" class=\"dataframe\">\n",
       "  <thead>\n",
       "    <tr style=\"text-align: right;\">\n",
       "      <th></th>\n",
       "      <th>word</th>\n",
       "      <th>frequency</th>\n",
       "    </tr>\n",
       "  </thead>\n",
       "  <tbody>\n",
       "    <tr>\n",
       "      <th>0</th>\n",
       "      <td>코스피</td>\n",
       "      <td>2671</td>\n",
       "    </tr>\n",
       "    <tr>\n",
       "      <th>1</th>\n",
       "      <td>전일</td>\n",
       "      <td>2319</td>\n",
       "    </tr>\n",
       "    <tr>\n",
       "      <th>2</th>\n",
       "      <td>거래</td>\n",
       "      <td>2090</td>\n",
       "    </tr>\n",
       "    <tr>\n",
       "      <th>3</th>\n",
       "      <td>증권</td>\n",
       "      <td>1778</td>\n",
       "    </tr>\n",
       "    <tr>\n",
       "      <th>4</th>\n",
       "      <td>대비</td>\n",
       "      <td>1748</td>\n",
       "    </tr>\n",
       "    <tr>\n",
       "      <th>...</th>\n",
       "      <td>...</td>\n",
       "      <td>...</td>\n",
       "    </tr>\n",
       "    <tr>\n",
       "      <th>11677</th>\n",
       "      <td>태동</td>\n",
       "      <td>1</td>\n",
       "    </tr>\n",
       "    <tr>\n",
       "      <th>11678</th>\n",
       "      <td>차트</td>\n",
       "      <td>1</td>\n",
       "    </tr>\n",
       "    <tr>\n",
       "      <th>11679</th>\n",
       "      <td>지선</td>\n",
       "      <td>1</td>\n",
       "    </tr>\n",
       "    <tr>\n",
       "      <th>11680</th>\n",
       "      <td>김광현</td>\n",
       "      <td>1</td>\n",
       "    </tr>\n",
       "    <tr>\n",
       "      <th>11681</th>\n",
       "      <td>희망이</td>\n",
       "      <td>1</td>\n",
       "    </tr>\n",
       "  </tbody>\n",
       "</table>\n",
       "<p>11682 rows × 2 columns</p>\n",
       "</div>"
      ],
      "text/plain": [
       "      word  frequency\n",
       "0      코스피       2671\n",
       "1       전일       2319\n",
       "2       거래       2090\n",
       "3       증권       1778\n",
       "4       대비       1748\n",
       "...    ...        ...\n",
       "11677   태동          1\n",
       "11678   차트          1\n",
       "11679   지선          1\n",
       "11680  김광현          1\n",
       "11681  희망이          1\n",
       "\n",
       "[11682 rows x 2 columns]"
      ]
     },
     "execution_count": 14,
     "metadata": {},
     "output_type": "execute_result"
    }
   ],
   "source": [
    "lexicon_pos_2018"
   ]
  },
  {
   "cell_type": "code",
   "execution_count": null,
   "id": "45ca87e1-d5e6-4764-9695-9f3b83360cab",
   "metadata": {},
   "outputs": [],
   "source": []
  },
  {
   "cell_type": "code",
   "execution_count": null,
   "id": "2723580e-a319-480c-9321-5c8702058767",
   "metadata": {},
   "outputs": [],
   "source": []
  },
  {
   "cell_type": "code",
   "execution_count": null,
   "id": "a7f1d746-fcee-4e81-b00f-f3df8f14c4b2",
   "metadata": {},
   "outputs": [],
   "source": []
  },
  {
   "cell_type": "code",
   "execution_count": null,
   "id": "cdd0235d-431c-422c-8d3b-cf43f782d345",
   "metadata": {},
   "outputs": [],
   "source": []
  }
 ],
 "metadata": {
  "kernelspec": {
   "display_name": "Python Multi",
   "language": "python",
   "name": "multi"
  },
  "language_info": {
   "codemirror_mode": {
    "name": "ipython",
    "version": 3
   },
   "file_extension": ".py",
   "mimetype": "text/x-python",
   "name": "python",
   "nbconvert_exporter": "python",
   "pygments_lexer": "ipython3",
   "version": "3.9.5"
  }
 },
 "nbformat": 4,
 "nbformat_minor": 5
}
