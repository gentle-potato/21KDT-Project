{
 "cells": [
  {
   "cell_type": "markdown",
   "id": "e23147b6-6585-49fa-aa5e-0f6c1a4851ad",
   "metadata": {},
   "source": [
    "# **Lexicon**"
   ]
  },
  {
   "cell_type": "code",
   "execution_count": 1,
   "id": "925e8392-cb96-4cd7-abb4-936eaca535de",
   "metadata": {},
   "outputs": [],
   "source": [
    "import numpy as np\n",
    "import pandas as pd\n",
    "\n",
    "### Visualization\n",
    "import matplotlib.pyplot as plt\n",
    "import seaborn as sns\n",
    "%matplotlib inline\n",
    "\n",
    "### DB 연결\n",
    "# !pip install pymysql\n",
    "import pymysql\n",
    "\n",
    "### DB에 저장\n",
    "import sqlalchemy\n",
    "from sqlalchemy import create_engine\n",
    "\n",
    "### 실시간 주식가격 데이터\n",
    "# !pip install finance-datareader\n",
    "import FinanceDataReader as fdr\n",
    "\n",
    "### 텍스트 분석\n",
    "## KoNLPy\n",
    "# 1) JAVA 설치, 2) Python 버전과 맞는 JPype1-py3 설치, 3) !pip install konlpy, 4) 설치 경로에서 jvm.py 파일 코드 67번 줄 주석 처리 \n",
    "from konlpy.tag import Okt\n",
    "import nltk\n",
    "from nltk.sentiment.vader import SentimentIntensityAnalyzer\n",
    "from sklearn.feature_extraction.text import CountVectorizer, TfidfVectorizer\n",
    "import re\n",
    "## FastText\n",
    "# !pip install gensim\n",
    "# !pip install fasttext\n",
    "import fasttext\n",
    "import fasttext.util\n",
    "# Facebook 한국어 Embedding 모델 다운로드 → 한 번만 설치하면 됨\n",
    "# fasttext.util.download_model('ko', if_exists='ignore')   # FastText 모델 사용 시에만 필요\n",
    "# 유사도 계산\n",
    "from gensim import models\n",
    "\n",
    "### 모델 학습 및 평가\n",
    "from sklearn.model_selection import train_test_split\n",
    "from sklearn.pipeline import Pipeline\n",
    "from sklearn.model_selection import GridSearchCV\n",
    "from sklearn.linear_model import LogisticRegression\n",
    "from sklearn.metrics import accuracy_score, roc_auc_score\n",
    "from sklearn.metrics import precision_score, recall_score, f1_score\n",
    "\n",
    "### 모델 저장 및 로드\n",
    "import joblib\n",
    "\n",
    "### 기타\n",
    "import datetime\n",
    "from collections import Counter\n",
    "import sys\n",
    "import warnings\n",
    "warnings.filterwarnings('ignore')"
   ]
  },
  {
   "cell_type": "markdown",
   "id": "629774a0-219d-40b0-be55-e5b422cdd54f",
   "metadata": {},
   "source": [
    "## **Read Data**"
   ]
  },
  {
   "cell_type": "code",
   "execution_count": 5,
   "id": "89f40f21-e89f-438b-b2b0-2cd35aafb954",
   "metadata": {},
   "outputs": [],
   "source": [
    "samsung_news_50 = pd.read_csv('../../../../Code/Lexicon/samsung_news_50.csv')\n",
    "samsung_news_60 = pd.read_csv('../../../../Code/Lexicon/samsung_news_60.csv')\n",
    "samsung_news_65 = pd.read_csv('../../../../Code/Lexicon/samsung_news_65.csv')\n",
    "samsung_news_70 = pd.read_csv('../../../../Code/Lexicon/samsung_news_70.csv')\n",
    "\n",
    "hyundai_news_50 = pd.read_csv('../../../../Code/Lexicon/hyundai_news_50.csv')\n",
    "hyundai_news_60 = pd.read_csv('../../../../Code/Lexicon/hyundai_news_60.csv')\n",
    "hyundai_news_65 = pd.read_csv('../../../../Code/Lexicon/hyundai_news_65.csv')\n",
    "hyundai_news_70 = pd.read_csv('../../../../Code/Lexicon/hyundai_news_70.csv')\n",
    "\n",
    "lg_news_50 = pd.read_csv('../../../../Code/Lexicon/lg_news_50.csv')\n",
    "lg_news_60 = pd.read_csv('../../../../Code/Lexicon/lg_news_60.csv')\n",
    "lg_news_65 = pd.read_csv('../../../../Code/Lexicon/lg_news_65.csv')\n",
    "lg_news_70 = pd.read_csv('../../../../Code/Lexicon/lg_news_70.csv')\n",
    "\n",
    "sk_news_50 = pd.read_csv('../../../../Code/Lexicon/sk_news_50.csv')\n",
    "sk_news_60 = pd.read_csv('../../../../Code/Lexicon/sk_news_60.csv')\n",
    "sk_news_65 = pd.read_csv('../../../../Code/Lexicon/sk_news_65.csv')\n",
    "sk_news_70 = pd.read_csv('../../../../Code/Lexicon/sk_news_70.csv')\n",
    "\n",
    "celltrion_news_50 = pd.read_csv('../../../../Code/Lexicon/celltrion_news_50.csv')\n",
    "celltrion_news_60 = pd.read_csv('../../../../Code/Lexicon/celltrion_news_60.csv')\n",
    "celltrion_news_65 = pd.read_csv('../../../../Code/Lexicon/celltrion_news_65.csv')\n",
    "celltrion_news_70 = pd.read_csv('../../../../Code/Lexicon/celltrion_news_70.csv')"
   ]
  },
  {
   "cell_type": "markdown",
   "id": "7399929e-4796-45f5-990a-9e031807c93d",
   "metadata": {},
   "source": [
    "## **Accuracy**"
   ]
  },
  {
   "cell_type": "code",
   "execution_count": 7,
   "id": "7295242e-abb1-422f-9709-46571d8ca9a5",
   "metadata": {},
   "outputs": [
    {
     "name": "stdout",
     "output_type": "stream",
     "text": [
      "Lexicon of SAMSUNG(50%)'s Accuracy : 0.4962393774623124\n",
      "Lexicon of SAMSUNG(60%)'s Accuracy : 0.4963696154722756\n",
      "Lexicon of SAMSUNG(65%)'s Accuracy : 0.4968905675121284\n",
      "Lexicon of SAMSUNG(70%)'s Accuracy : 0.4989092566665581\n",
      "\n",
      "==================================================\n",
      "\n",
      "Lexicon of HYUNDAI(50%)'s Accuracy : 0.46895886889460153\n",
      "Lexicon of HYUNDAI(60%)'s Accuracy : 0.46503856041131103\n",
      "Lexicon of HYUNDAI(65%)'s Accuracy : 0.462853470437018\n",
      "Lexicon of HYUNDAI(70%)'s Accuracy : 0.4645886889460154\n",
      "\n",
      "==================================================\n",
      "\n",
      "Lexicon of LG(50%)'s Accuracy : 0.5165836298932385\n",
      "Lexicon of LG(60%)'s Accuracy : 0.511459074733096\n",
      "Lexicon of LG(65%)'s Accuracy : 0.5079003558718861\n",
      "Lexicon of LG(70%)'s Accuracy : 0.5047686832740214\n",
      "\n",
      "==================================================\n",
      "\n",
      "Lexicon of SK(50%)'s Accuracy : 0.49957654033453314\n",
      "Lexicon of SK(60%)'s Accuracy : 0.5003175947491002\n",
      "Lexicon of SK(65%)'s Accuracy : 0.49978827016726657\n",
      "Lexicon of SK(70%)'s Accuracy : 0.49576540334533137\n",
      "\n",
      "==================================================\n",
      "\n",
      "Lexicon of CELLTRION(50%)'s Accuracy : 0.4913294797687861\n",
      "Lexicon of CELLTRION(60%)'s Accuracy : 0.4977979631158822\n",
      "Lexicon of CELLTRION(65%)'s Accuracy : 0.49421965317919075\n",
      "Lexicon of CELLTRION(70%)'s Accuracy : 0.4993118634737132\n",
      "\n",
      "==================================================\n",
      "\n"
     ]
    }
   ],
   "source": [
    "corp_list = ['samsung', 'hyundai', 'lg', 'sk', 'celltrion']\n",
    "similar = ['50', '60', '65', '70']\n",
    "\n",
    "# Accuracy 확인\n",
    "for i in range(len(corp_list)):\n",
    "    if corp_list[i] == 'samsung':\n",
    "        corp = 'SAMSUNG'\n",
    "    elif corp_list[i] == 'hyundai':\n",
    "        corp = 'HYUNDAI'\n",
    "    elif corp_list[i] == 'lg':\n",
    "        corp = 'LG'\n",
    "    elif corp_list[i] == 'sk':\n",
    "        corp = 'SK'\n",
    "    else:\n",
    "        corp = 'CELLTRION'\n",
    "        \n",
    "    for j in range(len(similar)):\n",
    "        print(\"Lexicon of {}({}%)'s Accuracy : {}\".format(corp, similar[j], (len(globals()[corp_list[i] + '_news_' + similar[j]][(globals()[corp_list[i] + '_news_' + similar[j]]['UpDown']>=0) & (globals()[corp_list[i] + '_news_' + similar[j]]['Pred']>=0)]) + len(globals()[corp_list[i] + '_news_' + similar[j]][(globals()[corp_list[i] + '_news_' + similar[j]]['UpDown']<0) & (globals()[corp_list[i] + '_news_' + similar[j]]['Pred']<0)])) / len(globals()[corp_list[i] + '_news_' + similar[j]]['Pred'])))\n",
    "    \n",
    "    print('\\n==================================================\\n')"
   ]
  },
  {
   "cell_type": "code",
   "execution_count": 11,
   "id": "4560e171-6806-4b10-b44f-08adac149155",
   "metadata": {},
   "outputs": [
    {
     "data": {
      "text/html": [
       "<div>\n",
       "<style scoped>\n",
       "    .dataframe tbody tr th:only-of-type {\n",
       "        vertical-align: middle;\n",
       "    }\n",
       "\n",
       "    .dataframe tbody tr th {\n",
       "        vertical-align: top;\n",
       "    }\n",
       "\n",
       "    .dataframe thead th {\n",
       "        text-align: right;\n",
       "    }\n",
       "</style>\n",
       "<table border=\"1\" class=\"dataframe\">\n",
       "  <thead>\n",
       "    <tr style=\"text-align: right;\">\n",
       "      <th></th>\n",
       "      <th>st_n</th>\n",
       "      <th>st_cd</th>\n",
       "      <th>news</th>\n",
       "      <th>datetime</th>\n",
       "      <th>title</th>\n",
       "      <th>url</th>\n",
       "      <th>text</th>\n",
       "      <th>date</th>\n",
       "      <th>time</th>\n",
       "      <th>Open</th>\n",
       "      <th>...</th>\n",
       "      <th>Close</th>\n",
       "      <th>Volume</th>\n",
       "      <th>Change</th>\n",
       "      <th>UpDown</th>\n",
       "      <th>Extremely_Changed</th>\n",
       "      <th>Tokenization</th>\n",
       "      <th>Positive_Score</th>\n",
       "      <th>Negative_Score</th>\n",
       "      <th>Ratio</th>\n",
       "      <th>Pred</th>\n",
       "    </tr>\n",
       "  </thead>\n",
       "  <tbody>\n",
       "    <tr>\n",
       "      <th>0</th>\n",
       "      <td>삼성전자</td>\n",
       "      <td>5930</td>\n",
       "      <td>매일경제</td>\n",
       "      <td>2018010100</td>\n",
       "      <td>스마트베타ETF 고공행진 새해도 이어질까</td>\n",
       "      <td>http://news.mk.co.kr/newsRead.php?year=2018&amp;no=29</td>\n",
       "      <td>\\n\\n\\n 수수료가 싼 상장지수펀드(ETF)에 펀드매니저가 종목을 고르는 액티브 ...</td>\n",
       "      <td>2018-01-02</td>\n",
       "      <td>0</td>\n",
       "      <td>51380</td>\n",
       "      <td>...</td>\n",
       "      <td>51020</td>\n",
       "      <td>169485</td>\n",
       "      <td>0.001177</td>\n",
       "      <td>1</td>\n",
       "      <td>0</td>\n",
       "      <td>수수료 상장 지수 펀드 펀드매니저 종목 액티브 펀드 특성 가미 스마트 베타 대한 목...</td>\n",
       "      <td>2</td>\n",
       "      <td>0</td>\n",
       "      <td>0.5</td>\n",
       "      <td>1</td>\n",
       "    </tr>\n",
       "  </tbody>\n",
       "</table>\n",
       "<p>1 rows × 22 columns</p>\n",
       "</div>"
      ],
      "text/plain": [
       "   st_n  st_cd  news    datetime                   title  \\\n",
       "0  삼성전자   5930  매일경제  2018010100  스마트베타ETF 고공행진 새해도 이어질까   \n",
       "\n",
       "                                                 url  \\\n",
       "0  http://news.mk.co.kr/newsRead.php?year=2018&no=29   \n",
       "\n",
       "                                                text        date  time   Open  \\\n",
       "0  \\n\\n\\n 수수료가 싼 상장지수펀드(ETF)에 펀드매니저가 종목을 고르는 액티브 ...  2018-01-02     0  51380   \n",
       "\n",
       "   ...  Close  Volume    Change  UpDown  Extremely_Changed  \\\n",
       "0  ...  51020  169485  0.001177       1                  0   \n",
       "\n",
       "                                        Tokenization  Positive_Score  \\\n",
       "0  수수료 상장 지수 펀드 펀드매니저 종목 액티브 펀드 특성 가미 스마트 베타 대한 목...               2   \n",
       "\n",
       "  Negative_Score  Ratio  Pred  \n",
       "0              0    0.5     1  \n",
       "\n",
       "[1 rows x 22 columns]"
      ]
     },
     "execution_count": 11,
     "metadata": {},
     "output_type": "execute_result"
    }
   ],
   "source": [
    "samsung_news_60.head(1)"
   ]
  },
  {
   "cell_type": "code",
   "execution_count": 28,
   "id": "b1da78c5-b7f6-4d78-bea2-a7c3da8b95ab",
   "metadata": {},
   "outputs": [],
   "source": [
    "samsung_news_60['Pred2'] = 0\n",
    "\n",
    "for i in range(len(samsung_news_60['Pred'])):\n",
    "    if samsung_news_60['Ratio'][i] >= 0.65:\n",
    "        samsung_news_60['Pred2'][i] = 1\n",
    "    else:\n",
    "        samsung_news_60['Pred2'][i] = -1"
   ]
  },
  {
   "cell_type": "code",
   "execution_count": 29,
   "id": "333b2bd5-941d-4bd4-bc06-85821275403c",
   "metadata": {},
   "outputs": [
    {
     "data": {
      "text/plain": [
       "0.5079607983590011"
      ]
     },
     "execution_count": 29,
     "metadata": {},
     "output_type": "execute_result"
    }
   ],
   "source": [
    "(len(samsung_news_60[(samsung_news_60['UpDown']>=0) & (samsung_news_60['Pred2']>=0)]) + len(samsung_news_60[(samsung_news_60['UpDown']<0) & (samsung_news_60['Pred2']<0)])) / len(samsung_news_60['Pred2'])"
   ]
  },
  {
   "cell_type": "code",
   "execution_count": 12,
   "id": "9d0e355a-8364-45f0-ad4e-5d874ca18c8b",
   "metadata": {},
   "outputs": [
    {
     "data": {
      "image/png": "[encoded data removed]",
      "text/plain": [
       "<Figure size 432x288 with 1 Axes>"
      ]
     },
     "metadata": {
      "needs_background": "light"
     },
     "output_type": "display_data"
    }
   ],
   "source": [
    "plt.scatter(samsung_news_60['Positive_Score'], samsung_news_60['Negative_Score'])\n",
    "plt.show()"
   ]
  },
  {
   "cell_type": "code",
   "execution_count": null,
   "id": "2c286cc5-6d1f-4e94-a7ab-a77efd463f14",
   "metadata": {},
   "outputs": [],
   "source": [
    "# 보완하자..."
   ]
  }
 ],
 "metadata": {
  "kernelspec": {
   "display_name": "Python Multi",
   "language": "python",
   "name": "multi"
  },
  "language_info": {
   "codemirror_mode": {
    "name": "ipython",
    "version": 3
   },
   "file_extension": ".py",
   "mimetype": "text/x-python",
   "name": "python",
   "nbconvert_exporter": "python",
   "pygments_lexer": "ipython3",
   "version": "3.9.5"
  }
 },
 "nbformat": 4,
 "nbformat_minor": 5
}
