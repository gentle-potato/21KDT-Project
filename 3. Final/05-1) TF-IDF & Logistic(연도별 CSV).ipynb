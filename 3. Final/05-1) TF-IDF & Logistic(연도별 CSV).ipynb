{
 "cells": [
  {
   "cell_type": "markdown",
   "id": "bf7164be-053e-414b-a5fe-e661137f6623",
   "metadata": {},
   "source": [
    "# **TF-IDF & Logistic**"
   ]
  },
  {
   "cell_type": "code",
   "execution_count": 1,
   "id": "a1c46893-4ae6-44a4-9e58-5bc8210e61f6",
   "metadata": {},
   "outputs": [],
   "source": [
    "import numpy as np\n",
    "import pandas as pd\n",
    "\n",
    "# Visualization\n",
    "import matplotlib.pyplot as plt\n",
    "import seaborn as sns\n",
    "%matplotlib inline\n",
    "\n",
    "# DB 연결\n",
    "# !pip install pymysql\n",
    "import pymysql\n",
    "\n",
    "# 실시간 주식가격 데이터\n",
    "# !pip install finance-datareader\n",
    "import FinanceDataReader as fdr\n",
    "\n",
    "# 텍스트 분석\n",
    "# 1) JAVA 설치, 2) Python 버전과 맞는 JPype1-py3 설치, 3) !pip install konlpy, 4) 설치 경로에서 jvm.py 파일 코드 67번 줄 주석 처리 \n",
    "from konlpy.tag import Okt\n",
    "import nltk\n",
    "from nltk.sentiment.vader import SentimentIntensityAnalyzer\n",
    "from sklearn.feature_extraction.text import CountVectorizer, TfidfVectorizer\n",
    "\n",
    "# 모델 학습 및 평가\n",
    "from sklearn.model_selection import train_test_split\n",
    "from sklearn.pipeline import Pipeline\n",
    "from sklearn.model_selection import GridSearchCV\n",
    "from sklearn.linear_model import LogisticRegression\n",
    "from sklearn.metrics import accuracy_score, roc_auc_score\n",
    "from sklearn.metrics import precision_score, recall_score\n",
    "\n",
    "# 모델 저장 및 로드\n",
    "import joblib\n",
    "\n",
    "# 기타\n",
    "import datetime\n",
    "from collections import Counter\n",
    "import sys\n",
    "import warnings\n",
    "warnings.filterwarnings('ignore')"
   ]
  },
  {
   "cell_type": "markdown",
   "id": "374a970e-c930-4975-b6c9-0d8252d7990d",
   "metadata": {},
   "source": [
    "## **Read & Save Data**"
   ]
  },
  {
   "cell_type": "code",
   "execution_count": 2,
   "id": "f2d3897d-7c56-4111-9e4b-345d0d60b178",
   "metadata": {},
   "outputs": [],
   "source": [
    "# 매일경제\n",
    "maeil_2018 = pd.read_csv('../../../../Code/Data/2018_maeil.csv')\n",
    "maeil_2019 = pd.read_csv('../../../../Code/Data/2019_maeil.csv')\n",
    "maeil_2020 = pd.read_csv('../../../../Code/Data/2020_maeil.csv')\n",
    "maeil_2021 = pd.read_csv('../../../../Code/Data/2021_maeil.csv')\n",
    "# 아시아경제\n",
    "asia_2018 = pd.read_csv('../../../../Code/Data/2018_asia.csv')\n",
    "asia_2019 = pd.read_csv('../../../../Code/Data/2019_asia.csv')\n",
    "asia_2020 = pd.read_csv('../../../../Code/Data/2020_asia.csv')\n",
    "asia_2021 = pd.read_csv('../../../../Code/Data/2021_asia.csv')"
   ]
  },
  {
   "cell_type": "code",
   "execution_count": 3,
   "id": "83ed5f39-1076-45cf-ae7f-964877540efb",
   "metadata": {},
   "outputs": [],
   "source": [
    "# 연도별 통합\n",
    "news_2018 = pd.concat([maeil_2018, asia_2018], axis=0)\n",
    "news_2019 = pd.concat([maeil_2019, asia_2019], axis=0)\n",
    "news_2020 = pd.concat([maeil_2020, asia_2020], axis=0)\n",
    "news_2021 = pd.concat([maeil_2021, asia_2021], axis=0)"
   ]
  },
  {
   "cell_type": "code",
   "execution_count": 4,
   "id": "7d5b2805-936f-4bea-94a5-a27732dab27b",
   "metadata": {},
   "outputs": [],
   "source": [
    "# 연도별 TF-IDF & Logistic 적용을 위해 CSV 파일로 저장\n",
    "news_2018.to_csv('../../../../Code/Data/news_2018.csv', index=False)\n",
    "news_2019.to_csv('../../../../Code/Data/news_2019.csv', index=False)\n",
    "news_2020.to_csv('../../../../Code/Data/news_2020.csv', index=False)\n",
    "news_2021.to_csv('../../../../Code/Data/news_2021.csv', index=False)"
   ]
  },
  {
   "cell_type": "code",
   "execution_count": 5,
   "id": "b1e77775-eaba-4d75-98f1-02f787a7c5ba",
   "metadata": {},
   "outputs": [],
   "source": [
    "# 2018~2020년 데이터로 Train-Validation Set 구성\n",
    "news_18to20 = pd.concat([maeil_2018, asia_2018, maeil_2019, asia_2019, maeil_2020, asia_2020], axis=0)\n",
    "news_18to20.to_csv('../../../../Code/Data/news_18to20.csv', index=False)"
   ]
  },
  {
   "cell_type": "code",
   "execution_count": null,
   "id": "5180eac6-cd3d-422d-b428-0369abfd7ce6",
   "metadata": {},
   "outputs": [],
   "source": []
  }
 ],
 "metadata": {
  "kernelspec": {
   "display_name": "Python Multi",
   "language": "python",
   "name": "multi"
  },
  "language_info": {
   "codemirror_mode": {
    "name": "ipython",
    "version": 3
   },
   "file_extension": ".py",
   "mimetype": "text/x-python",
   "name": "python",
   "nbconvert_exporter": "python",
   "pygments_lexer": "ipython3",
   "version": "3.9.5"
  }
 },
 "nbformat": 4,
 "nbformat_minor": 5
}
