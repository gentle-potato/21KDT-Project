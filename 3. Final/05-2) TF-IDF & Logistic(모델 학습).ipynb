{
 "cells": [
  {
   "cell_type": "markdown",
   "id": "bf7164be-053e-414b-a5fe-e661137f6623",
   "metadata": {},
   "source": [
    "# **TF-IDF & Logistic**"
   ]
  },
  {
   "cell_type": "code",
   "execution_count": 1,
   "id": "a1c46893-4ae6-44a4-9e58-5bc8210e61f6",
   "metadata": {},
   "outputs": [],
   "source": [
    "import numpy as np\n",
    "import pandas as pd\n",
    "\n",
    "# Visualization\n",
    "import matplotlib.pyplot as plt\n",
    "import seaborn as sns\n",
    "%matplotlib inline\n",
    "\n",
    "# DB 연결\n",
    "# !pip install pymysql\n",
    "import pymysql\n",
    "\n",
    "# 실시간 주식가격 데이터\n",
    "# !pip install finance-datareader\n",
    "import FinanceDataReader as fdr\n",
    "\n",
    "# 텍스트 분석\n",
    "# 1) JAVA 설치, 2) Python 버전과 맞는 JPype1-py3 설치, 3) !pip install konlpy, 4) 설치 경로에서 jvm.py 파일 코드 67번 줄 주석 처리 \n",
    "from konlpy.tag import Okt\n",
    "import nltk\n",
    "from nltk.sentiment.vader import SentimentIntensityAnalyzer\n",
    "from sklearn.feature_extraction.text import CountVectorizer, TfidfVectorizer\n",
    "\n",
    "# 모델 학습 및 평가\n",
    "from sklearn.model_selection import train_test_split\n",
    "from sklearn.pipeline import Pipeline\n",
    "from sklearn.model_selection import GridSearchCV\n",
    "from sklearn.linear_model import LogisticRegression\n",
    "from sklearn.metrics import accuracy_score, roc_auc_score\n",
    "from sklearn.metrics import precision_score, recall_score\n",
    "\n",
    "# 모델 저장 및 로드\n",
    "import joblib\n",
    "\n",
    "# 기타\n",
    "import datetime\n",
    "from collections import Counter\n",
    "import sys\n",
    "import warnings\n",
    "warnings.filterwarnings('ignore')"
   ]
  },
  {
   "cell_type": "markdown",
   "id": "374a970e-c930-4975-b6c9-0d8252d7990d",
   "metadata": {},
   "source": [
    "## **Read Data**"
   ]
  },
  {
   "cell_type": "code",
   "execution_count": 2,
   "id": "b1e77775-eaba-4d75-98f1-02f787a7c5ba",
   "metadata": {},
   "outputs": [
    {
     "data": {
      "text/plain": [
       "((52490, 18), (12668, 18))"
      ]
     },
     "execution_count": 2,
     "metadata": {},
     "output_type": "execute_result"
    }
   ],
   "source": [
    "news_18to20 = pd.read_csv('../../../../Code/Data/news_18to20.csv')\n",
    "news_2021 = pd.read_csv('../../../../Code/Data/news_2021.csv')\n",
    "\n",
    "news_18to20.shape, news_2021.shape"
   ]
  },
  {
   "cell_type": "code",
   "execution_count": 3,
   "id": "efa9c59a-1c9b-4d85-a6b5-5f6500a11d02",
   "metadata": {},
   "outputs": [],
   "source": [
    "# https://gist.github.com/spikeekips/40eea22ef4a89f629abd87eed535ac6a#file-stopwords-ko-txt\n",
    "with open('stopwords-ko.txt', encoding='utf-8') as sw:\n",
    "    stop_words = sw.readlines()\n",
    "stop_words = [sw.replace('\\n', '') for sw in stop_words]"
   ]
  },
  {
   "cell_type": "markdown",
   "id": "78d0bc5e-bf4a-4be2-a93b-1ddf9a4568f3",
   "metadata": {},
   "source": [
    "## **Sentiment Analysis**"
   ]
  },
  {
   "cell_type": "markdown",
   "id": "89826983-ccf9-47d4-bb33-2874c4057aff",
   "metadata": {},
   "source": [
    "### **TF-IDF 기반 벡터화 및 모델 학습**"
   ]
  },
  {
   "cell_type": "code",
   "execution_count": 4,
   "id": "aed75cf3-77c0-4479-b38c-2d71fa76477a",
   "metadata": {},
   "outputs": [
    {
     "data": {
      "text/plain": [
       "(52490, 18)"
      ]
     },
     "execution_count": 4,
     "metadata": {},
     "output_type": "execute_result"
    }
   ],
   "source": [
    "news_18to20.shape"
   ]
  },
  {
   "cell_type": "code",
   "execution_count": 5,
   "id": "463d7b0c-065c-48cc-bf54-f062e55ec95a",
   "metadata": {},
   "outputs": [
    {
     "data": {
      "text/plain": [
       "st_n                 0\n",
       "st_cd                0\n",
       "news                 0\n",
       "datetime             0\n",
       "title                0\n",
       "url                  0\n",
       "text                 6\n",
       "date                 0\n",
       "time                 0\n",
       "score                0\n",
       "Open                 0\n",
       "High                 0\n",
       "Low                  0\n",
       "Close                0\n",
       "Volume               0\n",
       "Change               0\n",
       "UpDown               0\n",
       "Extremely_Changed    0\n",
       "dtype: int64"
      ]
     },
     "execution_count": 5,
     "metadata": {},
     "output_type": "execute_result"
    }
   ],
   "source": [
    "news_18to20.isna().sum()"
   ]
  },
  {
   "cell_type": "code",
   "execution_count": 6,
   "id": "56630692-2502-4fdc-a326-b7b02f34a4ad",
   "metadata": {},
   "outputs": [
    {
     "data": {
      "text/plain": [
       "Series([], Name: date, dtype: int64)"
      ]
     },
     "execution_count": 6,
     "metadata": {},
     "output_type": "execute_result"
    }
   ],
   "source": [
    "news_18to20[news_18to20['Change'].isna()]['date'].value_counts()"
   ]
  },
  {
   "cell_type": "code",
   "execution_count": 7,
   "id": "a9126ad9-8d76-4475-ae7c-7e4a0b42160b",
   "metadata": {},
   "outputs": [
    {
     "data": {
      "text/html": [
       "<div>\n",
       "<style scoped>\n",
       "    .dataframe tbody tr th:only-of-type {\n",
       "        vertical-align: middle;\n",
       "    }\n",
       "\n",
       "    .dataframe tbody tr th {\n",
       "        vertical-align: top;\n",
       "    }\n",
       "\n",
       "    .dataframe thead th {\n",
       "        text-align: right;\n",
       "    }\n",
       "</style>\n",
       "<table border=\"1\" class=\"dataframe\">\n",
       "  <thead>\n",
       "    <tr style=\"text-align: right;\">\n",
       "      <th></th>\n",
       "      <th>st_n</th>\n",
       "      <th>st_cd</th>\n",
       "      <th>news</th>\n",
       "      <th>datetime</th>\n",
       "      <th>title</th>\n",
       "      <th>url</th>\n",
       "      <th>text</th>\n",
       "      <th>date</th>\n",
       "      <th>time</th>\n",
       "      <th>score</th>\n",
       "      <th>Open</th>\n",
       "      <th>High</th>\n",
       "      <th>Low</th>\n",
       "      <th>Close</th>\n",
       "      <th>Volume</th>\n",
       "      <th>Change</th>\n",
       "      <th>UpDown</th>\n",
       "      <th>Extremely_Changed</th>\n",
       "    </tr>\n",
       "  </thead>\n",
       "  <tbody>\n",
       "    <tr>\n",
       "      <th>22853</th>\n",
       "      <td>현대차</td>\n",
       "      <td>5380</td>\n",
       "      <td>매일경제</td>\n",
       "      <td>2019021914</td>\n",
       "      <td>이시한, 취업계 2년 연속 트렌드 예측 경향성 소름 돋는 적중, ‘문어시한’이 떴다...</td>\n",
       "      <td>http://edu.mk.co.kr/edunews/news_view.php?sc=5...</td>\n",
       "      <td>NaN</td>\n",
       "      <td>2019-02-19</td>\n",
       "      <td>14</td>\n",
       "      <td>0</td>\n",
       "      <td>119500</td>\n",
       "      <td>120500</td>\n",
       "      <td>119000</td>\n",
       "      <td>119500</td>\n",
       "      <td>470357</td>\n",
       "      <td>-0.008299</td>\n",
       "      <td>-1</td>\n",
       "      <td>0</td>\n",
       "    </tr>\n",
       "    <tr>\n",
       "      <th>22860</th>\n",
       "      <td>현대차</td>\n",
       "      <td>5380</td>\n",
       "      <td>매일경제</td>\n",
       "      <td>2019022011</td>\n",
       "      <td>이시한이 말하는, 100:1이 일반화된 채용시장에서 살아남는 방법 - 인터뷰 #2</td>\n",
       "      <td>http://edu.mk.co.kr/edunews/news_view.php?sc=5...</td>\n",
       "      <td>NaN</td>\n",
       "      <td>2019-02-20</td>\n",
       "      <td>11</td>\n",
       "      <td>0</td>\n",
       "      <td>119500</td>\n",
       "      <td>121500</td>\n",
       "      <td>119000</td>\n",
       "      <td>119000</td>\n",
       "      <td>735087</td>\n",
       "      <td>-0.004184</td>\n",
       "      <td>-1</td>\n",
       "      <td>0</td>\n",
       "    </tr>\n",
       "    <tr>\n",
       "      <th>26962</th>\n",
       "      <td>sk하이닉스</td>\n",
       "      <td>660</td>\n",
       "      <td>매일경제</td>\n",
       "      <td>2019112017</td>\n",
       "      <td>이시한의 2020년 취업트렌드코리아 #2 : Implement AI</td>\n",
       "      <td>http://edu.mk.co.kr/edunews/news_view.php?sc=5...</td>\n",
       "      <td>NaN</td>\n",
       "      <td>2019-11-21</td>\n",
       "      <td>17</td>\n",
       "      <td>0</td>\n",
       "      <td>81700</td>\n",
       "      <td>82500</td>\n",
       "      <td>80500</td>\n",
       "      <td>80900</td>\n",
       "      <td>3346746</td>\n",
       "      <td>-0.021765</td>\n",
       "      <td>-1</td>\n",
       "      <td>0</td>\n",
       "    </tr>\n",
       "    <tr>\n",
       "      <th>50391</th>\n",
       "      <td>LG화학</td>\n",
       "      <td>51910</td>\n",
       "      <td>아시아경제</td>\n",
       "      <td>2020052013</td>\n",
       "      <td>[속보]구광모 LG 회장, LG화학 대산공장 긴급 방문</td>\n",
       "      <td>https://view.asiae.co.kr/article/2020052013340...</td>\n",
       "      <td>NaN</td>\n",
       "      <td>2020-05-20</td>\n",
       "      <td>13</td>\n",
       "      <td>0</td>\n",
       "      <td>352500</td>\n",
       "      <td>362500</td>\n",
       "      <td>351500</td>\n",
       "      <td>362500</td>\n",
       "      <td>358098</td>\n",
       "      <td>0.015406</td>\n",
       "      <td>1</td>\n",
       "      <td>0</td>\n",
       "    </tr>\n",
       "    <tr>\n",
       "      <th>50449</th>\n",
       "      <td>LG화학</td>\n",
       "      <td>51910</td>\n",
       "      <td>아시아경제</td>\n",
       "      <td>2020062309</td>\n",
       "      <td>코로나 재확산 우려에 국내기업 비상 대응 \"할 수 있는 건 다한다\"</td>\n",
       "      <td>https://view.asiae.co.kr/article/2020062211370...</td>\n",
       "      <td>NaN</td>\n",
       "      <td>2020-06-23</td>\n",
       "      <td>9</td>\n",
       "      <td>0</td>\n",
       "      <td>512000</td>\n",
       "      <td>518000</td>\n",
       "      <td>500000</td>\n",
       "      <td>504000</td>\n",
       "      <td>516968</td>\n",
       "      <td>-0.003953</td>\n",
       "      <td>-1</td>\n",
       "      <td>0</td>\n",
       "    </tr>\n",
       "    <tr>\n",
       "      <th>52175</th>\n",
       "      <td>sk하이닉스</td>\n",
       "      <td>660</td>\n",
       "      <td>아시아경제</td>\n",
       "      <td>2020102008</td>\n",
       "      <td>[속보]SK하이닉스, 인텔 낸드 사업 10조3000억원에 인수</td>\n",
       "      <td>https://view.asiae.co.kr/article/2020102008583...</td>\n",
       "      <td>NaN</td>\n",
       "      <td>2020-10-20</td>\n",
       "      <td>8</td>\n",
       "      <td>0</td>\n",
       "      <td>85300</td>\n",
       "      <td>90900</td>\n",
       "      <td>83700</td>\n",
       "      <td>85200</td>\n",
       "      <td>6622637</td>\n",
       "      <td>-0.017301</td>\n",
       "      <td>-1</td>\n",
       "      <td>0</td>\n",
       "    </tr>\n",
       "  </tbody>\n",
       "</table>\n",
       "</div>"
      ],
      "text/plain": [
       "         st_n  st_cd   news    datetime  \\\n",
       "22853     현대차   5380   매일경제  2019021914   \n",
       "22860     현대차   5380   매일경제  2019022011   \n",
       "26962  sk하이닉스    660   매일경제  2019112017   \n",
       "50391    LG화학  51910  아시아경제  2020052013   \n",
       "50449    LG화학  51910  아시아경제  2020062309   \n",
       "52175  sk하이닉스    660  아시아경제  2020102008   \n",
       "\n",
       "                                                   title  \\\n",
       "22853  이시한, 취업계 2년 연속 트렌드 예측 경향성 소름 돋는 적중, ‘문어시한’이 떴다...   \n",
       "22860      이시한이 말하는, 100:1이 일반화된 채용시장에서 살아남는 방법 - 인터뷰 #2   \n",
       "26962              이시한의 2020년 취업트렌드코리아 #2 : Implement AI   \n",
       "50391                     [속보]구광모 LG 회장, LG화학 대산공장 긴급 방문   \n",
       "50449              코로나 재확산 우려에 국내기업 비상 대응 \"할 수 있는 건 다한다\"   \n",
       "52175                 [속보]SK하이닉스, 인텔 낸드 사업 10조3000억원에 인수   \n",
       "\n",
       "                                                     url text        date  \\\n",
       "22853  http://edu.mk.co.kr/edunews/news_view.php?sc=5...  NaN  2019-02-19   \n",
       "22860  http://edu.mk.co.kr/edunews/news_view.php?sc=5...  NaN  2019-02-20   \n",
       "26962  http://edu.mk.co.kr/edunews/news_view.php?sc=5...  NaN  2019-11-21   \n",
       "50391  https://view.asiae.co.kr/article/2020052013340...  NaN  2020-05-20   \n",
       "50449  https://view.asiae.co.kr/article/2020062211370...  NaN  2020-06-23   \n",
       "52175  https://view.asiae.co.kr/article/2020102008583...  NaN  2020-10-20   \n",
       "\n",
       "       time  score    Open    High     Low   Close   Volume    Change  UpDown  \\\n",
       "22853    14      0  119500  120500  119000  119500   470357 -0.008299      -1   \n",
       "22860    11      0  119500  121500  119000  119000   735087 -0.004184      -1   \n",
       "26962    17      0   81700   82500   80500   80900  3346746 -0.021765      -1   \n",
       "50391    13      0  352500  362500  351500  362500   358098  0.015406       1   \n",
       "50449     9      0  512000  518000  500000  504000   516968 -0.003953      -1   \n",
       "52175     8      0   85300   90900   83700   85200  6622637 -0.017301      -1   \n",
       "\n",
       "       Extremely_Changed  \n",
       "22853                  0  \n",
       "22860                  0  \n",
       "26962                  0  \n",
       "50391                  0  \n",
       "50449                  0  \n",
       "52175                  0  "
      ]
     },
     "execution_count": 7,
     "metadata": {},
     "output_type": "execute_result"
    }
   ],
   "source": [
    "news_18to20[news_18to20['text'].isna()]"
   ]
  },
  {
   "cell_type": "code",
   "execution_count": 8,
   "id": "3851a13b-6d52-4fa2-aeb9-1cf0cba59a8a",
   "metadata": {},
   "outputs": [],
   "source": [
    "news_18to20.dropna(axis=0, inplace=True)"
   ]
  },
  {
   "cell_type": "code",
   "execution_count": 9,
   "id": "848ce752-1d55-4836-ab13-5afa860a73ed",
   "metadata": {},
   "outputs": [
    {
     "data": {
      "text/plain": [
       "((41987,), (41987,), (10497,), (10497,))"
      ]
     },
     "execution_count": 9,
     "metadata": {},
     "output_type": "execute_result"
    }
   ],
   "source": [
    "# Train-Test Set 분리\n",
    "X_train, X_test, y_train, y_test = train_test_split(news_18to20['text'], news_18to20['UpDown'], test_size=0.2, random_state=0)\n",
    "\n",
    "X_train.shape, y_train.shape, X_test.shape, y_test.shape"
   ]
  },
  {
   "cell_type": "code",
   "execution_count": null,
   "id": "ad96860d-b042-4f22-b78a-17145fc19545",
   "metadata": {},
   "outputs": [
    {
     "name": "stdout",
     "output_type": "stream",
     "text": [
      "Fitting 3 folds for each of 27 candidates, totalling 81 fits\n"
     ]
    }
   ],
   "source": [
    "pipeline = Pipeline([\n",
    "    ('tfidf_vect', TfidfVectorizer(stop_words=stop_words)),\n",
    "    ('lr_clf', LogisticRegression())\n",
    "])\n",
    "\n",
    "# Pipeline에 기술된 각각의 객체 변수에 언더바(_) 2개를 연달아 붙여 GridSearchCV에 사용될 파라미터/하이퍼파라미터 이름과 값을 설정\n",
    "params = {\n",
    "    'tfidf_vect__ngram_range': [(1, 1), (1, 2), (1, 3)],\n",
    "    'tfidf_vect__max_df': [100, 300, 700],\n",
    "    'lr_clf__C': [1, 5, 10]\n",
    "}\n",
    "\n",
    "# GridSearchCV의 생성자에 Estimator가 아닌 Pipeline 객체 입력\n",
    "grid_cv_pipe = GridSearchCV(pipeline, param_grid=params, cv=3, scoring='accuracy', verbose=1)\n",
    "grid_cv_pipe.fit(X_train, y_train)\n",
    "print(' <1> parameters :', grid_cv_pipe.best_params_, '\\n', '<2> best score :', grid_cv_pipe.best_score_)\n",
    "\n",
    "pred = grid_cv_pipe.predict(X_test)\n",
    "print('Pipeline을 통한 Logistic Regression의 예측 정확도 : {0:.3f}'.format(accuracy_score(y_test, pred)))"
   ]
  },
  {
   "cell_type": "code",
   "execution_count": null,
   "id": "95d5b651-7ac3-40a8-9568-eb3316fa04b2",
   "metadata": {},
   "outputs": [],
   "source": [
    "# 5시간 동안 돌아감...;;"
   ]
  },
  {
   "cell_type": "code",
   "execution_count": null,
   "id": "fd9bb79e-a32e-4ca9-9abf-547b7a06e633",
   "metadata": {},
   "outputs": [],
   "source": [
    "# 모델 저장\n",
    "joblib.dump(grid_cv_pipe, '../../../../Code/Model/TF-IDF(18to20).pkl')\n",
    "joblib.dump(grid_cv_pipe, '../../../../Code/Model/TF-IDF(18to20).h5')"
   ]
  },
  {
   "cell_type": "code",
   "execution_count": null,
   "id": "9185d6c7-e872-4628-aa53-ee384d9d8208",
   "metadata": {},
   "outputs": [],
   "source": [
    "news_2021.dropna(axis=0, inplace=True)"
   ]
  },
  {
   "cell_type": "code",
   "execution_count": null,
   "id": "adc48f8e-44e5-4077-9b50-cdc8e0007cbf",
   "metadata": {},
   "outputs": [],
   "source": [
    "# 모델 로드\n",
    "grid_cv_pipe = joblib.load('../../../../Code/TF-IDF(18to20).h5')\n",
    "pred = grid_cv_pipe.predict(news_2021['text'])\n",
    "\n",
    "# Accuracy 확인\n",
    "print('Pipeline을 통한 Logistic Regression의 예측 정확도 : {0:.3f}'.format(accuracy_score(news_2021['UpDown'], pred)))"
   ]
  },
  {
   "cell_type": "code",
   "execution_count": null,
   "id": "5393b399-46e8-4908-b18c-b9e4320cd4dc",
   "metadata": {},
   "outputs": [],
   "source": [
    "pred"
   ]
  },
  {
   "cell_type": "code",
   "execution_count": null,
   "id": "0a2eecc6-76cd-49e3-ade8-3027e5ecb65a",
   "metadata": {},
   "outputs": [],
   "source": [
    "Counter(pred)"
   ]
  },
  {
   "cell_type": "code",
   "execution_count": null,
   "id": "7e51942b-0197-4d95-993a-0a835e6020dd",
   "metadata": {},
   "outputs": [],
   "source": []
  }
 ],
 "metadata": {
  "kernelspec": {
   "display_name": "Python Multi",
   "language": "python",
   "name": "multi"
  },
  "language_info": {
   "codemirror_mode": {
    "name": "ipython",
    "version": 3
   },
   "file_extension": ".py",
   "mimetype": "text/x-python",
   "name": "python",
   "nbconvert_exporter": "python",
   "pygments_lexer": "ipython3",
   "version": "3.9.5"
  }
 },
 "nbformat": 4,
 "nbformat_minor": 5
}
