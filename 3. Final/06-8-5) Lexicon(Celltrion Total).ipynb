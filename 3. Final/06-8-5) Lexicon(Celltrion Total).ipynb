{
 "cells": [
  {
   "cell_type": "markdown",
   "id": "faddf7f2-faeb-4e6f-978b-151167fe1b0b",
   "metadata": {},
   "source": [
    "# **Lexicon**"
   ]
  },
  {
   "cell_type": "code",
   "execution_count": 1,
   "id": "43b4f6ef-c66a-420b-9646-6cd4027e38cc",
   "metadata": {},
   "outputs": [],
   "source": [
    "import numpy as np\n",
    "import pandas as pd\n",
    "\n",
    "### Visualization\n",
    "import matplotlib.pyplot as plt\n",
    "import seaborn as sns\n",
    "%matplotlib inline\n",
    "\n",
    "### DB 연결\n",
    "# !pip install pymysql\n",
    "import pymysql\n",
    "\n",
    "### DB에 저장\n",
    "import sqlalchemy\n",
    "from sqlalchemy import create_engine\n",
    "\n",
    "### 실시간 주식가격 데이터\n",
    "# !pip install finance-datareader\n",
    "import FinanceDataReader as fdr\n",
    "\n",
    "### 텍스트 분석\n",
    "## KoNLPy\n",
    "# 1) JAVA 설치, 2) Python 버전과 맞는 JPype1-py3 설치, 3) !pip install konlpy, 4) 설치 경로에서 jvm.py 파일 코드 67번 줄 주석 처리 \n",
    "from konlpy.tag import Okt\n",
    "import nltk\n",
    "from nltk.sentiment.vader import SentimentIntensityAnalyzer\n",
    "from sklearn.feature_extraction.text import CountVectorizer, TfidfVectorizer\n",
    "import re\n",
    "## FastText\n",
    "# !pip install gensim\n",
    "# !pip install fasttext\n",
    "import fasttext\n",
    "import fasttext.util\n",
    "# Facebook 한국어 Embedding 모델 다운로드 → 한 번만 설치하면 됨\n",
    "# fasttext.util.download_model('ko', if_exists='ignore')   # FastText 모델 사용 시에만 필요\n",
    "# 유사도 계산\n",
    "from gensim import models\n",
    "\n",
    "### 모델 학습 및 평가\n",
    "from sklearn.model_selection import train_test_split\n",
    "from sklearn.pipeline import Pipeline\n",
    "from sklearn.model_selection import GridSearchCV\n",
    "from sklearn.linear_model import LogisticRegression\n",
    "from sklearn.metrics import accuracy_score, roc_auc_score\n",
    "from sklearn.metrics import precision_score, recall_score, f1_score\n",
    "\n",
    "### 모델 저장 및 로드\n",
    "import joblib\n",
    "\n",
    "### 기타\n",
    "import datetime\n",
    "from collections import Counter\n",
    "import sys\n",
    "import warnings\n",
    "warnings.filterwarnings('ignore')"
   ]
  },
  {
   "cell_type": "markdown",
   "id": "72d4dc35-efa3-4315-8b8d-b28845ec6219",
   "metadata": {},
   "source": [
    "## **Read Data**"
   ]
  },
  {
   "cell_type": "markdown",
   "id": "c1bd2205-f20c-4ab9-89a7-6b924a27c103",
   "metadata": {},
   "source": [
    "### **① KOSELF 감성 어휘 사전**"
   ]
  },
  {
   "cell_type": "code",
   "execution_count": 2,
   "id": "da51d796-b2ca-4c1a-87e0-db26a9c9dc40",
   "metadata": {},
   "outputs": [],
   "source": [
    "# 블로그에서 가져온 기본적인 한국어 긍부정 텍스트 목록\n",
    "with open('positive_words_self.txt', encoding='utf-8') as pos_blog:\n",
    "    positive_blog = pos_blog.readlines()\n",
    "positive_blog = [pos_blog.replace('\\n', '') for pos_blog in positive_blog]\n",
    "with open('negative_words_self.txt', encoding='utf-8') as neg_blog:\n",
    "    negative_blog = neg_blog.readlines()\n",
    "negative_blog = [neg_blog.replace('\\n', '') for neg_blog in negative_blog]\n",
    "\n",
    "# KOSELF 감성 어휘 사전\n",
    "with open('KOSELF_pos.txt', encoding='utf-8') as pos:\n",
    "    positive = pos.readlines()\n",
    "positive = [pos.replace('\\n', '') for pos in positive]\n",
    "with open('KOSELF_neg.txt', encoding='utf-8') as neg:\n",
    "    negative = neg.readlines()\n",
    "negative = [neg.replace('\\n', '') for neg in negative]"
   ]
  },
  {
   "cell_type": "markdown",
   "id": "2cbbe339-c34b-4c12-ab25-db00e2e732ee",
   "metadata": {},
   "source": [
    "### **② Celltrion Lexicon**"
   ]
  },
  {
   "cell_type": "markdown",
   "id": "8189f39d-bcc1-433a-bcf9-43bbf17905dd",
   "metadata": {},
   "source": [
    "#### **1) Positive**"
   ]
  },
  {
   "cell_type": "code",
   "execution_count": 3,
   "id": "28680648-0dde-409a-b249-baa6dd7d357a",
   "metadata": {},
   "outputs": [
    {
     "name": "stdout",
     "output_type": "stream",
     "text": [
      "(9952, 6) (7587, 6) (9714, 6) (7047, 6)\n"
     ]
    },
    {
     "data": {
      "text/html": [
       "<div>\n",
       "<style scoped>\n",
       "    .dataframe tbody tr th:only-of-type {\n",
       "        vertical-align: middle;\n",
       "    }\n",
       "\n",
       "    .dataframe tbody tr th {\n",
       "        vertical-align: top;\n",
       "    }\n",
       "\n",
       "    .dataframe thead th {\n",
       "        text-align: right;\n",
       "    }\n",
       "</style>\n",
       "<table border=\"1\" class=\"dataframe\">\n",
       "  <thead>\n",
       "    <tr style=\"text-align: right;\">\n",
       "      <th></th>\n",
       "      <th>date</th>\n",
       "      <th>news_num</th>\n",
       "      <th>KOSELF_pos_word</th>\n",
       "      <th>news_word</th>\n",
       "      <th>cosine_similarity</th>\n",
       "      <th>frequency</th>\n",
       "    </tr>\n",
       "  </thead>\n",
       "  <tbody>\n",
       "    <tr>\n",
       "      <th>0</th>\n",
       "      <td>2018-01-02</td>\n",
       "      <td>1</td>\n",
       "      <td>강세</td>\n",
       "      <td>약세</td>\n",
       "      <td>0.702806</td>\n",
       "      <td>2</td>\n",
       "    </tr>\n",
       "    <tr>\n",
       "      <th>1</th>\n",
       "      <td>2018-01-02</td>\n",
       "      <td>1</td>\n",
       "      <td>개선</td>\n",
       "      <td>개선</td>\n",
       "      <td>1.000000</td>\n",
       "      <td>1</td>\n",
       "    </tr>\n",
       "    <tr>\n",
       "      <th>2</th>\n",
       "      <td>2018-01-02</td>\n",
       "      <td>1</td>\n",
       "      <td>개선</td>\n",
       "      <td>방안</td>\n",
       "      <td>0.563541</td>\n",
       "      <td>3</td>\n",
       "    </tr>\n",
       "  </tbody>\n",
       "</table>\n",
       "</div>"
      ],
      "text/plain": [
       "         date  news_num KOSELF_pos_word news_word  cosine_similarity  \\\n",
       "0  2018-01-02         1              강세        약세           0.702806   \n",
       "1  2018-01-02         1              개선        개선           1.000000   \n",
       "2  2018-01-02         1              개선        방안           0.563541   \n",
       "\n",
       "   frequency  \n",
       "0          2  \n",
       "1          1  \n",
       "2          3  "
      ]
     },
     "execution_count": 3,
     "metadata": {},
     "output_type": "execute_result"
    }
   ],
   "source": [
    "pos_2018 = pd.read_csv('../../../../Code/Data/Test/Stock-Year/pos_celltrion_2018.csv')\n",
    "pos_2019 = pd.read_csv('../../../../Code/Data/Test/Stock-Year/pos_celltrion_2019.csv')\n",
    "pos_2020 = pd.read_csv('../../../../Code/Data/Test/Stock-Year/pos_celltrion_2020.csv')\n",
    "pos_2021 = pd.read_csv('../../../../Code/Data/Test/Stock-Year/pos_celltrion_2021.csv')\n",
    "\n",
    "print(pos_2018.shape, pos_2019.shape, pos_2020.shape, pos_2021.shape)\n",
    "\n",
    "pos_2018.head(3)"
   ]
  },
  {
   "cell_type": "code",
   "execution_count": 4,
   "id": "ac03198d-1623-47df-ab2f-e2ced2bf3dd6",
   "metadata": {},
   "outputs": [
    {
     "data": {
      "text/plain": [
       "34300"
      ]
     },
     "execution_count": 4,
     "metadata": {},
     "output_type": "execute_result"
    }
   ],
   "source": [
    "# 전체 연도 통합\n",
    "lexicon_pos = pd.concat([pos_2018, pos_2019, pos_2020, pos_2021], axis=0).reset_index(drop=True)\n",
    "\n",
    "len(lexicon_pos)"
   ]
  },
  {
   "cell_type": "code",
   "execution_count": 5,
   "id": "f8af32b6-4856-457e-afc9-1bb86f62301f",
   "metadata": {},
   "outputs": [
    {
     "data": {
      "text/plain": [
       "(323, 77, 23, 9)"
      ]
     },
     "execution_count": 5,
     "metadata": {},
     "output_type": "execute_result"
    }
   ],
   "source": [
    "lexicon_pos_50 = list(set(lexicon_pos[(lexicon_pos['cosine_similarity']>0.50) & (lexicon_pos['cosine_similarity']<0.99)]['news_word']))\n",
    "lexicon_pos_60 = list(set(lexicon_pos[(lexicon_pos['cosine_similarity']>0.60) & (lexicon_pos['cosine_similarity']<0.99)]['news_word']))\n",
    "lexicon_pos_65 = list(set(lexicon_pos[(lexicon_pos['cosine_similarity']>0.65) & (lexicon_pos['cosine_similarity']<0.99)]['news_word']))\n",
    "lexicon_pos_70 = list(set(lexicon_pos[(lexicon_pos['cosine_similarity']>0.70) & (lexicon_pos['cosine_similarity']<0.99)]['news_word']))\n",
    "\n",
    "len(lexicon_pos_50), len(lexicon_pos_60), len(lexicon_pos_65), len(lexicon_pos_70)"
   ]
  },
  {
   "cell_type": "markdown",
   "id": "b4078b1f-c59a-495b-bba7-1cb4b576c72f",
   "metadata": {},
   "source": [
    "#### **2) Negative**"
   ]
  },
  {
   "cell_type": "code",
   "execution_count": 6,
   "id": "08875a07-b812-4262-a353-8f2a0bd3ce3c",
   "metadata": {},
   "outputs": [
    {
     "name": "stdout",
     "output_type": "stream",
     "text": [
      "(14511, 6) (11117, 6) (12540, 6) (9266, 6)\n"
     ]
    },
    {
     "data": {
      "text/html": [
       "<div>\n",
       "<style scoped>\n",
       "    .dataframe tbody tr th:only-of-type {\n",
       "        vertical-align: middle;\n",
       "    }\n",
       "\n",
       "    .dataframe tbody tr th {\n",
       "        vertical-align: top;\n",
       "    }\n",
       "\n",
       "    .dataframe thead th {\n",
       "        text-align: right;\n",
       "    }\n",
       "</style>\n",
       "<table border=\"1\" class=\"dataframe\">\n",
       "  <thead>\n",
       "    <tr style=\"text-align: right;\">\n",
       "      <th></th>\n",
       "      <th>date</th>\n",
       "      <th>news_num</th>\n",
       "      <th>KOSELF_neg_word</th>\n",
       "      <th>news_word</th>\n",
       "      <th>cosine_similarity</th>\n",
       "      <th>frequency</th>\n",
       "    </tr>\n",
       "  </thead>\n",
       "  <tbody>\n",
       "    <tr>\n",
       "      <th>0</th>\n",
       "      <td>2018-01-02</td>\n",
       "      <td>1</td>\n",
       "      <td>둔화</td>\n",
       "      <td>감소</td>\n",
       "      <td>0.534909</td>\n",
       "      <td>1</td>\n",
       "    </tr>\n",
       "    <tr>\n",
       "      <th>1</th>\n",
       "      <td>2018-01-02</td>\n",
       "      <td>1</td>\n",
       "      <td>둔화</td>\n",
       "      <td>업황</td>\n",
       "      <td>0.557820</td>\n",
       "      <td>2</td>\n",
       "    </tr>\n",
       "    <tr>\n",
       "      <th>2</th>\n",
       "      <td>2018-01-02</td>\n",
       "      <td>1</td>\n",
       "      <td>둔화</td>\n",
       "      <td>하락</td>\n",
       "      <td>0.526078</td>\n",
       "      <td>1</td>\n",
       "    </tr>\n",
       "  </tbody>\n",
       "</table>\n",
       "</div>"
      ],
      "text/plain": [
       "         date  news_num KOSELF_neg_word news_word  cosine_similarity  \\\n",
       "0  2018-01-02         1              둔화        감소           0.534909   \n",
       "1  2018-01-02         1              둔화        업황           0.557820   \n",
       "2  2018-01-02         1              둔화        하락           0.526078   \n",
       "\n",
       "   frequency  \n",
       "0          1  \n",
       "1          2  \n",
       "2          1  "
      ]
     },
     "execution_count": 6,
     "metadata": {},
     "output_type": "execute_result"
    }
   ],
   "source": [
    "neg_2018 = pd.read_csv('../../../../Code/Data/Test/Stock-Year/neg_celltrion_2018.csv')\n",
    "neg_2019 = pd.read_csv('../../../../Code/Data/Test/Stock-Year/neg_celltrion_2019.csv')\n",
    "neg_2020 = pd.read_csv('../../../../Code/Data/Test/Stock-Year/neg_celltrion_2020.csv')\n",
    "neg_2021 = pd.read_csv('../../../../Code/Data/Test/Stock-Year/neg_celltrion_2021.csv')\n",
    "\n",
    "print(neg_2018.shape, neg_2019.shape, neg_2020.shape, neg_2021.shape)\n",
    "\n",
    "neg_2018.head(3)"
   ]
  },
  {
   "cell_type": "code",
   "execution_count": 7,
   "id": "7e49157f-ef60-41bb-a3d7-8273a5741c08",
   "metadata": {},
   "outputs": [
    {
     "data": {
      "text/plain": [
       "47434"
      ]
     },
     "execution_count": 7,
     "metadata": {},
     "output_type": "execute_result"
    }
   ],
   "source": [
    "# 전체 연도 통합\n",
    "lexicon_neg = pd.concat([neg_2018, neg_2019, neg_2020, neg_2021], axis=0).reset_index(drop=True)\n",
    "\n",
    "len(lexicon_neg)"
   ]
  },
  {
   "cell_type": "code",
   "execution_count": 8,
   "id": "77dd8c2b-6bdc-4874-9c49-7661822bb192",
   "metadata": {},
   "outputs": [
    {
     "data": {
      "text/plain": [
       "(79, 10, 5, 2)"
      ]
     },
     "execution_count": 8,
     "metadata": {},
     "output_type": "execute_result"
    }
   ],
   "source": [
    "lexicon_neg_50 = list(set(lexicon_neg[(lexicon_neg['cosine_similarity']>0.50) & (lexicon_neg['cosine_similarity']<0.99)]['news_word']))\n",
    "lexicon_neg_60 = list(set(lexicon_neg[(lexicon_neg['cosine_similarity']>0.60) & (lexicon_neg['cosine_similarity']<0.99)]['news_word']))\n",
    "lexicon_neg_65 = list(set(lexicon_neg[(lexicon_neg['cosine_similarity']>0.65) & (lexicon_neg['cosine_similarity']<0.99)]['news_word']))\n",
    "lexicon_neg_70 = list(set(lexicon_neg[(lexicon_neg['cosine_similarity']>0.70) & (lexicon_neg['cosine_similarity']<0.99)]['news_word']))\n",
    "\n",
    "len(lexicon_neg_50), len(lexicon_neg_60), len(lexicon_neg_65), len(lexicon_neg_70)"
   ]
  },
  {
   "cell_type": "markdown",
   "id": "96815a06-f7ca-4126-84d0-3d20288c339d",
   "metadata": {},
   "source": [
    "## **Add Words to KOSELF**"
   ]
  },
  {
   "cell_type": "code",
   "execution_count": 9,
   "id": "9be7baab-a4c5-413b-b439-60f631b5ab95",
   "metadata": {},
   "outputs": [],
   "source": [
    "# 긍정어\n",
    "koself_pos_50 = positive + lexicon_pos_50\n",
    "koself_pos_60 = positive + lexicon_pos_60\n",
    "koself_pos_65 = positive + lexicon_pos_65\n",
    "koself_pos_70 = positive + lexicon_pos_70\n",
    "\n",
    "# 부정어\n",
    "koself_neg_50 = negative + lexicon_neg_50\n",
    "koself_neg_60 = negative + lexicon_neg_60\n",
    "koself_neg_65 = negative + lexicon_neg_65\n",
    "koself_neg_70 = negative + lexicon_neg_70"
   ]
  },
  {
   "cell_type": "code",
   "execution_count": 10,
   "id": "202bbce9-e1ed-41ef-8eed-6252a81a05c5",
   "metadata": {},
   "outputs": [],
   "source": [
    "# 기준 Cosine Similarity별 사전 생성\n",
    "similar = ['50', '60', '65', '70']\n",
    "\n",
    "# 긍정어\n",
    "for i in range(len(similar)):\n",
    "    f = open('../../../../Code/Lexicon/lexicon_celltrion_pos_{}.txt'.format(similar[i]), 'w')\n",
    "    for j in range(len(globals()['koself_pos_' + similar[i]])):\n",
    "        f.write(globals()['koself_pos_' + similar[i]][j] + '\\n')\n",
    "    f.close()\n",
    "\n",
    "#  부정어\n",
    "for i in range(len(similar)):\n",
    "    f = open('../../../../Code/Lexicon/lexicon_celltrion_neg_{}.txt'.format(similar[i]), 'w')\n",
    "    for j in range(len(globals()['koself_neg_' + similar[i]])):\n",
    "        f.write(globals()['koself_neg_' + similar[i]][j] + '\\n')\n",
    "    f.close()"
   ]
  },
  {
   "cell_type": "code",
   "execution_count": null,
   "id": "b9b60f21-9a25-4474-8d59-2d04c42d8cf0",
   "metadata": {},
   "outputs": [],
   "source": []
  }
 ],
 "metadata": {
  "kernelspec": {
   "display_name": "Python Multi",
   "language": "python",
   "name": "multi"
  },
  "language_info": {
   "codemirror_mode": {
    "name": "ipython",
    "version": 3
   },
   "file_extension": ".py",
   "mimetype": "text/x-python",
   "name": "python",
   "nbconvert_exporter": "python",
   "pygments_lexer": "ipython3",
   "version": "3.9.5"
  }
 },
 "nbformat": 4,
 "nbformat_minor": 5
}
