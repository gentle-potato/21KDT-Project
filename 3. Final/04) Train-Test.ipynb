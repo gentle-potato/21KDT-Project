{
 "cells": [
  {
   "cell_type": "markdown",
   "id": "9c09cc82-ef9a-441c-bebd-2c737253d68c",
   "metadata": {},
   "source": [
    "# **Train-Test**"
   ]
  },
  {
   "cell_type": "code",
   "execution_count": 1,
   "id": "fb6dfeae-4d19-4011-b0e4-0ae6d5a0593d",
   "metadata": {},
   "outputs": [],
   "source": [
    "import numpy as np\n",
    "import pandas as pd\n",
    "\n",
    "# Visualization\n",
    "import matplotlib.pyplot as plt\n",
    "import seaborn as sns\n",
    "%matplotlib inline\n",
    "\n",
    "# DB 연결\n",
    "# !pip install pymysql\n",
    "import pymysql\n",
    "\n",
    "# 실시간 주식가격 데이터\n",
    "# !pip install finance-datareader\n",
    "import FinanceDataReader as fdr\n",
    "\n",
    "# 텍스트 분석\n",
    "from konlpy.tag import Okt\n",
    "import nltk\n",
    "from nltk.sentiment.vader import SentimentIntensityAnalyzer\n",
    "\n",
    "# 기타\n",
    "import datetime\n",
    "from collections import Counter\n",
    "import sys"
   ]
  },
  {
   "cell_type": "markdown",
   "id": "e69c932f-e897-4456-b906-9a08ee1684c3",
   "metadata": {},
   "source": [
    "## **Read Data**"
   ]
  },
  {
   "cell_type": "code",
   "execution_count": 2,
   "id": "943dab58-4f95-4630-ae78-2e3333db9b7c",
   "metadata": {},
   "outputs": [
    {
     "data": {
      "text/html": [
       "<div>\n",
       "<style scoped>\n",
       "    .dataframe tbody tr th:only-of-type {\n",
       "        vertical-align: middle;\n",
       "    }\n",
       "\n",
       "    .dataframe tbody tr th {\n",
       "        vertical-align: top;\n",
       "    }\n",
       "\n",
       "    .dataframe thead th {\n",
       "        text-align: right;\n",
       "    }\n",
       "</style>\n",
       "<table border=\"1\" class=\"dataframe\">\n",
       "  <thead>\n",
       "    <tr style=\"text-align: right;\">\n",
       "      <th></th>\n",
       "      <th>date</th>\n",
       "      <th>st_cd</th>\n",
       "      <th>datetime</th>\n",
       "      <th>time</th>\n",
       "      <th>score</th>\n",
       "      <th>Open</th>\n",
       "      <th>High</th>\n",
       "      <th>Low</th>\n",
       "      <th>Close</th>\n",
       "      <th>Volume</th>\n",
       "      <th>Change</th>\n",
       "    </tr>\n",
       "  </thead>\n",
       "  <tbody>\n",
       "    <tr>\n",
       "      <th>0</th>\n",
       "      <td>2020-01-02</td>\n",
       "      <td>5930.0</td>\n",
       "      <td>2.020010e+09</td>\n",
       "      <td>10.407407</td>\n",
       "      <td>0.407407</td>\n",
       "      <td>55500.0</td>\n",
       "      <td>56000.0</td>\n",
       "      <td>55000.0</td>\n",
       "      <td>55200.0</td>\n",
       "      <td>12993228.0</td>\n",
       "      <td>-0.010753</td>\n",
       "    </tr>\n",
       "    <tr>\n",
       "      <th>1</th>\n",
       "      <td>2020-01-03</td>\n",
       "      <td>5930.0</td>\n",
       "      <td>2.020010e+09</td>\n",
       "      <td>11.432432</td>\n",
       "      <td>2.054054</td>\n",
       "      <td>56000.0</td>\n",
       "      <td>56600.0</td>\n",
       "      <td>54900.0</td>\n",
       "      <td>55500.0</td>\n",
       "      <td>15422255.0</td>\n",
       "      <td>0.005435</td>\n",
       "    </tr>\n",
       "    <tr>\n",
       "      <th>2</th>\n",
       "      <td>2020-01-06</td>\n",
       "      <td>5930.0</td>\n",
       "      <td>2.020010e+09</td>\n",
       "      <td>12.403509</td>\n",
       "      <td>0.368421</td>\n",
       "      <td>54900.0</td>\n",
       "      <td>55600.0</td>\n",
       "      <td>54600.0</td>\n",
       "      <td>55500.0</td>\n",
       "      <td>10278951.0</td>\n",
       "      <td>0.000000</td>\n",
       "    </tr>\n",
       "  </tbody>\n",
       "</table>\n",
       "</div>"
      ],
      "text/plain": [
       "         date   st_cd      datetime       time     score     Open     High  \\\n",
       "0  2020-01-02  5930.0  2.020010e+09  10.407407  0.407407  55500.0  56000.0   \n",
       "1  2020-01-03  5930.0  2.020010e+09  11.432432  2.054054  56000.0  56600.0   \n",
       "2  2020-01-06  5930.0  2.020010e+09  12.403509  0.368421  54900.0  55600.0   \n",
       "\n",
       "       Low    Close      Volume    Change  \n",
       "0  55000.0  55200.0  12993228.0 -0.010753  \n",
       "1  54900.0  55500.0  15422255.0  0.005435  \n",
       "2  54600.0  55500.0  10278951.0  0.000000  "
      ]
     },
     "execution_count": 2,
     "metadata": {},
     "output_type": "execute_result"
    }
   ],
   "source": [
    "total = pd.read_csv('test_total_KOSELF.csv')\n",
    "\n",
    "total.head(3)"
   ]
  },
  {
   "cell_type": "code",
   "execution_count": 3,
   "id": "6933af34-fb7b-43ea-8aa3-41d0e8964d7a",
   "metadata": {},
   "outputs": [
    {
     "data": {
      "text/html": [
       "<div>\n",
       "<style scoped>\n",
       "    .dataframe tbody tr th:only-of-type {\n",
       "        vertical-align: middle;\n",
       "    }\n",
       "\n",
       "    .dataframe tbody tr th {\n",
       "        vertical-align: top;\n",
       "    }\n",
       "\n",
       "    .dataframe thead th {\n",
       "        text-align: right;\n",
       "    }\n",
       "</style>\n",
       "<table border=\"1\" class=\"dataframe\">\n",
       "  <thead>\n",
       "    <tr style=\"text-align: right;\">\n",
       "      <th></th>\n",
       "      <th>date</th>\n",
       "      <th>st_cd</th>\n",
       "      <th>datetime</th>\n",
       "      <th>time</th>\n",
       "      <th>score</th>\n",
       "      <th>Open</th>\n",
       "      <th>High</th>\n",
       "      <th>Low</th>\n",
       "      <th>Close</th>\n",
       "      <th>Volume</th>\n",
       "      <th>Change</th>\n",
       "    </tr>\n",
       "  </thead>\n",
       "  <tbody>\n",
       "    <tr>\n",
       "      <th>0</th>\n",
       "      <td>2020-01-02</td>\n",
       "      <td>5930.0</td>\n",
       "      <td>2.020010e+09</td>\n",
       "      <td>10.407407</td>\n",
       "      <td>0.407407</td>\n",
       "      <td>55500.0</td>\n",
       "      <td>56000.0</td>\n",
       "      <td>55000.0</td>\n",
       "      <td>55200.0</td>\n",
       "      <td>12993228.0</td>\n",
       "      <td>-0.010753</td>\n",
       "    </tr>\n",
       "    <tr>\n",
       "      <th>1</th>\n",
       "      <td>2020-01-03</td>\n",
       "      <td>5930.0</td>\n",
       "      <td>2.020010e+09</td>\n",
       "      <td>11.432432</td>\n",
       "      <td>2.054054</td>\n",
       "      <td>56000.0</td>\n",
       "      <td>56600.0</td>\n",
       "      <td>54900.0</td>\n",
       "      <td>55500.0</td>\n",
       "      <td>15422255.0</td>\n",
       "      <td>0.005435</td>\n",
       "    </tr>\n",
       "    <tr>\n",
       "      <th>2</th>\n",
       "      <td>2020-01-06</td>\n",
       "      <td>5930.0</td>\n",
       "      <td>2.020010e+09</td>\n",
       "      <td>12.403509</td>\n",
       "      <td>0.368421</td>\n",
       "      <td>54900.0</td>\n",
       "      <td>55600.0</td>\n",
       "      <td>54600.0</td>\n",
       "      <td>55500.0</td>\n",
       "      <td>10278951.0</td>\n",
       "      <td>0.000000</td>\n",
       "    </tr>\n",
       "  </tbody>\n",
       "</table>\n",
       "</div>"
      ],
      "text/plain": [
       "         date   st_cd      datetime       time     score     Open     High  \\\n",
       "0  2020-01-02  5930.0  2.020010e+09  10.407407  0.407407  55500.0  56000.0   \n",
       "1  2020-01-03  5930.0  2.020010e+09  11.432432  2.054054  56000.0  56600.0   \n",
       "2  2020-01-06  5930.0  2.020010e+09  12.403509  0.368421  54900.0  55600.0   \n",
       "\n",
       "       Low    Close      Volume    Change  \n",
       "0  55000.0  55200.0  12993228.0 -0.010753  \n",
       "1  54900.0  55500.0  15422255.0  0.005435  \n",
       "2  54600.0  55500.0  10278951.0  0.000000  "
      ]
     },
     "execution_count": 3,
     "metadata": {},
     "output_type": "execute_result"
    }
   ],
   "source": [
    "total_test = pd.read_csv('test_total_blog.csv')\n",
    "\n",
    "total_test.head(3)"
   ]
  },
  {
   "cell_type": "code",
   "execution_count": null,
   "id": "cff39c7d-66df-48c4-802a-c6c24024f6a9",
   "metadata": {},
   "outputs": [],
   "source": []
  },
  {
   "cell_type": "code",
   "execution_count": null,
   "id": "a24b0152-73ff-4cec-a7c2-66bdd8c482a5",
   "metadata": {},
   "outputs": [],
   "source": []
  },
  {
   "cell_type": "code",
   "execution_count": null,
   "id": "7662fc20-9a07-4cc5-8486-70a30b0684e6",
   "metadata": {},
   "outputs": [],
   "source": []
  },
  {
   "cell_type": "code",
   "execution_count": null,
   "id": "f4a31217-b815-4000-bda0-6a0d4917484a",
   "metadata": {},
   "outputs": [],
   "source": []
  },
  {
   "cell_type": "code",
   "execution_count": null,
   "id": "dc508f7e-50e3-430a-a274-48f52a5d6f59",
   "metadata": {},
   "outputs": [],
   "source": []
  },
  {
   "cell_type": "code",
   "execution_count": null,
   "id": "56977e08-2f22-4362-9486-bb8df841e9a1",
   "metadata": {},
   "outputs": [],
   "source": []
  },
  {
   "cell_type": "code",
   "execution_count": null,
   "id": "74683807-faf2-4702-aec7-cccc53a3e1ec",
   "metadata": {},
   "outputs": [],
   "source": []
  },
  {
   "cell_type": "code",
   "execution_count": null,
   "id": "8b46f7d8-2bf5-4087-b4a4-3c5834c699f4",
   "metadata": {},
   "outputs": [],
   "source": []
  },
  {
   "cell_type": "code",
   "execution_count": null,
   "id": "3bb816bc-30cb-4170-b7bd-92ab483a3ddb",
   "metadata": {},
   "outputs": [],
   "source": []
  },
  {
   "cell_type": "code",
   "execution_count": null,
   "id": "6ea7c369-8d8e-4af1-9326-2e0e30ec22b8",
   "metadata": {},
   "outputs": [],
   "source": []
  },
  {
   "cell_type": "code",
   "execution_count": null,
   "id": "2d37807c-7bad-4418-a600-2ca963501bbe",
   "metadata": {},
   "outputs": [],
   "source": []
  },
  {
   "cell_type": "code",
   "execution_count": null,
   "id": "593a4520-fc6c-4b95-8802-c270d06e38d1",
   "metadata": {},
   "outputs": [],
   "source": []
  },
  {
   "cell_type": "code",
   "execution_count": null,
   "id": "86308434-04e1-4d22-a1e4-81a934d37e74",
   "metadata": {},
   "outputs": [],
   "source": []
  },
  {
   "cell_type": "code",
   "execution_count": null,
   "id": "5033cae6-f436-4dac-a86e-aeabc01a020b",
   "metadata": {},
   "outputs": [],
   "source": []
  },
  {
   "cell_type": "code",
   "execution_count": null,
   "id": "97ac78fa-59ea-4389-9a90-70398e2b1d8d",
   "metadata": {},
   "outputs": [],
   "source": []
  },
  {
   "cell_type": "code",
   "execution_count": null,
   "id": "82aaa761-21b7-4f2e-a5df-9e00bc7751ad",
   "metadata": {},
   "outputs": [],
   "source": []
  },
  {
   "cell_type": "code",
   "execution_count": null,
   "id": "66da57b5-2423-455b-a864-bcb83f638acb",
   "metadata": {},
   "outputs": [],
   "source": []
  },
  {
   "cell_type": "code",
   "execution_count": null,
   "id": "ce0df832-c77f-4888-be6f-5c71de934586",
   "metadata": {},
   "outputs": [],
   "source": []
  },
  {
   "cell_type": "code",
   "execution_count": null,
   "id": "b00c565c-f6ed-4460-98f3-4437e2823577",
   "metadata": {},
   "outputs": [],
   "source": []
  },
  {
   "cell_type": "code",
   "execution_count": null,
   "id": "937e8813-ea38-482a-8b9a-26fceba3d37a",
   "metadata": {},
   "outputs": [],
   "source": []
  },
  {
   "cell_type": "code",
   "execution_count": null,
   "id": "50dc8ebb-99eb-4dac-99a4-1756a7df5ace",
   "metadata": {},
   "outputs": [],
   "source": []
  }
 ],
 "metadata": {
  "kernelspec": {
   "display_name": "Python Multi",
   "language": "python",
   "name": "multi"
  },
  "language_info": {
   "codemirror_mode": {
    "name": "ipython",
    "version": 3
   },
   "file_extension": ".py",
   "mimetype": "text/x-python",
   "name": "python",
   "nbconvert_exporter": "python",
   "pygments_lexer": "ipython3",
   "version": "3.9.5"
  }
 },
 "nbformat": 4,
 "nbformat_minor": 5
}
