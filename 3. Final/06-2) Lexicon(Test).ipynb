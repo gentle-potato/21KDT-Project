{
 "cells": [
  {
   "cell_type": "markdown",
   "id": "7042b04a-76e6-4007-b71b-55ce88359731",
   "metadata": {},
   "source": [
    "# **Lexicon**"
   ]
  },
  {
   "cell_type": "code",
   "execution_count": 1,
   "id": "2f505ac3-b109-46f0-b59b-9eeb657aa2f3",
   "metadata": {},
   "outputs": [],
   "source": [
    "import numpy as np\n",
    "import pandas as pd\n",
    "\n",
    "### Visualization\n",
    "import matplotlib.pyplot as plt\n",
    "import seaborn as sns\n",
    "%matplotlib inline\n",
    "\n",
    "### DB 연결\n",
    "# !pip install pymysql\n",
    "import pymysql\n",
    "\n",
    "### DB에 저장\n",
    "import sqlalchemy\n",
    "from sqlalchemy import create_engine\n",
    "\n",
    "### 실시간 주식가격 데이터\n",
    "# !pip install finance-datareader\n",
    "import FinanceDataReader as fdr\n",
    "\n",
    "### 텍스트 분석\n",
    "## KoNLPy\n",
    "# 1) JAVA 설치, 2) Python 버전과 맞는 JPype1-py3 설치, 3) !pip install konlpy, 4) 설치 경로에서 jvm.py 파일 코드 67번 줄 주석 처리 \n",
    "from konlpy.tag import Okt\n",
    "import nltk\n",
    "from nltk.sentiment.vader import SentimentIntensityAnalyzer\n",
    "from sklearn.feature_extraction.text import CountVectorizer, TfidfVectorizer\n",
    "import re\n",
    "## FastText\n",
    "# !pip install gensim\n",
    "# !pip install fasttext\n",
    "import fasttext\n",
    "import fasttext.util\n",
    "# Facebook 한국어 Embedding 모델 다운로드 → 한 번만 설치하면 됨\n",
    "fasttext.util.download_model('ko', if_exists='ignore')\n",
    "# 유사도 계산\n",
    "from gensim import models\n",
    "\n",
    "### 모델 학습 및 평가\n",
    "from sklearn.model_selection import train_test_split\n",
    "from sklearn.pipeline import Pipeline\n",
    "from sklearn.model_selection import GridSearchCV\n",
    "from sklearn.linear_model import LogisticRegression\n",
    "from sklearn.metrics import accuracy_score, roc_auc_score\n",
    "from sklearn.metrics import precision_score, recall_score, f1_score\n",
    "\n",
    "### 모델 저장 및 로드\n",
    "import joblib\n",
    "\n",
    "### 기타\n",
    "import datetime\n",
    "from collections import Counter\n",
    "import sys\n",
    "import warnings\n",
    "warnings.filterwarnings('ignore')"
   ]
  },
  {
   "cell_type": "code",
   "execution_count": 2,
   "id": "651ff13e-c08e-4eb0-a4dd-2633d8dfbb73",
   "metadata": {},
   "outputs": [
    {
     "name": "stdout",
     "output_type": "stream",
     "text": [
      "GPU 사용 불가능\n"
     ]
    }
   ],
   "source": [
    "import tensorflow as tf\n",
    "\n",
    "print('GPU', '사용 가능' if tf.config.experimental.list_physical_devices('GPU') else '사용 불가능')"
   ]
  },
  {
   "cell_type": "code",
   "execution_count": 3,
   "id": "a34d4e8d-d6fe-442b-937c-7bd6513629d5",
   "metadata": {},
   "outputs": [
    {
     "name": "stdout",
     "output_type": "stream",
     "text": [
      "Thu Sep 16 11:39:29 2021       \n",
      "+-----------------------------------------------------------------------------+\n",
      "| NVIDIA-SMI 452.56       Driver Version: 452.56       CUDA Version: 11.0     |\n",
      "|-------------------------------+----------------------+----------------------+\n",
      "| GPU  Name            TCC/WDDM | Bus-Id        Disp.A | Volatile Uncorr. ECC |\n",
      "| Fan  Temp  Perf  Pwr:Usage/Cap|         Memory-Usage | GPU-Util  Compute M. |\n",
      "|                               |                      |               MIG M. |\n",
      "|===============================+======================+======================|\n",
      "|   0  GeForce MX450      WDDM  | 00000000:2D:00.0 Off |                  N/A |\n",
      "| N/A   70C    P8    N/A /  N/A |    119MiB /  2048MiB |      0%      Default |\n",
      "|                               |                      |                  N/A |\n",
      "+-------------------------------+----------------------+----------------------+\n",
      "                                                                               \n",
      "+-----------------------------------------------------------------------------+\n",
      "| Processes:                                                                  |\n",
      "|  GPU   GI   CI        PID   Type   Process name                  GPU Memory |\n",
      "|        ID   ID                                                   Usage      |\n",
      "|=============================================================================|\n",
      "|  No running processes found                                                 |\n",
      "+-----------------------------------------------------------------------------+\n"
     ]
    }
   ],
   "source": [
    "!nvidia-smi"
   ]
  },
  {
   "cell_type": "markdown",
   "id": "9aa43301-e259-4af4-b822-1d2f20c47972",
   "metadata": {},
   "source": [
    "## **Read KOSELF & Test Data**"
   ]
  },
  {
   "cell_type": "markdown",
   "id": "b399171e-c304-40b3-947a-d724476c04b5",
   "metadata": {},
   "source": [
    "### **① KOSELF 감성 어휘 사전**"
   ]
  },
  {
   "cell_type": "code",
   "execution_count": 4,
   "id": "c0851796-3ab1-472c-a7e2-c047529c88e0",
   "metadata": {},
   "outputs": [],
   "source": [
    "# 블로그에서 가져온 기본적인 한국어 긍부정 텍스트 목록\n",
    "with open('positive_words_self.txt', encoding='utf-8') as pos_blog:\n",
    "    positive_blog = pos_blog.readlines()\n",
    "positive_blog = [pos_blog.replace('\\n', '') for pos_blog in positive_blog]\n",
    "with open('negative_words_self.txt', encoding='utf-8') as neg_blog:\n",
    "    negative_blog = neg_blog.readlines()\n",
    "negative_blog = [neg_blog.replace('\\n', '') for neg_blog in negative_blog]\n",
    "\n",
    "# KOSELF 감성 어휘 사전\n",
    "with open('KOSELF_pos.txt', encoding='utf-8') as pos:\n",
    "    positive = pos.readlines()\n",
    "positive = [pos.replace('\\n', '') for pos in positive]\n",
    "with open('KOSELF_neg.txt', encoding='utf-8') as neg:\n",
    "    negative = neg.readlines()\n",
    "negative = [neg.replace('\\n', '') for neg in negative]"
   ]
  },
  {
   "cell_type": "markdown",
   "id": "50dc3d93-29e4-4446-920e-770464743e79",
   "metadata": {},
   "source": [
    "### **② 2018~2020년 Data**"
   ]
  },
  {
   "cell_type": "code",
   "execution_count": 5,
   "id": "cb8f71ed-dc58-4df8-af6d-4a7f67b2e4e6",
   "metadata": {},
   "outputs": [
    {
     "name": "stdout",
     "output_type": "stream",
     "text": [
      "(52484, 19)\n"
     ]
    },
    {
     "data": {
      "text/html": [
       "<div>\n",
       "<style scoped>\n",
       "    .dataframe tbody tr th:only-of-type {\n",
       "        vertical-align: middle;\n",
       "    }\n",
       "\n",
       "    .dataframe tbody tr th {\n",
       "        vertical-align: top;\n",
       "    }\n",
       "\n",
       "    .dataframe thead th {\n",
       "        text-align: right;\n",
       "    }\n",
       "</style>\n",
       "<table border=\"1\" class=\"dataframe\">\n",
       "  <thead>\n",
       "    <tr style=\"text-align: right;\">\n",
       "      <th></th>\n",
       "      <th>st_n</th>\n",
       "      <th>st_cd</th>\n",
       "      <th>news</th>\n",
       "      <th>datetime</th>\n",
       "      <th>title</th>\n",
       "      <th>url</th>\n",
       "      <th>text</th>\n",
       "      <th>date</th>\n",
       "      <th>time</th>\n",
       "      <th>score</th>\n",
       "      <th>Open</th>\n",
       "      <th>High</th>\n",
       "      <th>Low</th>\n",
       "      <th>Close</th>\n",
       "      <th>Volume</th>\n",
       "      <th>Change</th>\n",
       "      <th>UpDown</th>\n",
       "      <th>Extremely_Changed</th>\n",
       "      <th>except_stopwords</th>\n",
       "    </tr>\n",
       "  </thead>\n",
       "  <tbody>\n",
       "    <tr>\n",
       "      <th>0</th>\n",
       "      <td>삼성전자</td>\n",
       "      <td>5930</td>\n",
       "      <td>매일경제</td>\n",
       "      <td>2018010100</td>\n",
       "      <td>스마트베타ETF 고공행진 새해도 이어질까</td>\n",
       "      <td>http://news.mk.co.kr/newsRead.php?year=2018&amp;no=29</td>\n",
       "      <td>수수료가 싼 상장지수펀드(ETF)에 펀드매니저가 종목을 고르는 액티브 펀드 특성을...</td>\n",
       "      <td>2018-01-02</td>\n",
       "      <td>0</td>\n",
       "      <td>2</td>\n",
       "      <td>51380</td>\n",
       "      <td>51400</td>\n",
       "      <td>50780</td>\n",
       "      <td>51020</td>\n",
       "      <td>169485</td>\n",
       "      <td>0.001177</td>\n",
       "      <td>1</td>\n",
       "      <td>0</td>\n",
       "      <td>수수료 상장 지수 펀드 펀드매니저 종목 액티브 펀드 특성 가미 스마트 베타 대한 목...</td>\n",
       "    </tr>\n",
       "  </tbody>\n",
       "</table>\n",
       "</div>"
      ],
      "text/plain": [
       "   st_n  st_cd  news    datetime                   title  \\\n",
       "0  삼성전자   5930  매일경제  2018010100  스마트베타ETF 고공행진 새해도 이어질까   \n",
       "\n",
       "                                                 url  \\\n",
       "0  http://news.mk.co.kr/newsRead.php?year=2018&no=29   \n",
       "\n",
       "                                                text        date  time  score  \\\n",
       "0   수수료가 싼 상장지수펀드(ETF)에 펀드매니저가 종목을 고르는 액티브 펀드 특성을...  2018-01-02     0      2   \n",
       "\n",
       "    Open   High    Low  Close  Volume    Change  UpDown  Extremely_Changed  \\\n",
       "0  51380  51400  50780  51020  169485  0.001177       1                  0   \n",
       "\n",
       "                                    except_stopwords  \n",
       "0  수수료 상장 지수 펀드 펀드매니저 종목 액티브 펀드 특성 가미 스마트 베타 대한 목...  "
      ]
     },
     "execution_count": 5,
     "metadata": {},
     "output_type": "execute_result"
    }
   ],
   "source": [
    "news_18to20 = pd.read_csv('../../../../Code/Data/Test/news_18to20.csv')\n",
    "\n",
    "print(news_18to20.shape)\n",
    "news_18to20.head(1)"
   ]
  },
  {
   "cell_type": "code",
   "execution_count": 6,
   "id": "2b8f16ee-b97a-4a05-9f79-da13c77a683a",
   "metadata": {},
   "outputs": [],
   "source": [
    "news_18to20.dropna(inplace=True)\n",
    "news_18to20 = news_18to20.reset_index(drop=True)"
   ]
  },
  {
   "cell_type": "markdown",
   "id": "826dab0c-e26d-44a4-9e12-d3f25fc8a219",
   "metadata": {},
   "source": [
    "## **Calculate Cosine Similarity**"
   ]
  },
  {
   "cell_type": "code",
   "execution_count": 7,
   "id": "09b9507a-9924-4fe9-9a21-8c6e0b35564f",
   "metadata": {},
   "outputs": [],
   "source": [
    "# 이미 학습된 FastText 내장 한국어 모델\n",
    "try:\n",
    "    print(ko_model, '모델 로드 불필요')\n",
    "except:\n",
    "    ko_model = models.fasttext.load_facebook_model('cc.ko.300.bin')"
   ]
  },
  {
   "cell_type": "code",
   "execution_count": 8,
   "id": "7bdb030f-d77b-4b7d-b63c-2fbd8ca9710e",
   "metadata": {},
   "outputs": [
    {
     "name": "stdout",
     "output_type": "stream",
     "text": [
      "***Cosine Similarity between <가치> & <가치> : 1.0\n",
      "***Cosine Similarity between <가치> & <가치> : 1.0\n",
      "***Cosine Similarity between <경신> & <기록> : 0.522990882396698\n",
      "***Cosine Similarity between <경신> & <기록> : 0.522990882396698\n",
      "***Cosine Similarity between <경신> & <기록> : 0.522990882396698\n",
      "***Cosine Similarity between <장점> & <특성> : 0.5244326591491699\n"
     ]
    }
   ],
   "source": [
    "for i in range(len(positive)):\n",
    "    for j in range(len(news_18to20['except_stopwords'][0].split())):\n",
    "        if ko_model.wv.similarity(positive[i], news_18to20['except_stopwords'][0].split()[j]) > 0.5:\n",
    "            print(\"***Cosine Similarity between <{0}> & <{1}> : {2}\".format(positive[i], news_18to20['except_stopwords'][0].split()[j], ko_model.wv.similarity(positive[i], news_18to20['except_stopwords'][0].split()[j])))"
   ]
  },
  {
   "cell_type": "code",
   "execution_count": null,
   "id": "c28161c6-42ed-4a49-ac66-218ec5d67f83",
   "metadata": {},
   "outputs": [],
   "source": []
  }
 ],
 "metadata": {
  "kernelspec": {
   "display_name": "Python Multi",
   "language": "python",
   "name": "multi"
  },
  "language_info": {
   "codemirror_mode": {
    "name": "ipython",
    "version": 3
   },
   "file_extension": ".py",
   "mimetype": "text/x-python",
   "name": "python",
   "nbconvert_exporter": "python",
   "pygments_lexer": "ipython3",
   "version": "3.9.5"
  }
 },
 "nbformat": 4,
 "nbformat_minor": 5
}
