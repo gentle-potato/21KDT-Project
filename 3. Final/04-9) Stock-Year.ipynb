{
 "cells": [
  {
   "cell_type": "markdown",
   "id": "9c09cc82-ef9a-441c-bebd-2c737253d68c",
   "metadata": {},
   "source": [
    "# **Stock-Year**"
   ]
  },
  {
   "cell_type": "code",
   "execution_count": 1,
   "id": "fb6dfeae-4d19-4011-b0e4-0ae6d5a0593d",
   "metadata": {},
   "outputs": [],
   "source": [
    "import numpy as np\n",
    "import pandas as pd\n",
    "\n",
    "### Visualization\n",
    "import matplotlib.pyplot as plt\n",
    "import seaborn as sns\n",
    "%matplotlib inline\n",
    "\n",
    "### DB 연결\n",
    "# !pip install pymysql\n",
    "import pymysql\n",
    "\n",
    "### DB에 저장\n",
    "import sqlalchemy\n",
    "from sqlalchemy import create_engine\n",
    "\n",
    "### 실시간 주식가격 데이터\n",
    "# !pip install finance-datareader\n",
    "import FinanceDataReader as fdr\n",
    "\n",
    "### 텍스트 분석\n",
    "## KoNLPy\n",
    "# 1) JAVA 설치, 2) Python 버전과 맞는 JPype1-py3 설치, 3) !pip install konlpy, 4) 설치 경로에서 jvm.py 파일 코드 67번 줄 주석 처리 \n",
    "from konlpy.tag import Okt\n",
    "import nltk\n",
    "from nltk.sentiment.vader import SentimentIntensityAnalyzer\n",
    "from sklearn.feature_extraction.text import CountVectorizer, TfidfVectorizer\n",
    "import re\n",
    "## FastText\n",
    "# !pip install gensim\n",
    "# !pip install fasttext\n",
    "import fasttext\n",
    "import fasttext.util\n",
    "# Facebook 한국어 Embedding 모델 다운로드 → 한 번만 설치하면 됨\n",
    "fasttext.util.download_model('ko', if_exists='ignore')\n",
    "# 유사도 계산\n",
    "from gensim import models\n",
    "\n",
    "### 모델 학습 및 평가\n",
    "from sklearn.model_selection import train_test_split\n",
    "from sklearn.pipeline import Pipeline\n",
    "from sklearn.model_selection import GridSearchCV\n",
    "from sklearn.linear_model import LogisticRegression\n",
    "from sklearn.metrics import accuracy_score, roc_auc_score\n",
    "from sklearn.metrics import precision_score, recall_score, f1_score\n",
    "\n",
    "### 모델 저장 및 로드\n",
    "import joblib\n",
    "\n",
    "### 기타\n",
    "import datetime\n",
    "from collections import Counter\n",
    "import sys\n",
    "import warnings\n",
    "warnings.filterwarnings('ignore')"
   ]
  },
  {
   "cell_type": "markdown",
   "id": "e69c932f-e897-4456-b906-9a08ee1684c3",
   "metadata": {},
   "source": [
    "## **Read Data**"
   ]
  },
  {
   "cell_type": "markdown",
   "id": "b282f92d-7b14-4734-963b-c35736dd6f93",
   "metadata": {},
   "source": [
    "### **① Samsung**"
   ]
  },
  {
   "cell_type": "code",
   "execution_count": 2,
   "id": "cff39c7d-66df-48c4-802a-c6c24024f6a9",
   "metadata": {},
   "outputs": [],
   "source": [
    "# 2018년 Samsung\n",
    "samsung_maeil_2018 = pd.read_csv('../../../../Code/Data/Test/Stock-Year/2018_maeil_samsung.csv')\n",
    "samsung_asia_2018 = pd.read_csv('../../../../Code/Data/Test/Stock-Year/2018_asia_samsung.csv')\n",
    "samsung_2018 = pd.concat([samsung_maeil_2018, samsung_asia_2018], axis=0)\n",
    "samsung_2018.to_csv('../../../../Code/Data/Test/Stock-Year/2018_samsung.csv', index=False)\n",
    "\n",
    "# 2019년 Samsung\n",
    "samsung_maeil_2019 = pd.read_csv('../../../../Code/Data/Test/Stock-Year/2019_maeil_samsung.csv')\n",
    "samsung_asia_2019 = pd.read_csv('../../../../Code/Data/Test/Stock-Year/2019_asia_samsung.csv')\n",
    "samsung_2019 = pd.concat([samsung_maeil_2019, samsung_asia_2019], axis=0)\n",
    "samsung_2019.to_csv('../../../../Code/Data/Test/Stock-Year/2019_samsung.csv', index=False)\n",
    "\n",
    "# 2020년 Samsung\n",
    "samsung_maeil_2020 = pd.read_csv('../../../../Code/Data/Test/Stock-Year/2020_maeil_samsung.csv')\n",
    "samsung_asia_2020 = pd.read_csv('../../../../Code/Data/Test/Stock-Year/2020_asia_samsung.csv')\n",
    "samsung_2020 = pd.concat([samsung_maeil_2020, samsung_asia_2020], axis=0)\n",
    "samsung_2020.to_csv('../../../../Code/Data/Test/Stock-Year/2020_samsung.csv', index=False)\n",
    "\n",
    "# 2021년 Samsung\n",
    "samsung_maeil_2021 = pd.read_csv('../../../../Code/Data/Test/Stock-Year/2021_maeil_samsung.csv')\n",
    "samsung_asia_2021 = pd.read_csv('../../../../Code/Data/Test/Stock-Year/2021_asia_samsung.csv')\n",
    "samsung_2021 = pd.concat([samsung_maeil_2021, samsung_asia_2021], axis=0)\n",
    "samsung_2021.to_csv('../../../../Code/Data/Test/Stock-Year/2021_samsung.csv', index=False)"
   ]
  },
  {
   "cell_type": "markdown",
   "id": "c612d8d9-1b70-4584-aefd-3f493560c4e2",
   "metadata": {},
   "source": [
    "### **② Hyundai**"
   ]
  },
  {
   "cell_type": "code",
   "execution_count": 3,
   "id": "7662fc20-9a07-4cc5-8486-70a30b0684e6",
   "metadata": {},
   "outputs": [],
   "source": [
    "# 2018년 Hyundai\n",
    "hyundai_maeil_2018 = pd.read_csv('../../../../Code/Data/Test/Stock-Year/2018_maeil_hyundai.csv')\n",
    "hyundai_asia_2018 = pd.read_csv('../../../../Code/Data/Test/Stock-Year/2018_asia_hyundai.csv')\n",
    "hyundai_2018 = pd.concat([hyundai_maeil_2018, hyundai_asia_2018], axis=0)\n",
    "hyundai_2018.to_csv('../../../../Code/Data/Test/Stock-Year/2018_hyundai.csv', index=False)\n",
    "\n",
    "# 2019년 Hyundai\n",
    "hyundai_maeil_2019 = pd.read_csv('../../../../Code/Data/Test/Stock-Year/2019_maeil_hyundai.csv')\n",
    "hyundai_asia_2019 = pd.read_csv('../../../../Code/Data/Test/Stock-Year/2019_asia_hyundai.csv')\n",
    "hyundai_2019 = pd.concat([hyundai_maeil_2019, hyundai_asia_2019], axis=0)\n",
    "hyundai_2019.to_csv('../../../../Code/Data/Test/Stock-Year/2019_hyundai.csv', index=False)\n",
    "\n",
    "# 2020년 Hyundai\n",
    "hyundai_maeil_2020 = pd.read_csv('../../../../Code/Data/Test/Stock-Year/2020_maeil_hyundai.csv')\n",
    "hyundai_asia_2020 = pd.read_csv('../../../../Code/Data/Test/Stock-Year/2020_asia_hyundai.csv')\n",
    "hyundai_2020 = pd.concat([hyundai_maeil_2020, hyundai_asia_2020], axis=0)\n",
    "hyundai_2020.to_csv('../../../../Code/Data/Test/Stock-Year/2020_hyundai.csv', index=False)\n",
    "\n",
    "# 2021년 Hyundai\n",
    "hyundai_maeil_2021 = pd.read_csv('../../../../Code/Data/Test/Stock-Year/2021_maeil_hyundai.csv')\n",
    "hyundai_asia_2021 = pd.read_csv('../../../../Code/Data/Test/Stock-Year/2021_asia_hyundai.csv')\n",
    "hyundai_2021 = pd.concat([hyundai_maeil_2021, hyundai_asia_2021], axis=0)\n",
    "hyundai_2021.to_csv('../../../../Code/Data/Test/Stock-Year/2021_hyundai.csv', index=False)"
   ]
  },
  {
   "cell_type": "markdown",
   "id": "00e3481f-f4c7-4948-be08-c67cc2c512e7",
   "metadata": {},
   "source": [
    "### **③ LG**"
   ]
  },
  {
   "cell_type": "code",
   "execution_count": 4,
   "id": "dc508f7e-50e3-430a-a274-48f52a5d6f59",
   "metadata": {},
   "outputs": [],
   "source": [
    "# 2018년 LG\n",
    "lg_maeil_2018 = pd.read_csv('../../../../Code/Data/Test/Stock-Year/2018_maeil_lg.csv')\n",
    "lg_asia_2018 = pd.read_csv('../../../../Code/Data/Test/Stock-Year/2018_asia_lg.csv')\n",
    "lg_2018 = pd.concat([lg_maeil_2018, lg_asia_2018], axis=0)\n",
    "lg_2018.to_csv('../../../../Code/Data/Test/Stock-Year/2018_lg.csv', index=False)\n",
    "\n",
    "# 2019년 LG\n",
    "lg_maeil_2019 = pd.read_csv('../../../../Code/Data/Test/Stock-Year/2019_maeil_lg.csv')\n",
    "lg_asia_2019 = pd.read_csv('../../../../Code/Data/Test/Stock-Year/2019_asia_lg.csv')\n",
    "lg_2019 = pd.concat([lg_maeil_2019, lg_asia_2019], axis=0)\n",
    "lg_2019.to_csv('../../../../Code/Data/Test/Stock-Year/2019_lg.csv', index=False)\n",
    "\n",
    "# 2020년 LG\n",
    "lg_maeil_2020 = pd.read_csv('../../../../Code/Data/Test/Stock-Year/2020_maeil_lg.csv')\n",
    "lg_asia_2020 = pd.read_csv('../../../../Code/Data/Test/Stock-Year/2020_asia_lg.csv')\n",
    "lg_2020 = pd.concat([lg_maeil_2020, lg_asia_2020], axis=0)\n",
    "lg_2020.to_csv('../../../../Code/Data/Test/Stock-Year/2020_lg.csv', index=False)\n",
    "\n",
    "# 2021년 LG\n",
    "lg_maeil_2021 = pd.read_csv('../../../../Code/Data/Test/Stock-Year/2021_maeil_lg.csv')\n",
    "lg_asia_2021 = pd.read_csv('../../../../Code/Data/Test/Stock-Year/2021_asia_lg.csv')\n",
    "lg_2021 = pd.concat([lg_maeil_2021, lg_asia_2021], axis=0)\n",
    "lg_2021.to_csv('../../../../Code/Data/Test/Stock-Year/2021_lg.csv', index=False)"
   ]
  },
  {
   "cell_type": "markdown",
   "id": "015588dc-816f-42a4-8be0-d848f988ec54",
   "metadata": {},
   "source": [
    "### **④ SK**"
   ]
  },
  {
   "cell_type": "code",
   "execution_count": 5,
   "id": "74683807-faf2-4702-aec7-cccc53a3e1ec",
   "metadata": {},
   "outputs": [],
   "source": [
    "# 2018년 SK\n",
    "sk_maeil_2018 = pd.read_csv('../../../../Code/Data/Test/Stock-Year/2018_maeil_sk.csv')\n",
    "sk_asia_2018 = pd.read_csv('../../../../Code/Data/Test/Stock-Year/2018_asia_sk.csv')\n",
    "sk_2018 = pd.concat([sk_maeil_2018, sk_asia_2018], axis=0)\n",
    "sk_2018.to_csv('../../../../Code/Data/Test/Stock-Year/2018_sk.csv', index=False)\n",
    "\n",
    "# 2019년 SK\n",
    "sk_maeil_2019 = pd.read_csv('../../../../Code/Data/Test/Stock-Year/2019_maeil_sk.csv')\n",
    "sk_asia_2019 = pd.read_csv('../../../../Code/Data/Test/Stock-Year/2019_asia_sk.csv')\n",
    "sk_2019 = pd.concat([sk_maeil_2019, sk_asia_2019], axis=0)\n",
    "sk_2019.to_csv('../../../../Code/Data/Test/Stock-Year/2019_sk.csv', index=False)\n",
    "\n",
    "# 2020년 SK\n",
    "sk_maeil_2020 = pd.read_csv('../../../../Code/Data/Test/Stock-Year/2020_maeil_sk.csv')\n",
    "sk_asia_2020 = pd.read_csv('../../../../Code/Data/Test/Stock-Year/2020_asia_sk.csv')\n",
    "sk_2020 = pd.concat([sk_maeil_2020, sk_asia_2020], axis=0)\n",
    "sk_2020.to_csv('../../../../Code/Data/Test/Stock-Year/2020_sk.csv', index=False)\n",
    "\n",
    "# 2021년 SK\n",
    "sk_maeil_2021 = pd.read_csv('../../../../Code/Data/Test/Stock-Year/2021_maeil_sk.csv')\n",
    "sk_asia_2021 = pd.read_csv('../../../../Code/Data/Test/Stock-Year/2021_asia_sk.csv')\n",
    "sk_2021 = pd.concat([sk_maeil_2021, sk_asia_2021], axis=0)\n",
    "sk_2021.to_csv('../../../../Code/Data/Test/Stock-Year/2021_sk.csv', index=False)"
   ]
  },
  {
   "cell_type": "markdown",
   "id": "49056511-62b5-4486-b06b-0e6d6964dee5",
   "metadata": {},
   "source": [
    "### **⑤ Celltrion**"
   ]
  },
  {
   "cell_type": "code",
   "execution_count": 6,
   "id": "3bb816bc-30cb-4170-b7bd-92ab483a3ddb",
   "metadata": {},
   "outputs": [],
   "source": [
    "# 2018년 Celltrion\n",
    "celltrion_maeil_2018 = pd.read_csv('../../../../Code/Data/Test/Stock-Year/2018_maeil_celltrion.csv')\n",
    "celltrion_asia_2018 = pd.read_csv('../../../../Code/Data/Test/Stock-Year/2018_asia_celltrion.csv')\n",
    "celltrion_2018 = pd.concat([celltrion_maeil_2018, celltrion_asia_2018], axis=0)\n",
    "celltrion_2018.to_csv('../../../../Code/Data/Test/Stock-Year/2018_celltrion.csv', index=False)\n",
    "\n",
    "# 2019년 Celltrion\n",
    "celltrion_maeil_2019 = pd.read_csv('../../../../Code/Data/Test/Stock-Year/2019_maeil_celltrion.csv')\n",
    "celltrion_asia_2019 = pd.read_csv('../../../../Code/Data/Test/Stock-Year/2019_asia_celltrion.csv')\n",
    "celltrion_2019 = pd.concat([celltrion_maeil_2019, celltrion_asia_2019], axis=0)\n",
    "celltrion_2019.to_csv('../../../../Code/Data/Test/Stock-Year/2019_celltrion.csv', index=False)\n",
    "\n",
    "# 2020년 Celltrion\n",
    "celltrion_maeil_2020 = pd.read_csv('../../../../Code/Data/Test/Stock-Year/2020_maeil_celltrion.csv')\n",
    "celltrion_asia_2020 = pd.read_csv('../../../../Code/Data/Test/Stock-Year/2020_asia_celltrion.csv')\n",
    "celltrion_2020 = pd.concat([celltrion_maeil_2020, celltrion_asia_2020], axis=0)\n",
    "celltrion_2020.to_csv('../../../../Code/Data/Test/Stock-Year/2020_celltrion.csv', index=False)\n",
    "\n",
    "# 2021년 Celltrion\n",
    "celltrion_maeil_2021 = pd.read_csv('../../../../Code/Data/Test/Stock-Year/2021_maeil_celltrion.csv')\n",
    "celltrion_asia_2021 = pd.read_csv('../../../../Code/Data/Test/Stock-Year/2021_asia_celltrion.csv')\n",
    "celltrion_2021 = pd.concat([celltrion_maeil_2021, celltrion_asia_2021], axis=0)\n",
    "celltrion_2021.to_csv('../../../../Code/Data/Test/Stock-Year/2021_celltrion.csv', index=False)"
   ]
  },
  {
   "cell_type": "code",
   "execution_count": null,
   "id": "50dc8ebb-99eb-4dac-99a4-1756a7df5ace",
   "metadata": {},
   "outputs": [],
   "source": []
  }
 ],
 "metadata": {
  "kernelspec": {
   "display_name": "Python Multi",
   "language": "python",
   "name": "multi"
  },
  "language_info": {
   "codemirror_mode": {
    "name": "ipython",
    "version": 3
   },
   "file_extension": ".py",
   "mimetype": "text/x-python",
   "name": "python",
   "nbconvert_exporter": "python",
   "pygments_lexer": "ipython3",
   "version": "3.9.5"
  }
 },
 "nbformat": 4,
 "nbformat_minor": 5
}
